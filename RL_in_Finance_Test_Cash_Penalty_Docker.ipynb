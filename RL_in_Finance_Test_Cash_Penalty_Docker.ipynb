{
 "cells": [
  {
   "cell_type": "markdown",
   "metadata": {
    "id": "SV3q7SkbYyPH"
   },
   "source": [
    "# RL in Finance(Test Cash Penalty) \n",
    "[![Open In Colab](https://colab.research.google.com/assets/colab-badge.svg)](https://colab.research.google.com/github/sunnyswag/RL_in_Finance/blob/main/RL_in_Finance_Test_cash_penalty.ipynb)"
   ]
  },
  {
   "cell_type": "markdown",
   "metadata": {
    "id": "W67Itu99Vu2G"
   },
   "source": [
    "## 1、拉取 github 仓库，下载并导入相关包\n",
    "&emsp;&emsp;运行流程：python setup.py -> pip install -r requirements.txt"
   ]
  },
  {
   "cell_type": "code",
   "execution_count": 2,
   "metadata": {
    "colab": {
     "base_uri": "https://localhost:8080/"
    },
    "id": "Xxc9y_D5T2a0",
    "outputId": "81da4e71-6891-41f1-beaf-df508283690d"
   },
   "outputs": [],
   "source": [
    "import pandas as pd\n",
    "import numpy as np\n",
    "import matplotlib\n",
    "import matplotlib.pyplot as plt\n",
    "import datetime\n",
    "import time\n",
    "\n",
    "%matplotlib inline\n",
    "from utils import config\n",
    "from utils.pull_data import Pull_data\n",
    "from utils.preprocessors import FeatureEngineer, split_data\n",
    "from utils.env_retreat_penalty import StockTradingEnvRetreatpenalty\n",
    "from utils.models import DRL_Agent\n",
    "from utils.backtest import backtest_stats, backtest_plot, get_baseline\n",
    "import itertools\n",
    "import sys\n",
    "import codecs\n",
    "sys.path.append(\"../RL_in_Finance\")\n",
    "# sys.stdout = codecs.getwriter(\"utf-8\")(sys.stdout.detach())"
   ]
  },
  {
   "cell_type": "markdown",
   "metadata": {
    "id": "jHv-tOOOWFG3"
   },
   "source": [
    "## 2、下载数据"
   ]
  },
  {
   "cell_type": "markdown",
   "metadata": {
    "id": "btxVNBzYvV21"
   },
   "source": [
    "数据来源：Tushare API<br>\n",
    "当前用到的数据：SSE_50 和 CSI_300<br>\n",
    "数据量的大小：shape[2892 * n, 8]"
   ]
  },
  {
   "cell_type": "code",
   "execution_count": 2,
   "metadata": {
    "colab": {
     "base_uri": "https://localhost:8080/"
    },
    "id": "QnxCFcpvXdaI",
    "outputId": "65776e4a-c855-4ce0-ad07-0e7ebf3e6631"
   },
   "outputs": [
    {
     "name": "stdout",
     "output_type": "stream",
     "text": [
      "--- 开始下载 ----\n",
      "下载进度 : 20.0%\n",
      "下载进度 : 40.0%\n",
      "下载进度 : 60.0%\n",
      "下载进度 : 80.0%\n",
      "下载进度 : 100.0%\n",
      "--- 下载完成 ----\n",
      "DataFrame 的大小:  (114845, 8)\n"
     ]
    }
   ],
   "source": [
    "# stock_list = config.SSE_50\n",
    "# df = Pull_data(stock_list, save_data=False).pull_data()"
   ]
  },
  {
   "cell_type": "code",
   "execution_count": 3,
   "metadata": {
    "colab": {
     "base_uri": "https://localhost:8080/",
     "height": 202
    },
    "id": "UqmzIFv9Xjq_",
    "outputId": "522b3fbf-47f3-42c6-ae05-07dacb300263"
   },
   "outputs": [
    {
     "data": {
      "text/html": [
       "<div>\n",
       "<style scoped>\n",
       "    .dataframe tbody tr th:only-of-type {\n",
       "        vertical-align: middle;\n",
       "    }\n",
       "\n",
       "    .dataframe tbody tr th {\n",
       "        vertical-align: top;\n",
       "    }\n",
       "\n",
       "    .dataframe thead th {\n",
       "        text-align: right;\n",
       "    }\n",
       "</style>\n",
       "<table border=\"1\" class=\"dataframe\">\n",
       "  <thead>\n",
       "    <tr style=\"text-align: right;\">\n",
       "      <th></th>\n",
       "      <th>date</th>\n",
       "      <th>tic</th>\n",
       "      <th>open</th>\n",
       "      <th>high</th>\n",
       "      <th>low</th>\n",
       "      <th>close</th>\n",
       "      <th>volume</th>\n",
       "      <th>day</th>\n",
       "    </tr>\n",
       "  </thead>\n",
       "  <tbody>\n",
       "    <tr>\n",
       "      <th>0</th>\n",
       "      <td>2009-01-05</td>\n",
       "      <td>600000.SH</td>\n",
       "      <td>2.7584</td>\n",
       "      <td>2.8115</td>\n",
       "      <td>2.7258</td>\n",
       "      <td>2.8013</td>\n",
       "      <td>503142.56</td>\n",
       "      <td>0</td>\n",
       "    </tr>\n",
       "    <tr>\n",
       "      <th>1</th>\n",
       "      <td>2009-01-05</td>\n",
       "      <td>600009.SH</td>\n",
       "      <td>9.4665</td>\n",
       "      <td>9.6505</td>\n",
       "      <td>9.4414</td>\n",
       "      <td>9.5836</td>\n",
       "      <td>52100.33</td>\n",
       "      <td>0</td>\n",
       "    </tr>\n",
       "    <tr>\n",
       "      <th>2</th>\n",
       "      <td>2009-01-05</td>\n",
       "      <td>600016.SH</td>\n",
       "      <td>1.6369</td>\n",
       "      <td>1.6487</td>\n",
       "      <td>1.6170</td>\n",
       "      <td>1.6448</td>\n",
       "      <td>947739.82</td>\n",
       "      <td>0</td>\n",
       "    </tr>\n",
       "    <tr>\n",
       "      <th>3</th>\n",
       "      <td>2009-01-05</td>\n",
       "      <td>600028.SH</td>\n",
       "      <td>3.1966</td>\n",
       "      <td>3.2461</td>\n",
       "      <td>3.1786</td>\n",
       "      <td>3.2371</td>\n",
       "      <td>361085.66</td>\n",
       "      <td>0</td>\n",
       "    </tr>\n",
       "    <tr>\n",
       "      <th>4</th>\n",
       "      <td>2009-01-05</td>\n",
       "      <td>600030.SH</td>\n",
       "      <td>9.2667</td>\n",
       "      <td>9.5705</td>\n",
       "      <td>9.1654</td>\n",
       "      <td>9.5502</td>\n",
       "      <td>818978.41</td>\n",
       "      <td>0</td>\n",
       "    </tr>\n",
       "  </tbody>\n",
       "</table>\n",
       "</div>"
      ],
      "text/plain": [
       "         date        tic    open    high     low   close     volume  day\n",
       "0  2009-01-05  600000.SH  2.7584  2.8115  2.7258  2.8013  503142.56    0\n",
       "1  2009-01-05  600009.SH  9.4665  9.6505  9.4414  9.5836   52100.33    0\n",
       "2  2009-01-05  600016.SH  1.6369  1.6487  1.6170  1.6448  947739.82    0\n",
       "3  2009-01-05  600028.SH  3.1966  3.2461  3.1786  3.2371  361085.66    0\n",
       "4  2009-01-05  600030.SH  9.2667  9.5705  9.1654  9.5502  818978.41    0"
      ]
     },
     "execution_count": 3,
     "metadata": {},
     "output_type": "execute_result"
    }
   ],
   "source": [
    "# df.sort_values(['date', 'tic'], ignore_index=True).head()"
   ]
  },
  {
   "cell_type": "code",
   "execution_count": 4,
   "metadata": {
    "colab": {
     "base_uri": "https://localhost:8080/"
    },
    "id": "nmVukaFnWgAe",
    "outputId": "2d612f84-65dc-4a81-8e4b-f3b3be49854f"
   },
   "outputs": [
    {
     "name": "stdout",
     "output_type": "stream",
     "text": [
      "数据下载的时间区间为：20090101 至 20210101\n"
     ]
    }
   ],
   "source": [
    "# print(\"数据下载的时间区间为：{} 至 {}\".format(config.Start_Date, config.End_Date))"
   ]
  },
  {
   "cell_type": "code",
   "execution_count": 5,
   "metadata": {
    "colab": {
     "base_uri": "https://localhost:8080/"
    },
    "id": "bBIe5VuwXLY_",
    "outputId": "4bb36f27-aa42-42aa-8283-4253f1c7ee05"
   },
   "outputs": [
    {
     "name": "stdout",
     "output_type": "stream",
     "text": [
      "下载的股票列表为: \n",
      "['600000.SH', '600009.SH', '600016.SH', '600028.SH', '600030.SH', '600031.SH', '600036.SH', '600048.SH', '600050.SH', '600104.SH', '600196.SH', '600276.SH', '600309.SH', '600519.SH', '600547.SH', '600570.SH', '600585.SH', '600588.SH', '600690.SH', '600703.SH', '600745.SH', '600837.SH', '600887.SH', '600918.SH', '601012.SH', '601066.SH', '601088.SH', '601138.SH', '601166.SH', '601186.SH', '601211.SH', '601236.SH', '601288.SH', '601318.SH', '601319.SH', '601336.SH', '601398.SH', '601601.SH', '601628.SH', '601668.SH', '601688.SH', '601816.SH', '601818.SH', '601857.SH', '601888.SH', '603160.SH', '603259.SH', '603288.SH', '603501.SH', '603986.SH']\n"
     ]
    }
   ],
   "source": [
    "# print(\"下载的股票列表为: \")\n",
    "# print(stock_list)"
   ]
  },
  {
   "cell_type": "markdown",
   "metadata": {
    "id": "6EI_Q4pOW_FG"
   },
   "source": [
    "## 3、数据预处理"
   ]
  },
  {
   "cell_type": "code",
   "execution_count": 6,
   "metadata": {
    "colab": {
     "base_uri": "https://localhost:8080/"
    },
    "id": "9VY5MQ_kUVpz",
    "outputId": "a7547759-d109-4bd2-9192-843c80b4e640"
   },
   "outputs": [
    {
     "name": "stdout",
     "output_type": "stream",
     "text": [
      "成功添加技术指标\n",
      "对当前时间段未上市的公司的所有行置零\n"
     ]
    },
    {
     "name": "stderr",
     "output_type": "stream",
     "text": [
      "/opt/conda/lib/python3.6/site-packages/pandas/core/series.py:726: RuntimeWarning: divide by zero encountered in log\n",
      "  result = getattr(ufunc, method)(*inputs, **kwargs)\n"
     ]
    }
   ],
   "source": [
    "# processed_df = FeatureEngineer(use_technical_indicator=True).preprocess_data(df)\n",
    "# processed_df['log_volume'] = np.log(processed_df.volume*processed_df.close)\n",
    "# processed_df['change'] = (processed_df.close-processed_df.open)/processed_df.close\n",
    "# processed_df['daily_variance'] = (processed_df.high-processed_df.low)/processed_df.close"
   ]
  },
  {
   "cell_type": "code",
   "execution_count": 7,
   "metadata": {},
   "outputs": [],
   "source": [
    "# processed_df = processed_df.fillna(0)"
   ]
  },
  {
   "cell_type": "code",
   "execution_count": 8,
   "metadata": {
    "colab": {
     "base_uri": "https://localhost:8080/"
    },
    "id": "Cm_Z8uytXIVv",
    "outputId": "36db3532-36d4-4ce0-fc65-88da050f73da"
   },
   "outputs": [
    {
     "name": "stdout",
     "output_type": "stream",
     "text": [
      "技术指标列表: \n",
      "['boll_ub', 'boll_lb', 'rsi_30', 'cci_30', 'dx_30', 'macd', 'volume_20_sma', 'volume_60_sma', 'volume_120_sma', 'close_20_sma', 'close_60_sma', 'close_120_sma']\n",
      "技术指标数: 12个\n"
     ]
    }
   ],
   "source": [
    "# print(\"技术指标列表: \")\n",
    "# print(config.TECHNICAL_INDICATORS_LIST)\n",
    "# print(\"技术指标数: {}个\".format(len(config.TECHNICAL_INDICATORS_LIST)))"
   ]
  },
  {
   "cell_type": "code",
   "execution_count": 9,
   "metadata": {
    "colab": {
     "base_uri": "https://localhost:8080/",
     "height": 309
    },
    "id": "e4wNTZBWYyZK",
    "outputId": "adb8de06-8330-42be-b367-33d1fb2eeee5"
   },
   "outputs": [
    {
     "data": {
      "text/html": [
       "<div>\n",
       "<style scoped>\n",
       "    .dataframe tbody tr th:only-of-type {\n",
       "        vertical-align: middle;\n",
       "    }\n",
       "\n",
       "    .dataframe tbody tr th {\n",
       "        vertical-align: top;\n",
       "    }\n",
       "\n",
       "    .dataframe thead th {\n",
       "        text-align: right;\n",
       "    }\n",
       "</style>\n",
       "<table border=\"1\" class=\"dataframe\">\n",
       "  <thead>\n",
       "    <tr style=\"text-align: right;\">\n",
       "      <th></th>\n",
       "      <th>date</th>\n",
       "      <th>tic</th>\n",
       "      <th>open</th>\n",
       "      <th>high</th>\n",
       "      <th>low</th>\n",
       "      <th>close</th>\n",
       "      <th>volume</th>\n",
       "      <th>day</th>\n",
       "      <th>boll_ub</th>\n",
       "      <th>boll_lb</th>\n",
       "      <th>...</th>\n",
       "      <th>macd</th>\n",
       "      <th>volume_20_sma</th>\n",
       "      <th>volume_60_sma</th>\n",
       "      <th>volume_120_sma</th>\n",
       "      <th>close_20_sma</th>\n",
       "      <th>close_60_sma</th>\n",
       "      <th>close_120_sma</th>\n",
       "      <th>log_volume</th>\n",
       "      <th>change</th>\n",
       "      <th>daily_variance</th>\n",
       "    </tr>\n",
       "  </thead>\n",
       "  <tbody>\n",
       "    <tr>\n",
       "      <th>0</th>\n",
       "      <td>2009-01-05</td>\n",
       "      <td>600000.SH</td>\n",
       "      <td>2.7584</td>\n",
       "      <td>2.8115</td>\n",
       "      <td>2.7258</td>\n",
       "      <td>2.8013</td>\n",
       "      <td>503142.56</td>\n",
       "      <td>0.0</td>\n",
       "      <td>0.0</td>\n",
       "      <td>0.0</td>\n",
       "      <td>...</td>\n",
       "      <td>0.0</td>\n",
       "      <td>503142.56</td>\n",
       "      <td>503142.56</td>\n",
       "      <td>503142.56</td>\n",
       "      <td>2.8013</td>\n",
       "      <td>2.8013</td>\n",
       "      <td>2.8013</td>\n",
       "      <td>14.158712</td>\n",
       "      <td>0.015314</td>\n",
       "      <td>0.030593</td>\n",
       "    </tr>\n",
       "    <tr>\n",
       "      <th>1</th>\n",
       "      <td>2009-01-05</td>\n",
       "      <td>600009.SH</td>\n",
       "      <td>9.4665</td>\n",
       "      <td>9.6505</td>\n",
       "      <td>9.4414</td>\n",
       "      <td>9.5836</td>\n",
       "      <td>52100.33</td>\n",
       "      <td>0.0</td>\n",
       "      <td>0.0</td>\n",
       "      <td>0.0</td>\n",
       "      <td>...</td>\n",
       "      <td>0.0</td>\n",
       "      <td>52100.33</td>\n",
       "      <td>52100.33</td>\n",
       "      <td>52100.33</td>\n",
       "      <td>9.5836</td>\n",
       "      <td>9.5836</td>\n",
       "      <td>9.5836</td>\n",
       "      <td>13.120980</td>\n",
       "      <td>0.012219</td>\n",
       "      <td>0.021819</td>\n",
       "    </tr>\n",
       "    <tr>\n",
       "      <th>2</th>\n",
       "      <td>2009-01-05</td>\n",
       "      <td>600016.SH</td>\n",
       "      <td>1.6369</td>\n",
       "      <td>1.6487</td>\n",
       "      <td>1.6170</td>\n",
       "      <td>1.6448</td>\n",
       "      <td>947739.82</td>\n",
       "      <td>0.0</td>\n",
       "      <td>0.0</td>\n",
       "      <td>0.0</td>\n",
       "      <td>...</td>\n",
       "      <td>0.0</td>\n",
       "      <td>947739.82</td>\n",
       "      <td>947739.82</td>\n",
       "      <td>947739.82</td>\n",
       "      <td>1.6448</td>\n",
       "      <td>1.6448</td>\n",
       "      <td>1.6448</td>\n",
       "      <td>14.259454</td>\n",
       "      <td>0.004803</td>\n",
       "      <td>0.019273</td>\n",
       "    </tr>\n",
       "    <tr>\n",
       "      <th>3</th>\n",
       "      <td>2009-01-05</td>\n",
       "      <td>600028.SH</td>\n",
       "      <td>3.1966</td>\n",
       "      <td>3.2461</td>\n",
       "      <td>3.1786</td>\n",
       "      <td>3.2371</td>\n",
       "      <td>361085.66</td>\n",
       "      <td>0.0</td>\n",
       "      <td>0.0</td>\n",
       "      <td>0.0</td>\n",
       "      <td>...</td>\n",
       "      <td>0.0</td>\n",
       "      <td>361085.66</td>\n",
       "      <td>361085.66</td>\n",
       "      <td>361085.66</td>\n",
       "      <td>3.2371</td>\n",
       "      <td>3.2371</td>\n",
       "      <td>3.2371</td>\n",
       "      <td>13.971548</td>\n",
       "      <td>0.012511</td>\n",
       "      <td>0.020852</td>\n",
       "    </tr>\n",
       "    <tr>\n",
       "      <th>4</th>\n",
       "      <td>2009-01-05</td>\n",
       "      <td>600030.SH</td>\n",
       "      <td>9.2667</td>\n",
       "      <td>9.5705</td>\n",
       "      <td>9.1654</td>\n",
       "      <td>9.5502</td>\n",
       "      <td>818978.41</td>\n",
       "      <td>0.0</td>\n",
       "      <td>0.0</td>\n",
       "      <td>0.0</td>\n",
       "      <td>...</td>\n",
       "      <td>0.0</td>\n",
       "      <td>818978.41</td>\n",
       "      <td>818978.41</td>\n",
       "      <td>818978.41</td>\n",
       "      <td>9.5502</td>\n",
       "      <td>9.5502</td>\n",
       "      <td>9.5502</td>\n",
       "      <td>15.872375</td>\n",
       "      <td>0.029685</td>\n",
       "      <td>0.042418</td>\n",
       "    </tr>\n",
       "  </tbody>\n",
       "</table>\n",
       "<p>5 rows × 23 columns</p>\n",
       "</div>"
      ],
      "text/plain": [
       "         date        tic    open    high     low   close     volume  day  \\\n",
       "0  2009-01-05  600000.SH  2.7584  2.8115  2.7258  2.8013  503142.56  0.0   \n",
       "1  2009-01-05  600009.SH  9.4665  9.6505  9.4414  9.5836   52100.33  0.0   \n",
       "2  2009-01-05  600016.SH  1.6369  1.6487  1.6170  1.6448  947739.82  0.0   \n",
       "3  2009-01-05  600028.SH  3.1966  3.2461  3.1786  3.2371  361085.66  0.0   \n",
       "4  2009-01-05  600030.SH  9.2667  9.5705  9.1654  9.5502  818978.41  0.0   \n",
       "\n",
       "   boll_ub  boll_lb  ...  macd  volume_20_sma  volume_60_sma  volume_120_sma  \\\n",
       "0      0.0      0.0  ...   0.0      503142.56      503142.56       503142.56   \n",
       "1      0.0      0.0  ...   0.0       52100.33       52100.33        52100.33   \n",
       "2      0.0      0.0  ...   0.0      947739.82      947739.82       947739.82   \n",
       "3      0.0      0.0  ...   0.0      361085.66      361085.66       361085.66   \n",
       "4      0.0      0.0  ...   0.0      818978.41      818978.41       818978.41   \n",
       "\n",
       "   close_20_sma  close_60_sma  close_120_sma  log_volume    change  \\\n",
       "0        2.8013        2.8013         2.8013   14.158712  0.015314   \n",
       "1        9.5836        9.5836         9.5836   13.120980  0.012219   \n",
       "2        1.6448        1.6448         1.6448   14.259454  0.004803   \n",
       "3        3.2371        3.2371         3.2371   13.971548  0.012511   \n",
       "4        9.5502        9.5502         9.5502   15.872375  0.029685   \n",
       "\n",
       "   daily_variance  \n",
       "0        0.030593  \n",
       "1        0.021819  \n",
       "2        0.019273  \n",
       "3        0.020852  \n",
       "4        0.042418  \n",
       "\n",
       "[5 rows x 23 columns]"
      ]
     },
     "execution_count": 9,
     "metadata": {},
     "output_type": "execute_result"
    }
   ],
   "source": [
    "# processed_df.head()"
   ]
  },
  {
   "cell_type": "code",
   "execution_count": 3,
   "metadata": {},
   "outputs": [],
   "source": [
    "# processed_df.to_csv(\"processed_df.csv\", index = False)\n",
    "processed_df = pd.read_csv(\"processed_df.csv\")"
   ]
  },
  {
   "cell_type": "code",
   "execution_count": 4,
   "metadata": {
    "id": "uDHoMhRsY-6H"
   },
   "outputs": [],
   "source": [
    "train_data = split_data(processed_df, config.Start_Trade_Date, config.End_Trade_Date)\n",
    "test_data = split_data(processed_df, config.End_Trade_Date, config.End_Test_Date)"
   ]
  },
  {
   "cell_type": "code",
   "execution_count": 5,
   "metadata": {
    "colab": {
     "base_uri": "https://localhost:8080/"
    },
    "id": "WoPNyYr4ZxD2",
    "outputId": "1fac98f2-471c-4ceb-8fcd-69a25cdc0e46"
   },
   "outputs": [
    {
     "name": "stdout",
     "output_type": "stream",
     "text": [
      "训练数据的范围：2009-01-01 至 2019-01-01\n",
      "测试数据的范围：2019-01-01 至 2021-01-01\n",
      "训练数据的长度: 121550,测试数据的长度:24350\n",
      "训练集数据 : 测试集数据: 5.0 : 1\n"
     ]
    }
   ],
   "source": [
    "print(\"训练数据的范围：{} 至 {}\".format(config.Start_Trade_Date, config.End_Trade_Date))\n",
    "print(\"测试数据的范围：{} 至 {}\".format(config.End_Trade_Date, config.End_Test_Date))\n",
    "print(\"训练数据的长度: {},测试数据的长度:{}\".format(len(train_data), len(test_data)))\n",
    "print(\"训练集数据 : 测试集数据: {} : {}\".format(round(len(train_data)/len(test_data),1), 1))"
   ]
  },
  {
   "cell_type": "code",
   "execution_count": 6,
   "metadata": {
    "colab": {
     "base_uri": "https://localhost:8080/",
     "height": 309
    },
    "id": "BPny-EJbaS_S",
    "outputId": "eee3a7bd-fb65-4313-b7f4-08c2d01423d8"
   },
   "outputs": [
    {
     "data": {
      "text/html": [
       "<div>\n",
       "<style scoped>\n",
       "    .dataframe tbody tr th:only-of-type {\n",
       "        vertical-align: middle;\n",
       "    }\n",
       "\n",
       "    .dataframe tbody tr th {\n",
       "        vertical-align: top;\n",
       "    }\n",
       "\n",
       "    .dataframe thead th {\n",
       "        text-align: right;\n",
       "    }\n",
       "</style>\n",
       "<table border=\"1\" class=\"dataframe\">\n",
       "  <thead>\n",
       "    <tr style=\"text-align: right;\">\n",
       "      <th></th>\n",
       "      <th>date</th>\n",
       "      <th>tic</th>\n",
       "      <th>open</th>\n",
       "      <th>high</th>\n",
       "      <th>low</th>\n",
       "      <th>close</th>\n",
       "      <th>volume</th>\n",
       "      <th>day</th>\n",
       "      <th>boll_ub</th>\n",
       "      <th>boll_lb</th>\n",
       "      <th>...</th>\n",
       "      <th>macd</th>\n",
       "      <th>volume_20_sma</th>\n",
       "      <th>volume_60_sma</th>\n",
       "      <th>volume_120_sma</th>\n",
       "      <th>close_20_sma</th>\n",
       "      <th>close_60_sma</th>\n",
       "      <th>close_120_sma</th>\n",
       "      <th>log_volume</th>\n",
       "      <th>change</th>\n",
       "      <th>daily_variance</th>\n",
       "    </tr>\n",
       "  </thead>\n",
       "  <tbody>\n",
       "    <tr>\n",
       "      <th>0</th>\n",
       "      <td>2009-01-05</td>\n",
       "      <td>600000.SH</td>\n",
       "      <td>2.7584</td>\n",
       "      <td>2.8115</td>\n",
       "      <td>2.7258</td>\n",
       "      <td>2.8013</td>\n",
       "      <td>503142.56</td>\n",
       "      <td>0.0</td>\n",
       "      <td>0.0</td>\n",
       "      <td>0.0</td>\n",
       "      <td>...</td>\n",
       "      <td>0.0</td>\n",
       "      <td>503142.56</td>\n",
       "      <td>503142.56</td>\n",
       "      <td>503142.56</td>\n",
       "      <td>2.8013</td>\n",
       "      <td>2.8013</td>\n",
       "      <td>2.8013</td>\n",
       "      <td>14.158712</td>\n",
       "      <td>0.015314</td>\n",
       "      <td>0.030593</td>\n",
       "    </tr>\n",
       "    <tr>\n",
       "      <th>0</th>\n",
       "      <td>2009-01-05</td>\n",
       "      <td>600009.SH</td>\n",
       "      <td>9.4665</td>\n",
       "      <td>9.6505</td>\n",
       "      <td>9.4414</td>\n",
       "      <td>9.5836</td>\n",
       "      <td>52100.33</td>\n",
       "      <td>0.0</td>\n",
       "      <td>0.0</td>\n",
       "      <td>0.0</td>\n",
       "      <td>...</td>\n",
       "      <td>0.0</td>\n",
       "      <td>52100.33</td>\n",
       "      <td>52100.33</td>\n",
       "      <td>52100.33</td>\n",
       "      <td>9.5836</td>\n",
       "      <td>9.5836</td>\n",
       "      <td>9.5836</td>\n",
       "      <td>13.120980</td>\n",
       "      <td>0.012219</td>\n",
       "      <td>0.021819</td>\n",
       "    </tr>\n",
       "    <tr>\n",
       "      <th>0</th>\n",
       "      <td>2009-01-05</td>\n",
       "      <td>600016.SH</td>\n",
       "      <td>1.6369</td>\n",
       "      <td>1.6487</td>\n",
       "      <td>1.6170</td>\n",
       "      <td>1.6448</td>\n",
       "      <td>947739.82</td>\n",
       "      <td>0.0</td>\n",
       "      <td>0.0</td>\n",
       "      <td>0.0</td>\n",
       "      <td>...</td>\n",
       "      <td>0.0</td>\n",
       "      <td>947739.82</td>\n",
       "      <td>947739.82</td>\n",
       "      <td>947739.82</td>\n",
       "      <td>1.6448</td>\n",
       "      <td>1.6448</td>\n",
       "      <td>1.6448</td>\n",
       "      <td>14.259454</td>\n",
       "      <td>0.004803</td>\n",
       "      <td>0.019273</td>\n",
       "    </tr>\n",
       "    <tr>\n",
       "      <th>0</th>\n",
       "      <td>2009-01-05</td>\n",
       "      <td>600028.SH</td>\n",
       "      <td>3.1966</td>\n",
       "      <td>3.2461</td>\n",
       "      <td>3.1786</td>\n",
       "      <td>3.2371</td>\n",
       "      <td>361085.66</td>\n",
       "      <td>0.0</td>\n",
       "      <td>0.0</td>\n",
       "      <td>0.0</td>\n",
       "      <td>...</td>\n",
       "      <td>0.0</td>\n",
       "      <td>361085.66</td>\n",
       "      <td>361085.66</td>\n",
       "      <td>361085.66</td>\n",
       "      <td>3.2371</td>\n",
       "      <td>3.2371</td>\n",
       "      <td>3.2371</td>\n",
       "      <td>13.971548</td>\n",
       "      <td>0.012511</td>\n",
       "      <td>0.020852</td>\n",
       "    </tr>\n",
       "    <tr>\n",
       "      <th>0</th>\n",
       "      <td>2009-01-05</td>\n",
       "      <td>600030.SH</td>\n",
       "      <td>9.2667</td>\n",
       "      <td>9.5705</td>\n",
       "      <td>9.1654</td>\n",
       "      <td>9.5502</td>\n",
       "      <td>818978.41</td>\n",
       "      <td>0.0</td>\n",
       "      <td>0.0</td>\n",
       "      <td>0.0</td>\n",
       "      <td>...</td>\n",
       "      <td>0.0</td>\n",
       "      <td>818978.41</td>\n",
       "      <td>818978.41</td>\n",
       "      <td>818978.41</td>\n",
       "      <td>9.5502</td>\n",
       "      <td>9.5502</td>\n",
       "      <td>9.5502</td>\n",
       "      <td>15.872375</td>\n",
       "      <td>0.029685</td>\n",
       "      <td>0.042418</td>\n",
       "    </tr>\n",
       "  </tbody>\n",
       "</table>\n",
       "<p>5 rows × 23 columns</p>\n",
       "</div>"
      ],
      "text/plain": [
       "         date        tic    open    high     low   close     volume  day  \\\n",
       "0  2009-01-05  600000.SH  2.7584  2.8115  2.7258  2.8013  503142.56  0.0   \n",
       "0  2009-01-05  600009.SH  9.4665  9.6505  9.4414  9.5836   52100.33  0.0   \n",
       "0  2009-01-05  600016.SH  1.6369  1.6487  1.6170  1.6448  947739.82  0.0   \n",
       "0  2009-01-05  600028.SH  3.1966  3.2461  3.1786  3.2371  361085.66  0.0   \n",
       "0  2009-01-05  600030.SH  9.2667  9.5705  9.1654  9.5502  818978.41  0.0   \n",
       "\n",
       "   boll_ub  boll_lb  ...  macd  volume_20_sma  volume_60_sma  volume_120_sma  \\\n",
       "0      0.0      0.0  ...   0.0      503142.56      503142.56       503142.56   \n",
       "0      0.0      0.0  ...   0.0       52100.33       52100.33        52100.33   \n",
       "0      0.0      0.0  ...   0.0      947739.82      947739.82       947739.82   \n",
       "0      0.0      0.0  ...   0.0      361085.66      361085.66       361085.66   \n",
       "0      0.0      0.0  ...   0.0      818978.41      818978.41       818978.41   \n",
       "\n",
       "   close_20_sma  close_60_sma  close_120_sma  log_volume    change  \\\n",
       "0        2.8013        2.8013         2.8013   14.158712  0.015314   \n",
       "0        9.5836        9.5836         9.5836   13.120980  0.012219   \n",
       "0        1.6448        1.6448         1.6448   14.259454  0.004803   \n",
       "0        3.2371        3.2371         3.2371   13.971548  0.012511   \n",
       "0        9.5502        9.5502         9.5502   15.872375  0.029685   \n",
       "\n",
       "   daily_variance  \n",
       "0        0.030593  \n",
       "0        0.021819  \n",
       "0        0.019273  \n",
       "0        0.020852  \n",
       "0        0.042418  \n",
       "\n",
       "[5 rows x 23 columns]"
      ]
     },
     "execution_count": 6,
     "metadata": {},
     "output_type": "execute_result"
    }
   ],
   "source": [
    "train_data.head()"
   ]
  },
  {
   "cell_type": "code",
   "execution_count": 7,
   "metadata": {
    "colab": {
     "base_uri": "https://localhost:8080/",
     "height": 309
    },
    "id": "SymPC9A86mNs",
    "outputId": "69a64322-b26a-4ff6-a658-ef7ce208e046"
   },
   "outputs": [
    {
     "data": {
      "text/html": [
       "<div>\n",
       "<style scoped>\n",
       "    .dataframe tbody tr th:only-of-type {\n",
       "        vertical-align: middle;\n",
       "    }\n",
       "\n",
       "    .dataframe tbody tr th {\n",
       "        vertical-align: top;\n",
       "    }\n",
       "\n",
       "    .dataframe thead th {\n",
       "        text-align: right;\n",
       "    }\n",
       "</style>\n",
       "<table border=\"1\" class=\"dataframe\">\n",
       "  <thead>\n",
       "    <tr style=\"text-align: right;\">\n",
       "      <th></th>\n",
       "      <th>date</th>\n",
       "      <th>tic</th>\n",
       "      <th>open</th>\n",
       "      <th>high</th>\n",
       "      <th>low</th>\n",
       "      <th>close</th>\n",
       "      <th>volume</th>\n",
       "      <th>day</th>\n",
       "      <th>boll_ub</th>\n",
       "      <th>boll_lb</th>\n",
       "      <th>...</th>\n",
       "      <th>macd</th>\n",
       "      <th>volume_20_sma</th>\n",
       "      <th>volume_60_sma</th>\n",
       "      <th>volume_120_sma</th>\n",
       "      <th>close_20_sma</th>\n",
       "      <th>close_60_sma</th>\n",
       "      <th>close_120_sma</th>\n",
       "      <th>log_volume</th>\n",
       "      <th>change</th>\n",
       "      <th>daily_variance</th>\n",
       "    </tr>\n",
       "  </thead>\n",
       "  <tbody>\n",
       "    <tr>\n",
       "      <th>0</th>\n",
       "      <td>2019-01-02</td>\n",
       "      <td>600000.SH</td>\n",
       "      <td>8.9589</td>\n",
       "      <td>9.0049</td>\n",
       "      <td>8.8117</td>\n",
       "      <td>8.9221</td>\n",
       "      <td>237628.22</td>\n",
       "      <td>2.0</td>\n",
       "      <td>10.502893</td>\n",
       "      <td>8.657577</td>\n",
       "      <td>...</td>\n",
       "      <td>-0.251945</td>\n",
       "      <td>2.152395e+05</td>\n",
       "      <td>2.430301e+05</td>\n",
       "      <td>2.210339e+05</td>\n",
       "      <td>9.580235</td>\n",
       "      <td>9.716063</td>\n",
       "      <td>9.475849</td>\n",
       "      <td>14.566994</td>\n",
       "      <td>-0.004125</td>\n",
       "      <td>0.021654</td>\n",
       "    </tr>\n",
       "    <tr>\n",
       "      <th>0</th>\n",
       "      <td>2019-01-02</td>\n",
       "      <td>600009.SH</td>\n",
       "      <td>49.6941</td>\n",
       "      <td>49.8119</td>\n",
       "      <td>48.8298</td>\n",
       "      <td>49.4780</td>\n",
       "      <td>40051.97</td>\n",
       "      <td>2.0</td>\n",
       "      <td>51.140976</td>\n",
       "      <td>48.044854</td>\n",
       "      <td>...</td>\n",
       "      <td>0.025528</td>\n",
       "      <td>3.263298e+04</td>\n",
       "      <td>5.353243e+04</td>\n",
       "      <td>5.799566e+04</td>\n",
       "      <td>49.592915</td>\n",
       "      <td>49.906370</td>\n",
       "      <td>53.102410</td>\n",
       "      <td>14.499461</td>\n",
       "      <td>-0.004368</td>\n",
       "      <td>0.019849</td>\n",
       "    </tr>\n",
       "    <tr>\n",
       "      <th>0</th>\n",
       "      <td>2019-01-02</td>\n",
       "      <td>600016.SH</td>\n",
       "      <td>5.0982</td>\n",
       "      <td>5.1071</td>\n",
       "      <td>5.0002</td>\n",
       "      <td>5.0358</td>\n",
       "      <td>579415.00</td>\n",
       "      <td>2.0</td>\n",
       "      <td>5.554261</td>\n",
       "      <td>4.922929</td>\n",
       "      <td>...</td>\n",
       "      <td>-0.108006</td>\n",
       "      <td>6.324888e+05</td>\n",
       "      <td>6.533327e+05</td>\n",
       "      <td>6.093035e+05</td>\n",
       "      <td>5.238595</td>\n",
       "      <td>5.419815</td>\n",
       "      <td>5.361655</td>\n",
       "      <td>14.886347</td>\n",
       "      <td>-0.012391</td>\n",
       "      <td>0.021228</td>\n",
       "    </tr>\n",
       "    <tr>\n",
       "      <th>0</th>\n",
       "      <td>2019-01-02</td>\n",
       "      <td>600028.SH</td>\n",
       "      <td>4.4596</td>\n",
       "      <td>4.4684</td>\n",
       "      <td>4.3372</td>\n",
       "      <td>4.3809</td>\n",
       "      <td>2185583.70</td>\n",
       "      <td>2.0</td>\n",
       "      <td>5.502448</td>\n",
       "      <td>4.478342</td>\n",
       "      <td>...</td>\n",
       "      <td>-0.185334</td>\n",
       "      <td>1.141945e+06</td>\n",
       "      <td>1.169240e+06</td>\n",
       "      <td>1.067717e+06</td>\n",
       "      <td>4.990395</td>\n",
       "      <td>5.276185</td>\n",
       "      <td>5.487852</td>\n",
       "      <td>16.074648</td>\n",
       "      <td>-0.017964</td>\n",
       "      <td>0.029948</td>\n",
       "    </tr>\n",
       "    <tr>\n",
       "      <th>0</th>\n",
       "      <td>2019-01-02</td>\n",
       "      <td>600030.SH</td>\n",
       "      <td>0.0000</td>\n",
       "      <td>0.0000</td>\n",
       "      <td>0.0000</td>\n",
       "      <td>0.0000</td>\n",
       "      <td>0.00</td>\n",
       "      <td>0.0</td>\n",
       "      <td>0.000000</td>\n",
       "      <td>0.000000</td>\n",
       "      <td>...</td>\n",
       "      <td>0.000000</td>\n",
       "      <td>0.000000e+00</td>\n",
       "      <td>0.000000e+00</td>\n",
       "      <td>0.000000e+00</td>\n",
       "      <td>0.000000</td>\n",
       "      <td>0.000000</td>\n",
       "      <td>0.000000</td>\n",
       "      <td>-inf</td>\n",
       "      <td>0.000000</td>\n",
       "      <td>0.000000</td>\n",
       "    </tr>\n",
       "  </tbody>\n",
       "</table>\n",
       "<p>5 rows × 23 columns</p>\n",
       "</div>"
      ],
      "text/plain": [
       "         date        tic     open     high      low    close      volume  day  \\\n",
       "0  2019-01-02  600000.SH   8.9589   9.0049   8.8117   8.9221   237628.22  2.0   \n",
       "0  2019-01-02  600009.SH  49.6941  49.8119  48.8298  49.4780    40051.97  2.0   \n",
       "0  2019-01-02  600016.SH   5.0982   5.1071   5.0002   5.0358   579415.00  2.0   \n",
       "0  2019-01-02  600028.SH   4.4596   4.4684   4.3372   4.3809  2185583.70  2.0   \n",
       "0  2019-01-02  600030.SH   0.0000   0.0000   0.0000   0.0000        0.00  0.0   \n",
       "\n",
       "     boll_ub    boll_lb  ...      macd  volume_20_sma  volume_60_sma  \\\n",
       "0  10.502893   8.657577  ... -0.251945   2.152395e+05   2.430301e+05   \n",
       "0  51.140976  48.044854  ...  0.025528   3.263298e+04   5.353243e+04   \n",
       "0   5.554261   4.922929  ... -0.108006   6.324888e+05   6.533327e+05   \n",
       "0   5.502448   4.478342  ... -0.185334   1.141945e+06   1.169240e+06   \n",
       "0   0.000000   0.000000  ...  0.000000   0.000000e+00   0.000000e+00   \n",
       "\n",
       "   volume_120_sma  close_20_sma  close_60_sma  close_120_sma  log_volume  \\\n",
       "0    2.210339e+05      9.580235      9.716063       9.475849   14.566994   \n",
       "0    5.799566e+04     49.592915     49.906370      53.102410   14.499461   \n",
       "0    6.093035e+05      5.238595      5.419815       5.361655   14.886347   \n",
       "0    1.067717e+06      4.990395      5.276185       5.487852   16.074648   \n",
       "0    0.000000e+00      0.000000      0.000000       0.000000        -inf   \n",
       "\n",
       "     change  daily_variance  \n",
       "0 -0.004125        0.021654  \n",
       "0 -0.004368        0.019849  \n",
       "0 -0.012391        0.021228  \n",
       "0 -0.017964        0.029948  \n",
       "0  0.000000        0.000000  \n",
       "\n",
       "[5 rows x 23 columns]"
      ]
     },
     "execution_count": 7,
     "metadata": {},
     "output_type": "execute_result"
    }
   ],
   "source": [
    "test_data.head()"
   ]
  },
  {
   "cell_type": "markdown",
   "metadata": {
    "id": "98kYgqGmagbD"
   },
   "source": [
    "## 4、初始化环境"
   ]
  },
  {
   "cell_type": "markdown",
   "metadata": {
    "id": "MDlKRLpaa38j"
   },
   "source": [
    "**state_space 由四部分组成 :** <br>\n",
    "1. 当天的资金量\n",
    "2. 每只股票当天的收盘价\n",
    "3. 每只股票当天的持仓量\n",
    "4. 股票数 * 技术指标数<br>\n",
    "5. 当天成交量\n",
    "\n",
    "**reward 的计算方式：**<br>\n",
    "* reward 交易前的总资产-当天交易后的总资产 = 当天交易的手续费\n",
    "* TODO：待改进\n",
    "\n",
    "**action_space 的空间：**<br>\n",
    "  * actions ∈[-100, 100]\n",
    "  * 正数表示买入，负数表示卖出，0表示不进行买入卖出操作\n",
    "  * 绝对值表示买入卖出的数量"
   ]
  },
  {
   "cell_type": "code",
   "execution_count": 8,
   "metadata": {
    "id": "sCXH6GOcaWtS"
   },
   "outputs": [],
   "source": [
    "# stock_dimension = len(df.tic.unique())\n",
    "# state_space = 1 + 2*stock_dimension + \\\n",
    "#     len(config.TECHNICAL_INDICATORS_LIST)*stock_dimension + stock_dimension\n",
    "# print(\"stock_dimension: {}, state_space: {}\".format(stock_dimension, state_space))"
   ]
  },
  {
   "cell_type": "code",
   "execution_count": null,
   "metadata": {
    "colab": {
     "base_uri": "https://localhost:8080/"
    },
    "id": "rXLVf1gebTp1",
    "outputId": "297dd934-ec49-4c9a-d5b9-4c369d52e22b"
   },
   "outputs": [
    {
     "name": "stdout",
     "output_type": "stream",
     "text": [
      "caching data\n"
     ]
    }
   ],
   "source": [
    "# 初始化环境的参数\n",
    "information_cols = config.TECHNICAL_INDICATORS_LIST + [\"close\", \"day\", \"log_volume\", \"change\", \"daily_variance\"]\n",
    "\n",
    "e_train_gym = StockTradingEnvRetreatpenalty(df = train_data,initial_amount = 1e6,hmax = 5000, \n",
    "                                turbulence_threshold = None, \n",
    "                                currency='￥',\n",
    "                                buy_cost_pct=3e-3,\n",
    "                                sell_cost_pct=3e-3,\n",
    "                                cache_indicator_data=True,\n",
    "                                daily_information_cols = information_cols, \n",
    "                                print_verbosity = 500,\n",
    "                                patient=True,\n",
    "                                random_start = True)\n",
    "\n",
    "e_trade_gym = StockTradingEnvRetreatpenalty(df = test_data,initial_amount = 1e6,hmax = 5000, \n",
    "                                turbulence_threshold = None, \n",
    "                                currency='￥',\n",
    "                                buy_cost_pct=3e-3,\n",
    "                                sell_cost_pct=3e-3,\n",
    "                                cache_indicator_data=True,\n",
    "                                daily_information_cols = information_cols, \n",
    "                                print_verbosity = 500,\n",
    "                                patient=True,\n",
    "                                random_start = False)"
   ]
  },
  {
   "cell_type": "code",
   "execution_count": 9,
   "metadata": {
    "colab": {
     "base_uri": "https://localhost:8080/"
    },
    "id": "KPL6HInvd_yB",
    "outputId": "580ebcb0-836b-4fc3-da1e-b55d467eacb5",
    "tags": []
   },
   "outputs": [
    {
     "name": "stdout",
     "output_type": "stream",
     "text": [
      "EPISODE|STEPS|TERMINAL_REASON|CASH           |TOT_ASSETS     |TERMINAL_REWARD_unsc|GAINLOSS_PCT|RETREAT_PROPORTION\n"
     ]
    },
    {
     "name": "stderr",
     "output_type": "stream",
     "text": [
      "/home/RL_in_Finance/utils/env_retreat_penalty.py:257: RuntimeWarning: invalid value encountered in true_divide\n",
      "  actions = actions / self.closings\n"
     ]
    },
    {
     "name": "stdout",
     "output_type": "stream",
     "text": [
      "   0| 173|CASH SHORTAGE  |￥10,960        |￥871,500       |-26.07715%|-12.85003%|-13.23%   \n",
      "   0| 179|CASH SHORTAGE  |￥8,856         |￥915,643       |-17.26757%|-8.43569% |-8.83%    \n",
      "   0| 199|CASH SHORTAGE  |￥1,035         |￥1,035,923     |3.59233%  |3.59233%  |0.00%     \n",
      "   0| 210|CASH SHORTAGE  |￥9,775         |￥1,088,865     |7.53310%  |8.88647%  |-1.35%    \n",
      "   0| 237|CASH SHORTAGE  |￥37,052        |￥953,038       |-20.53233%|-4.69621% |-15.84%   \n",
      "   0| 247|CASH SHORTAGE  |￥1,372         |￥1,044,549     |-3.29970% |4.45494%  |-7.75%    \n",
      "   0| 253|CASH SHORTAGE  |￥26,408        |￥1,015,813     |-8.71100% |1.58135%  |-10.29%   \n",
      "   0| 286|CASH SHORTAGE  |￥6,633         |￥987,083       |-14.12127%|-1.29170% |-12.83%   \n",
      "count:  300\n",
      "reward: -36.66621777824988, done: False\n"
     ]
    }
   ],
   "source": [
    "# 对环境进行测试\n",
    "# %debug\n",
    "observation = e_train_gym.reset() # 初始化环境，observation为环境状态\n",
    "count = 0\n",
    "total_reward = 0\n",
    "for t in range(300):\n",
    "    action = e_train_gym.action_space.sample() # 随机采样动作\n",
    "    observation, reward, done, info = e_train_gym.step(action) # 与环境交互，获得下一个state的值\n",
    "    total_reward += reward\n",
    "    if done:             \n",
    "        break\n",
    "    count+=1\n",
    "    # time.sleep(0.2)      #每次等待 0.2s\n",
    "print(\"count: \", count)\n",
    "print(\"reward: {}, done: {}\".format(total_reward, done))"
   ]
  },
  {
   "cell_type": "code",
   "execution_count": null,
   "metadata": {
    "id": "HITGmA4MfxEk"
   },
   "outputs": [],
   "source": [
    "import multiprocessing\n",
    "\n",
    "n_cores = multiprocessing.cpu_count() - 10\n",
    "n_cores = 24\n",
    "print(\"using {} cores\".format(n_cores))\n",
    "\n",
    "#this is our training env. It allows multiprocessing\n",
    "env_train, _ = e_train_gym.get_multiproc_env(n = n_cores)\n",
    "\n",
    "#this is our observation environment. It allows full diagnostics\n",
    "env_trade, _ = e_trade_gym.get_sb_env()"
   ]
  },
  {
   "cell_type": "markdown",
   "metadata": {
    "id": "CIeiCKBngDVz"
   },
   "source": [
    "## 5、开始训练"
   ]
  },
  {
   "cell_type": "markdown",
   "metadata": {
    "id": "ZdUgJvJ41eBh"
   },
   "source": [
    "所用到的框架：stable_baseline3"
   ]
  },
  {
   "cell_type": "code",
   "execution_count": 20,
   "metadata": {
    "id": "4WYp6VbGmwey"
   },
   "outputs": [],
   "source": [
    "agent = DRL_Agent(env = env_train)"
   ]
  },
  {
   "cell_type": "code",
   "execution_count": 21,
   "metadata": {
    "colab": {
     "base_uri": "https://localhost:8080/"
    },
    "id": "AHqjcamZgBLH",
    "outputId": "3208632d-2c0e-4cd9-d867-3ed62938e35b"
   },
   "outputs": [
    {
     "name": "stdout",
     "output_type": "stream",
     "text": [
      "{'n_steps': 256, 'ent_coef': 0.0, 'learning_rate': 5e-06, 'batch_size': 256, 'gamma': 0.99}\n"
     ]
    },
    {
     "name": "stderr",
     "output_type": "stream",
     "text": [
      "/opt/conda/lib/python3.6/site-packages/torch/cuda/__init__.py:52: UserWarning: CUDA initialization: Found no NVIDIA driver on your system. Please check that you have an NVIDIA GPU and installed a driver from http://www.nvidia.com/Download/index.aspx (Triggered internally at  /opt/conda/conda-bld/pytorch_1607370116979/work/c10/cuda/CUDAFunctions.cpp:100.)\n",
      "  return torch._C._cuda_getDeviceCount() > 0\n"
     ]
    }
   ],
   "source": [
    "# from torch.nn import Softsign, ReLU\n",
    "ppo_params ={'n_steps': 256, \n",
    "             'ent_coef': 0.0, \n",
    "             'learning_rate': 0.000005, \n",
    "             'batch_size': 256, \n",
    "            'gamma': 0.99}\n",
    "\n",
    "policy_kwargs = {\n",
    "#     \"activation_fn\": ReLU,\n",
    "    \"net_arch\": [1024 for _ in range(10)], \n",
    "#     \"squash_output\": True\n",
    "}\n",
    "\n",
    "model = agent.get_model(\"ppo\",  \n",
    "                        model_kwargs = ppo_params, \n",
    "                        policy_kwargs = policy_kwargs, verbose = 0)\n",
    "\n",
    "# model = model.load(\"scaling_reward.model\", env = env_train)"
   ]
  },
  {
   "cell_type": "code",
   "execution_count": null,
   "metadata": {
    "colab": {
     "base_uri": "https://localhost:8080/"
    },
    "id": "Tict0CAZf2vF",
    "outputId": "cd031fe9-3488-47d3-8805-5e5719fc2f73"
   },
   "outputs": [
    {
     "name": "stderr",
     "output_type": "stream",
     "text": [
      "/opt/conda/lib/python3.6/site-packages/stable_baselines3/common/callbacks.py:327: UserWarning: Training and eval env are not of the same type<stable_baselines3.common.vec_env.subproc_vec_env.SubprocVecEnv object at 0x7f091aa59b70> != <stable_baselines3.common.vec_env.dummy_vec_env.DummyVecEnv object at 0x7f08e3a91320>\n",
      "  warnings.warn(\"Training and eval env are not of the same type\" f\"{self.training_env} != {self.eval_env}\")\n",
      "/opt/conda/lib/python3.6/site-packages/stable_baselines3/common/evaluation.py:69: UserWarning: Evaluation environment is not wrapped with a ``Monitor`` wrapper. This may result in reporting modified episode lengths and rewards, if other wrappers happen to modify these. Consider wrapping environment first with ``Monitor`` wrapper.\n",
      "  UserWarning,\n"
     ]
    },
    {
     "name": "stdout",
     "output_type": "stream",
     "text": [
      "EPISODE|STEPS|TERMINAL_REASON|CASH           |TOT_ASSETS     |TERMINAL_REWARD_unsc|GAINLOSS_PCT|CASH_PROPORTION\n"
     ]
    },
    {
     "name": "stderr",
     "output_type": "stream",
     "text": [
      "Exception in thread Thread-4:\n",
      "Traceback (most recent call last):\n",
      "  File \"/opt/conda/lib/python3.6/threading.py\", line 916, in _bootstrap_inner\n",
      "    self.run()\n",
      "  File \"/opt/conda/lib/python3.6/site-packages/tensorboard/summary/writer/event_file_writer.py\", line 238, in run\n",
      "    self._record_writer.write(data)\n",
      "  File \"/opt/conda/lib/python3.6/site-packages/tensorboard/summary/writer/record_writer.py\", line 40, in write\n",
      "    self._writer.write(header + header_crc + data + footer_crc)\n",
      "  File \"/opt/conda/lib/python3.6/site-packages/tensorboard/compat/tensorflow_stub/io/gfile.py\", line 531, in write\n",
      "    self.fs.append(self.filename, file_content, self.binary_mode)\n",
      "  File \"/opt/conda/lib/python3.6/site-packages/tensorboard/compat/tensorflow_stub/io/gfile.py\", line 154, in append\n",
      "    self._write(filename, file_content, \"ab\" if binary_mode else \"a\")\n",
      "  File \"/opt/conda/lib/python3.6/site-packages/tensorboard/compat/tensorflow_stub/io/gfile.py\", line 158, in _write\n",
      "    with io.open(filename, mode, encoding=encoding) as f:\n",
      "FileNotFoundError: [Errno 2] No such file or directory: b'tensorboard_log/ppo/env_cashpenalty_highlr_1/events.out.tfevents.1619422725.55a9db210b06.818.0'\n",
      "\n"
     ]
    }
   ],
   "source": [
    "model.learn(total_timesteps = 30000, \n",
    "            eval_env = env_trade, \n",
    "            eval_freq = 500,\n",
    "            log_interval = 1, \n",
    "            tb_log_name = 'env_cashpenalty_highlr',\n",
    "            n_eval_episodes = 1)   "
   ]
  },
  {
   "cell_type": "code",
   "execution_count": null,
   "metadata": {
    "id": "MbiiiObKGBsV"
   },
   "outputs": [],
   "source": [
    "model.save(\"scaling_reward_{}_cores.model\".format(n_cores))"
   ]
  },
  {
   "cell_type": "markdown",
   "metadata": {
    "id": "xJd8ZIEXibtL"
   },
   "source": [
    "## 6、测试"
   ]
  },
  {
   "cell_type": "code",
   "execution_count": null,
   "metadata": {
    "id": "uNlCCDXDibK7"
   },
   "outputs": [],
   "source": [
    "df_account_value, df_actions = DRL_prediction(\n",
    "    model=model, \n",
    "    environment = e_trade_gym)"
   ]
  },
  {
   "cell_type": "code",
   "execution_count": null,
   "metadata": {
    "colab": {
     "base_uri": "https://localhost:8080/"
    },
    "id": "FmjLZCsc1_wi",
    "outputId": "f3dd745a-66fe-478c-9d33-ca72da5c2f61"
   },
   "outputs": [
    {
     "name": "stdout",
     "output_type": "stream",
     "text": [
      "回测的时间窗口：2019-01-01 至 2021-01-01\n"
     ]
    }
   ],
   "source": [
    "print(\"回测的时间窗口：{} 至 {}\".format(config.End_Trade_Date, config.End_Test_Date))"
   ]
  },
  {
   "cell_type": "code",
   "execution_count": null,
   "metadata": {
    "id": "tCc9lr4wi8ag"
   },
   "outputs": [],
   "source": [
    "df_account_value.to_csv(\"df_account_value.csv\", index=False)\n",
    "print(\"查看日账户净值\")\n",
    "print(\"开始: \")\n",
    "print(df_account_value.head())\n",
    "print(\"\")\n",
    "print(\"结束: \")\n",
    "print(df_account_value.tail())"
   ]
  },
  {
   "cell_type": "code",
   "execution_count": null,
   "metadata": {
    "id": "n-m0wzTsi-7U"
   },
   "outputs": [],
   "source": [
    "print(\"查看每日所作的交易\")\n",
    "df_actions.to_csv(\"df_actions.csv\", index=False)\n",
    "df_actions.tail()"
   ]
  },
  {
   "cell_type": "markdown",
   "metadata": {
    "id": "y7nKxnGijDMT"
   },
   "source": [
    "## 7、回测"
   ]
  },
  {
   "cell_type": "code",
   "execution_count": null,
   "metadata": {
    "id": "4AB3Za7ujCyT"
   },
   "outputs": [],
   "source": [
    "print(\"---------------------获取回测结果---------------------\")\n",
    "pref_stats_all = backtest_stats(account_value=df_account_value)\n",
    "\n",
    "# perf_stats_all = pd.DataFrame(perf_stats_all)\n",
    "# now = datetime.datetime.now().strftime('%Y%m%d-%Hh%M')\n",
    "# perf_stats_all.to_csv(\"./\"+config.RESULTS_DIR+\"/perf_stats_all_\"+now+'.csv')"
   ]
  },
  {
   "cell_type": "code",
   "execution_count": null,
   "metadata": {
    "id": "Y8xHNlpxkS3Y"
   },
   "outputs": [],
   "source": [
    "# 获取 baseline 的结果\n",
    "print(\"---------------------获取baseline结果---------------------\")\n",
    "baseline_df = get_baseline(config.SSE_50_INDEX, \n",
    "              start=\"20190101\",\n",
    "              end=\"20210101\")\n",
    "baseline_stats = backtest_stats(baseline_df, value_col_name='close')"
   ]
  },
  {
   "cell_type": "code",
   "execution_count": null,
   "metadata": {
    "id": "3rxEGprCZNlQ"
   },
   "outputs": [],
   "source": [
    "# 删除 df_account_value 中重复的行\n",
    "df_account_value.drop(df_account_value.index[1], inplace=True)"
   ]
  },
  {
   "cell_type": "code",
   "execution_count": null,
   "metadata": {
    "id": "QuZ4lYXPXjmG"
   },
   "outputs": [],
   "source": [
    "baseline_df.head(10)"
   ]
  },
  {
   "cell_type": "code",
   "execution_count": null,
   "metadata": {
    "id": "PZOihmmakVrh"
   },
   "outputs": [],
   "source": [
    "print(\"---------------------Plot---------------------\")\n",
    "print(\"和 {} 指数进行比较\".format(config.SSE_50_INDEX[0]))\n",
    "%matplotlib inline\n",
    "backtest_plot(df_account_value,\n",
    "        baseline_start=\"20190101\",\n",
    "        baseline_end=\"20210101\",\n",
    "        baseline_ticker=config.SSE_50_INDEX,\n",
    "      )"
   ]
  },
  {
   "cell_type": "code",
   "execution_count": null,
   "metadata": {
    "id": "VmTn_np4uf7U"
   },
   "outputs": [],
   "source": []
  }
 ],
 "metadata": {
  "colab": {
   "collapsed_sections": [],
   "name": "RL_in_Finance_Test_Cash_Penalty(Docker).ipynb",
   "provenance": [],
   "toc_visible": true
  },
  "kernelspec": {
   "display_name": "Python 3",
   "language": "python",
   "name": "python3"
  },
  "language_info": {
   "codemirror_mode": {
    "name": "ipython",
    "version": 3
   },
   "file_extension": ".py",
   "mimetype": "text/x-python",
   "name": "python",
   "nbconvert_exporter": "python",
   "pygments_lexer": "ipython3",
   "version": "3.6.12"
  }
 },
 "nbformat": 4,
 "nbformat_minor": 4
}
