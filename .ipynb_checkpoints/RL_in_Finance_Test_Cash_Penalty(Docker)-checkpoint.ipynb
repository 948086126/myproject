{
 "cells": [
  {
   "cell_type": "markdown",
   "metadata": {
    "id": "SV3q7SkbYyPH"
   },
   "source": [
    "# RL in Finance(Test Cash Penalty) \n",
    "[![Open In Colab](https://colab.research.google.com/assets/colab-badge.svg)](https://colab.research.google.com/github/sunnyswag/RL_in_Finance/blob/main/RL_in_Finance_Test_cash_penalty.ipynb)"
   ]
  },
  {
   "cell_type": "markdown",
   "metadata": {
    "id": "W67Itu99Vu2G"
   },
   "source": [
    "## 1、拉取 github 仓库，下载并导入相关包\n",
    "&emsp;&emsp;运行流程：python setup.py -> pip install -r requirements.txt"
   ]
  },
  {
   "cell_type": "code",
   "execution_count": 1,
   "metadata": {
    "colab": {
     "base_uri": "https://localhost:8080/"
    },
    "id": "Xxc9y_D5T2a0",
    "outputId": "81da4e71-6891-41f1-beaf-df508283690d"
   },
   "outputs": [
    {
     "name": "stderr",
     "output_type": "stream",
     "text": [
      "/opt/conda/lib/python3.6/site-packages/pyfolio/pos.py:27: UserWarning: Module \"zipline.assets\" not found; multipliers will not be applied to position notionals.\n",
      "  'Module \"zipline.assets\" not found; multipliers will not be applied'\n"
     ]
    }
   ],
   "source": [
    "import pandas as pd\n",
    "import numpy as np\n",
    "import matplotlib\n",
    "import matplotlib.pyplot as plt\n",
    "import datetime\n",
    "import time\n",
    "\n",
    "%matplotlib inline\n",
    "from utils import config\n",
    "from utils.pull_data import Pull_data\n",
    "from utils.preprocessors import FeatureEngineer, split_data\n",
    "from utils.env_cash_penalty import StockTradingEnvCashpenalty\n",
    "from utils.models import DRL_Agent\n",
    "from utils.backtest import backtest_stats, backtest_plot, get_baseline\n",
    "import itertools\n",
    "import sys\n",
    "sys.path.append(\"../RL_in_Finance\")"
   ]
  },
  {
   "cell_type": "markdown",
   "metadata": {
    "id": "jHv-tOOOWFG3"
   },
   "source": [
    "## 2、下载数据"
   ]
  },
  {
   "cell_type": "markdown",
   "metadata": {
    "id": "btxVNBzYvV21"
   },
   "source": [
    "数据来源：Tushare API<br>\n",
    "当前用到的数据：SSE_50 和 CSI_300<br>\n",
    "数据量的大小：shape[2892 * n, 8]"
   ]
  },
  {
   "cell_type": "code",
   "execution_count": 2,
   "metadata": {
    "colab": {
     "base_uri": "https://localhost:8080/"
    },
    "id": "QnxCFcpvXdaI",
    "outputId": "65776e4a-c855-4ce0-ad07-0e7ebf3e6631"
   },
   "outputs": [
    {
     "name": "stdout",
     "output_type": "stream",
     "text": [
      "--- 开始下载 ----\n",
      "下载进度 : 20.0%\n",
      "下载进度 : 40.0%\n",
      "下载进度 : 60.0%\n",
      "下载进度 : 80.0%\n",
      "下载进度 : 100.0%\n",
      "--- 下载完成 ----\n",
      "DataFrame 的大小:  (114845, 8)\n"
     ]
    }
   ],
   "source": [
    "stock_list = config.SSE_50\n",
    "df = Pull_data(stock_list, save_data=False).pull_data()"
   ]
  },
  {
   "cell_type": "code",
   "execution_count": 3,
   "metadata": {
    "colab": {
     "base_uri": "https://localhost:8080/",
     "height": 202
    },
    "id": "UqmzIFv9Xjq_",
    "outputId": "522b3fbf-47f3-42c6-ae05-07dacb300263"
   },
   "outputs": [
    {
     "data": {
      "text/html": [
       "<div>\n",
       "<style scoped>\n",
       "    .dataframe tbody tr th:only-of-type {\n",
       "        vertical-align: middle;\n",
       "    }\n",
       "\n",
       "    .dataframe tbody tr th {\n",
       "        vertical-align: top;\n",
       "    }\n",
       "\n",
       "    .dataframe thead th {\n",
       "        text-align: right;\n",
       "    }\n",
       "</style>\n",
       "<table border=\"1\" class=\"dataframe\">\n",
       "  <thead>\n",
       "    <tr style=\"text-align: right;\">\n",
       "      <th></th>\n",
       "      <th>date</th>\n",
       "      <th>tic</th>\n",
       "      <th>open</th>\n",
       "      <th>high</th>\n",
       "      <th>low</th>\n",
       "      <th>close</th>\n",
       "      <th>volume</th>\n",
       "      <th>day</th>\n",
       "    </tr>\n",
       "  </thead>\n",
       "  <tbody>\n",
       "    <tr>\n",
       "      <th>0</th>\n",
       "      <td>2009-01-05</td>\n",
       "      <td>600000.SH</td>\n",
       "      <td>2.7584</td>\n",
       "      <td>2.8115</td>\n",
       "      <td>2.7258</td>\n",
       "      <td>2.8013</td>\n",
       "      <td>503142.56</td>\n",
       "      <td>0</td>\n",
       "    </tr>\n",
       "    <tr>\n",
       "      <th>1</th>\n",
       "      <td>2009-01-05</td>\n",
       "      <td>600009.SH</td>\n",
       "      <td>9.4665</td>\n",
       "      <td>9.6505</td>\n",
       "      <td>9.4414</td>\n",
       "      <td>9.5836</td>\n",
       "      <td>52100.33</td>\n",
       "      <td>0</td>\n",
       "    </tr>\n",
       "    <tr>\n",
       "      <th>2</th>\n",
       "      <td>2009-01-05</td>\n",
       "      <td>600016.SH</td>\n",
       "      <td>1.6369</td>\n",
       "      <td>1.6487</td>\n",
       "      <td>1.6170</td>\n",
       "      <td>1.6448</td>\n",
       "      <td>947739.82</td>\n",
       "      <td>0</td>\n",
       "    </tr>\n",
       "    <tr>\n",
       "      <th>3</th>\n",
       "      <td>2009-01-05</td>\n",
       "      <td>600028.SH</td>\n",
       "      <td>3.1966</td>\n",
       "      <td>3.2461</td>\n",
       "      <td>3.1786</td>\n",
       "      <td>3.2371</td>\n",
       "      <td>361085.66</td>\n",
       "      <td>0</td>\n",
       "    </tr>\n",
       "    <tr>\n",
       "      <th>4</th>\n",
       "      <td>2009-01-05</td>\n",
       "      <td>600030.SH</td>\n",
       "      <td>9.2667</td>\n",
       "      <td>9.5705</td>\n",
       "      <td>9.1654</td>\n",
       "      <td>9.5502</td>\n",
       "      <td>818978.41</td>\n",
       "      <td>0</td>\n",
       "    </tr>\n",
       "  </tbody>\n",
       "</table>\n",
       "</div>"
      ],
      "text/plain": [
       "         date        tic    open    high     low   close     volume  day\n",
       "0  2009-01-05  600000.SH  2.7584  2.8115  2.7258  2.8013  503142.56    0\n",
       "1  2009-01-05  600009.SH  9.4665  9.6505  9.4414  9.5836   52100.33    0\n",
       "2  2009-01-05  600016.SH  1.6369  1.6487  1.6170  1.6448  947739.82    0\n",
       "3  2009-01-05  600028.SH  3.1966  3.2461  3.1786  3.2371  361085.66    0\n",
       "4  2009-01-05  600030.SH  9.2667  9.5705  9.1654  9.5502  818978.41    0"
      ]
     },
     "execution_count": 3,
     "metadata": {},
     "output_type": "execute_result"
    }
   ],
   "source": [
    "df.sort_values(['date', 'tic'], ignore_index=True).head()"
   ]
  },
  {
   "cell_type": "code",
   "execution_count": 4,
   "metadata": {
    "colab": {
     "base_uri": "https://localhost:8080/"
    },
    "id": "nmVukaFnWgAe",
    "outputId": "2d612f84-65dc-4a81-8e4b-f3b3be49854f"
   },
   "outputs": [
    {
     "name": "stdout",
     "output_type": "stream",
     "text": [
      "数据下载的时间区间为：20090101 至 20210101\n"
     ]
    }
   ],
   "source": [
    "print(\"数据下载的时间区间为：{} 至 {}\".format(config.Start_Date, config.End_Date))"
   ]
  },
  {
   "cell_type": "code",
   "execution_count": 5,
   "metadata": {
    "colab": {
     "base_uri": "https://localhost:8080/"
    },
    "id": "bBIe5VuwXLY_",
    "outputId": "4bb36f27-aa42-42aa-8283-4253f1c7ee05"
   },
   "outputs": [
    {
     "name": "stdout",
     "output_type": "stream",
     "text": [
      "下载的股票列表为: \n",
      "['600000.SH', '600009.SH', '600016.SH', '600028.SH', '600030.SH', '600031.SH', '600036.SH', '600048.SH', '600050.SH', '600104.SH', '600196.SH', '600276.SH', '600309.SH', '600519.SH', '600547.SH', '600570.SH', '600585.SH', '600588.SH', '600690.SH', '600703.SH', '600745.SH', '600837.SH', '600887.SH', '600918.SH', '601012.SH', '601066.SH', '601088.SH', '601138.SH', '601166.SH', '601186.SH', '601211.SH', '601236.SH', '601288.SH', '601318.SH', '601319.SH', '601336.SH', '601398.SH', '601601.SH', '601628.SH', '601668.SH', '601688.SH', '601816.SH', '601818.SH', '601857.SH', '601888.SH', '603160.SH', '603259.SH', '603288.SH', '603501.SH', '603986.SH']\n"
     ]
    }
   ],
   "source": [
    "print(\"下载的股票列表为: \")\n",
    "print(stock_list)"
   ]
  },
  {
   "cell_type": "markdown",
   "metadata": {
    "id": "6EI_Q4pOW_FG"
   },
   "source": [
    "## 3、数据预处理"
   ]
  },
  {
   "cell_type": "code",
   "execution_count": 6,
   "metadata": {
    "colab": {
     "base_uri": "https://localhost:8080/"
    },
    "id": "9VY5MQ_kUVpz",
    "outputId": "a7547759-d109-4bd2-9192-843c80b4e640"
   },
   "outputs": [
    {
     "name": "stdout",
     "output_type": "stream",
     "text": [
      "成功添加技术指标\n",
      "对当前时间段未上市的公司的所有行置零\n"
     ]
    },
    {
     "name": "stderr",
     "output_type": "stream",
     "text": [
      "/opt/conda/lib/python3.6/site-packages/pandas/core/series.py:726: RuntimeWarning: divide by zero encountered in log\n",
      "  result = getattr(ufunc, method)(*inputs, **kwargs)\n"
     ]
    }
   ],
   "source": [
    "processed_df = FeatureEngineer(use_technical_indicator=True).preprocess_data(df)\n",
    "processed_df['log_volume'] = np.log(processed_df.volume*processed_df.close)\n",
    "processed_df['change'] = (processed_df.close-processed_df.open)/processed_df.close\n",
    "processed_df['daily_variance'] = (processed_df.high-processed_df.low)/processed_df.close"
   ]
  },
  {
   "cell_type": "code",
   "execution_count": 7,
   "metadata": {},
   "outputs": [],
   "source": [
    "processed_df = processed_df.fillna(0)"
   ]
  },
  {
   "cell_type": "code",
   "execution_count": 8,
   "metadata": {
    "colab": {
     "base_uri": "https://localhost:8080/"
    },
    "id": "Cm_Z8uytXIVv",
    "outputId": "36db3532-36d4-4ce0-fc65-88da050f73da"
   },
   "outputs": [
    {
     "name": "stdout",
     "output_type": "stream",
     "text": [
      "技术指标列表: \n",
      "['boll_ub', 'boll_lb', 'rsi_30', 'cci_30', 'dx_30', 'macd', 'volume_20_sma', 'volume_60_sma', 'volume_120_sma', 'close_20_sma', 'close_60_sma', 'close_120_sma']\n",
      "技术指标数: 12个\n"
     ]
    }
   ],
   "source": [
    "print(\"技术指标列表: \")\n",
    "print(config.TECHNICAL_INDICATORS_LIST)\n",
    "print(\"技术指标数: {}个\".format(len(config.TECHNICAL_INDICATORS_LIST)))"
   ]
  },
  {
   "cell_type": "code",
   "execution_count": 9,
   "metadata": {
    "colab": {
     "base_uri": "https://localhost:8080/",
     "height": 309
    },
    "id": "e4wNTZBWYyZK",
    "outputId": "adb8de06-8330-42be-b367-33d1fb2eeee5"
   },
   "outputs": [
    {
     "data": {
      "text/html": [
       "<div>\n",
       "<style scoped>\n",
       "    .dataframe tbody tr th:only-of-type {\n",
       "        vertical-align: middle;\n",
       "    }\n",
       "\n",
       "    .dataframe tbody tr th {\n",
       "        vertical-align: top;\n",
       "    }\n",
       "\n",
       "    .dataframe thead th {\n",
       "        text-align: right;\n",
       "    }\n",
       "</style>\n",
       "<table border=\"1\" class=\"dataframe\">\n",
       "  <thead>\n",
       "    <tr style=\"text-align: right;\">\n",
       "      <th></th>\n",
       "      <th>date</th>\n",
       "      <th>tic</th>\n",
       "      <th>open</th>\n",
       "      <th>high</th>\n",
       "      <th>low</th>\n",
       "      <th>close</th>\n",
       "      <th>volume</th>\n",
       "      <th>day</th>\n",
       "      <th>boll_ub</th>\n",
       "      <th>boll_lb</th>\n",
       "      <th>...</th>\n",
       "      <th>macd</th>\n",
       "      <th>volume_20_sma</th>\n",
       "      <th>volume_60_sma</th>\n",
       "      <th>volume_120_sma</th>\n",
       "      <th>close_20_sma</th>\n",
       "      <th>close_60_sma</th>\n",
       "      <th>close_120_sma</th>\n",
       "      <th>log_volume</th>\n",
       "      <th>change</th>\n",
       "      <th>daily_variance</th>\n",
       "    </tr>\n",
       "  </thead>\n",
       "  <tbody>\n",
       "    <tr>\n",
       "      <th>0</th>\n",
       "      <td>2009-01-05</td>\n",
       "      <td>600000.SH</td>\n",
       "      <td>2.7584</td>\n",
       "      <td>2.8115</td>\n",
       "      <td>2.7258</td>\n",
       "      <td>2.8013</td>\n",
       "      <td>503142.56</td>\n",
       "      <td>0.0</td>\n",
       "      <td>0.0</td>\n",
       "      <td>0.0</td>\n",
       "      <td>...</td>\n",
       "      <td>0.0</td>\n",
       "      <td>503142.56</td>\n",
       "      <td>503142.56</td>\n",
       "      <td>503142.56</td>\n",
       "      <td>2.8013</td>\n",
       "      <td>2.8013</td>\n",
       "      <td>2.8013</td>\n",
       "      <td>14.158712</td>\n",
       "      <td>0.015314</td>\n",
       "      <td>0.030593</td>\n",
       "    </tr>\n",
       "    <tr>\n",
       "      <th>1</th>\n",
       "      <td>2009-01-05</td>\n",
       "      <td>600009.SH</td>\n",
       "      <td>9.4665</td>\n",
       "      <td>9.6505</td>\n",
       "      <td>9.4414</td>\n",
       "      <td>9.5836</td>\n",
       "      <td>52100.33</td>\n",
       "      <td>0.0</td>\n",
       "      <td>0.0</td>\n",
       "      <td>0.0</td>\n",
       "      <td>...</td>\n",
       "      <td>0.0</td>\n",
       "      <td>52100.33</td>\n",
       "      <td>52100.33</td>\n",
       "      <td>52100.33</td>\n",
       "      <td>9.5836</td>\n",
       "      <td>9.5836</td>\n",
       "      <td>9.5836</td>\n",
       "      <td>13.120980</td>\n",
       "      <td>0.012219</td>\n",
       "      <td>0.021819</td>\n",
       "    </tr>\n",
       "    <tr>\n",
       "      <th>2</th>\n",
       "      <td>2009-01-05</td>\n",
       "      <td>600016.SH</td>\n",
       "      <td>1.6369</td>\n",
       "      <td>1.6487</td>\n",
       "      <td>1.6170</td>\n",
       "      <td>1.6448</td>\n",
       "      <td>947739.82</td>\n",
       "      <td>0.0</td>\n",
       "      <td>0.0</td>\n",
       "      <td>0.0</td>\n",
       "      <td>...</td>\n",
       "      <td>0.0</td>\n",
       "      <td>947739.82</td>\n",
       "      <td>947739.82</td>\n",
       "      <td>947739.82</td>\n",
       "      <td>1.6448</td>\n",
       "      <td>1.6448</td>\n",
       "      <td>1.6448</td>\n",
       "      <td>14.259454</td>\n",
       "      <td>0.004803</td>\n",
       "      <td>0.019273</td>\n",
       "    </tr>\n",
       "    <tr>\n",
       "      <th>3</th>\n",
       "      <td>2009-01-05</td>\n",
       "      <td>600028.SH</td>\n",
       "      <td>3.1966</td>\n",
       "      <td>3.2461</td>\n",
       "      <td>3.1786</td>\n",
       "      <td>3.2371</td>\n",
       "      <td>361085.66</td>\n",
       "      <td>0.0</td>\n",
       "      <td>0.0</td>\n",
       "      <td>0.0</td>\n",
       "      <td>...</td>\n",
       "      <td>0.0</td>\n",
       "      <td>361085.66</td>\n",
       "      <td>361085.66</td>\n",
       "      <td>361085.66</td>\n",
       "      <td>3.2371</td>\n",
       "      <td>3.2371</td>\n",
       "      <td>3.2371</td>\n",
       "      <td>13.971548</td>\n",
       "      <td>0.012511</td>\n",
       "      <td>0.020852</td>\n",
       "    </tr>\n",
       "    <tr>\n",
       "      <th>4</th>\n",
       "      <td>2009-01-05</td>\n",
       "      <td>600030.SH</td>\n",
       "      <td>9.2667</td>\n",
       "      <td>9.5705</td>\n",
       "      <td>9.1654</td>\n",
       "      <td>9.5502</td>\n",
       "      <td>818978.41</td>\n",
       "      <td>0.0</td>\n",
       "      <td>0.0</td>\n",
       "      <td>0.0</td>\n",
       "      <td>...</td>\n",
       "      <td>0.0</td>\n",
       "      <td>818978.41</td>\n",
       "      <td>818978.41</td>\n",
       "      <td>818978.41</td>\n",
       "      <td>9.5502</td>\n",
       "      <td>9.5502</td>\n",
       "      <td>9.5502</td>\n",
       "      <td>15.872375</td>\n",
       "      <td>0.029685</td>\n",
       "      <td>0.042418</td>\n",
       "    </tr>\n",
       "  </tbody>\n",
       "</table>\n",
       "<p>5 rows × 23 columns</p>\n",
       "</div>"
      ],
      "text/plain": [
       "         date        tic    open    high     low   close     volume  day  \\\n",
       "0  2009-01-05  600000.SH  2.7584  2.8115  2.7258  2.8013  503142.56  0.0   \n",
       "1  2009-01-05  600009.SH  9.4665  9.6505  9.4414  9.5836   52100.33  0.0   \n",
       "2  2009-01-05  600016.SH  1.6369  1.6487  1.6170  1.6448  947739.82  0.0   \n",
       "3  2009-01-05  600028.SH  3.1966  3.2461  3.1786  3.2371  361085.66  0.0   \n",
       "4  2009-01-05  600030.SH  9.2667  9.5705  9.1654  9.5502  818978.41  0.0   \n",
       "\n",
       "   boll_ub  boll_lb  ...  macd  volume_20_sma  volume_60_sma  volume_120_sma  \\\n",
       "0      0.0      0.0  ...   0.0      503142.56      503142.56       503142.56   \n",
       "1      0.0      0.0  ...   0.0       52100.33       52100.33        52100.33   \n",
       "2      0.0      0.0  ...   0.0      947739.82      947739.82       947739.82   \n",
       "3      0.0      0.0  ...   0.0      361085.66      361085.66       361085.66   \n",
       "4      0.0      0.0  ...   0.0      818978.41      818978.41       818978.41   \n",
       "\n",
       "   close_20_sma  close_60_sma  close_120_sma  log_volume    change  \\\n",
       "0        2.8013        2.8013         2.8013   14.158712  0.015314   \n",
       "1        9.5836        9.5836         9.5836   13.120980  0.012219   \n",
       "2        1.6448        1.6448         1.6448   14.259454  0.004803   \n",
       "3        3.2371        3.2371         3.2371   13.971548  0.012511   \n",
       "4        9.5502        9.5502         9.5502   15.872375  0.029685   \n",
       "\n",
       "   daily_variance  \n",
       "0        0.030593  \n",
       "1        0.021819  \n",
       "2        0.019273  \n",
       "3        0.020852  \n",
       "4        0.042418  \n",
       "\n",
       "[5 rows x 23 columns]"
      ]
     },
     "execution_count": 9,
     "metadata": {},
     "output_type": "execute_result"
    }
   ],
   "source": [
    "processed_df.head()"
   ]
  },
  {
   "cell_type": "code",
   "execution_count": 10,
   "metadata": {
    "id": "uDHoMhRsY-6H"
   },
   "outputs": [],
   "source": [
    "train_data = split_data(processed_df, config.Start_Trade_Date, config.End_Trade_Date)\n",
    "test_data = split_data(processed_df, config.End_Trade_Date, config.End_Test_Date)"
   ]
  },
  {
   "cell_type": "code",
   "execution_count": 11,
   "metadata": {
    "colab": {
     "base_uri": "https://localhost:8080/"
    },
    "id": "WoPNyYr4ZxD2",
    "outputId": "1fac98f2-471c-4ceb-8fcd-69a25cdc0e46"
   },
   "outputs": [
    {
     "name": "stdout",
     "output_type": "stream",
     "text": [
      "训练数据的范围：2009-01-01 至 2019-01-01\n",
      "测试数据的范围：2019-01-01 至 2021-01-01\n",
      "训练数据的长度: 121550,测试数据的长度:24350\n",
      "训练集数据 : 测试集数据: 5.0 : 1\n"
     ]
    }
   ],
   "source": [
    "print(\"训练数据的范围：{} 至 {}\".format(config.Start_Trade_Date, config.End_Trade_Date))\n",
    "print(\"测试数据的范围：{} 至 {}\".format(config.End_Trade_Date, config.End_Test_Date))\n",
    "print(\"训练数据的长度: {},测试数据的长度:{}\".format(len(train_data), len(test_data)))\n",
    "print(\"训练集数据 : 测试集数据: {} : {}\".format(round(len(train_data)/len(test_data),1), 1))"
   ]
  },
  {
   "cell_type": "code",
   "execution_count": 12,
   "metadata": {
    "colab": {
     "base_uri": "https://localhost:8080/",
     "height": 309
    },
    "id": "BPny-EJbaS_S",
    "outputId": "eee3a7bd-fb65-4313-b7f4-08c2d01423d8"
   },
   "outputs": [
    {
     "data": {
      "text/html": [
       "<div>\n",
       "<style scoped>\n",
       "    .dataframe tbody tr th:only-of-type {\n",
       "        vertical-align: middle;\n",
       "    }\n",
       "\n",
       "    .dataframe tbody tr th {\n",
       "        vertical-align: top;\n",
       "    }\n",
       "\n",
       "    .dataframe thead th {\n",
       "        text-align: right;\n",
       "    }\n",
       "</style>\n",
       "<table border=\"1\" class=\"dataframe\">\n",
       "  <thead>\n",
       "    <tr style=\"text-align: right;\">\n",
       "      <th></th>\n",
       "      <th>date</th>\n",
       "      <th>tic</th>\n",
       "      <th>open</th>\n",
       "      <th>high</th>\n",
       "      <th>low</th>\n",
       "      <th>close</th>\n",
       "      <th>volume</th>\n",
       "      <th>day</th>\n",
       "      <th>boll_ub</th>\n",
       "      <th>boll_lb</th>\n",
       "      <th>...</th>\n",
       "      <th>macd</th>\n",
       "      <th>volume_20_sma</th>\n",
       "      <th>volume_60_sma</th>\n",
       "      <th>volume_120_sma</th>\n",
       "      <th>close_20_sma</th>\n",
       "      <th>close_60_sma</th>\n",
       "      <th>close_120_sma</th>\n",
       "      <th>log_volume</th>\n",
       "      <th>change</th>\n",
       "      <th>daily_variance</th>\n",
       "    </tr>\n",
       "  </thead>\n",
       "  <tbody>\n",
       "    <tr>\n",
       "      <th>0</th>\n",
       "      <td>2009-01-05</td>\n",
       "      <td>600000.SH</td>\n",
       "      <td>2.7584</td>\n",
       "      <td>2.8115</td>\n",
       "      <td>2.7258</td>\n",
       "      <td>2.8013</td>\n",
       "      <td>503142.56</td>\n",
       "      <td>0.0</td>\n",
       "      <td>0.0</td>\n",
       "      <td>0.0</td>\n",
       "      <td>...</td>\n",
       "      <td>0.0</td>\n",
       "      <td>503142.56</td>\n",
       "      <td>503142.56</td>\n",
       "      <td>503142.56</td>\n",
       "      <td>2.8013</td>\n",
       "      <td>2.8013</td>\n",
       "      <td>2.8013</td>\n",
       "      <td>14.158712</td>\n",
       "      <td>0.015314</td>\n",
       "      <td>0.030593</td>\n",
       "    </tr>\n",
       "    <tr>\n",
       "      <th>0</th>\n",
       "      <td>2009-01-05</td>\n",
       "      <td>600009.SH</td>\n",
       "      <td>9.4665</td>\n",
       "      <td>9.6505</td>\n",
       "      <td>9.4414</td>\n",
       "      <td>9.5836</td>\n",
       "      <td>52100.33</td>\n",
       "      <td>0.0</td>\n",
       "      <td>0.0</td>\n",
       "      <td>0.0</td>\n",
       "      <td>...</td>\n",
       "      <td>0.0</td>\n",
       "      <td>52100.33</td>\n",
       "      <td>52100.33</td>\n",
       "      <td>52100.33</td>\n",
       "      <td>9.5836</td>\n",
       "      <td>9.5836</td>\n",
       "      <td>9.5836</td>\n",
       "      <td>13.120980</td>\n",
       "      <td>0.012219</td>\n",
       "      <td>0.021819</td>\n",
       "    </tr>\n",
       "    <tr>\n",
       "      <th>0</th>\n",
       "      <td>2009-01-05</td>\n",
       "      <td>600016.SH</td>\n",
       "      <td>1.6369</td>\n",
       "      <td>1.6487</td>\n",
       "      <td>1.6170</td>\n",
       "      <td>1.6448</td>\n",
       "      <td>947739.82</td>\n",
       "      <td>0.0</td>\n",
       "      <td>0.0</td>\n",
       "      <td>0.0</td>\n",
       "      <td>...</td>\n",
       "      <td>0.0</td>\n",
       "      <td>947739.82</td>\n",
       "      <td>947739.82</td>\n",
       "      <td>947739.82</td>\n",
       "      <td>1.6448</td>\n",
       "      <td>1.6448</td>\n",
       "      <td>1.6448</td>\n",
       "      <td>14.259454</td>\n",
       "      <td>0.004803</td>\n",
       "      <td>0.019273</td>\n",
       "    </tr>\n",
       "    <tr>\n",
       "      <th>0</th>\n",
       "      <td>2009-01-05</td>\n",
       "      <td>600028.SH</td>\n",
       "      <td>3.1966</td>\n",
       "      <td>3.2461</td>\n",
       "      <td>3.1786</td>\n",
       "      <td>3.2371</td>\n",
       "      <td>361085.66</td>\n",
       "      <td>0.0</td>\n",
       "      <td>0.0</td>\n",
       "      <td>0.0</td>\n",
       "      <td>...</td>\n",
       "      <td>0.0</td>\n",
       "      <td>361085.66</td>\n",
       "      <td>361085.66</td>\n",
       "      <td>361085.66</td>\n",
       "      <td>3.2371</td>\n",
       "      <td>3.2371</td>\n",
       "      <td>3.2371</td>\n",
       "      <td>13.971548</td>\n",
       "      <td>0.012511</td>\n",
       "      <td>0.020852</td>\n",
       "    </tr>\n",
       "    <tr>\n",
       "      <th>0</th>\n",
       "      <td>2009-01-05</td>\n",
       "      <td>600030.SH</td>\n",
       "      <td>9.2667</td>\n",
       "      <td>9.5705</td>\n",
       "      <td>9.1654</td>\n",
       "      <td>9.5502</td>\n",
       "      <td>818978.41</td>\n",
       "      <td>0.0</td>\n",
       "      <td>0.0</td>\n",
       "      <td>0.0</td>\n",
       "      <td>...</td>\n",
       "      <td>0.0</td>\n",
       "      <td>818978.41</td>\n",
       "      <td>818978.41</td>\n",
       "      <td>818978.41</td>\n",
       "      <td>9.5502</td>\n",
       "      <td>9.5502</td>\n",
       "      <td>9.5502</td>\n",
       "      <td>15.872375</td>\n",
       "      <td>0.029685</td>\n",
       "      <td>0.042418</td>\n",
       "    </tr>\n",
       "  </tbody>\n",
       "</table>\n",
       "<p>5 rows × 23 columns</p>\n",
       "</div>"
      ],
      "text/plain": [
       "         date        tic    open    high     low   close     volume  day  \\\n",
       "0  2009-01-05  600000.SH  2.7584  2.8115  2.7258  2.8013  503142.56  0.0   \n",
       "0  2009-01-05  600009.SH  9.4665  9.6505  9.4414  9.5836   52100.33  0.0   \n",
       "0  2009-01-05  600016.SH  1.6369  1.6487  1.6170  1.6448  947739.82  0.0   \n",
       "0  2009-01-05  600028.SH  3.1966  3.2461  3.1786  3.2371  361085.66  0.0   \n",
       "0  2009-01-05  600030.SH  9.2667  9.5705  9.1654  9.5502  818978.41  0.0   \n",
       "\n",
       "   boll_ub  boll_lb  ...  macd  volume_20_sma  volume_60_sma  volume_120_sma  \\\n",
       "0      0.0      0.0  ...   0.0      503142.56      503142.56       503142.56   \n",
       "0      0.0      0.0  ...   0.0       52100.33       52100.33        52100.33   \n",
       "0      0.0      0.0  ...   0.0      947739.82      947739.82       947739.82   \n",
       "0      0.0      0.0  ...   0.0      361085.66      361085.66       361085.66   \n",
       "0      0.0      0.0  ...   0.0      818978.41      818978.41       818978.41   \n",
       "\n",
       "   close_20_sma  close_60_sma  close_120_sma  log_volume    change  \\\n",
       "0        2.8013        2.8013         2.8013   14.158712  0.015314   \n",
       "0        9.5836        9.5836         9.5836   13.120980  0.012219   \n",
       "0        1.6448        1.6448         1.6448   14.259454  0.004803   \n",
       "0        3.2371        3.2371         3.2371   13.971548  0.012511   \n",
       "0        9.5502        9.5502         9.5502   15.872375  0.029685   \n",
       "\n",
       "   daily_variance  \n",
       "0        0.030593  \n",
       "0        0.021819  \n",
       "0        0.019273  \n",
       "0        0.020852  \n",
       "0        0.042418  \n",
       "\n",
       "[5 rows x 23 columns]"
      ]
     },
     "execution_count": 12,
     "metadata": {},
     "output_type": "execute_result"
    }
   ],
   "source": [
    "train_data.head()"
   ]
  },
  {
   "cell_type": "code",
   "execution_count": 13,
   "metadata": {
    "colab": {
     "base_uri": "https://localhost:8080/",
     "height": 309
    },
    "id": "SymPC9A86mNs",
    "outputId": "69a64322-b26a-4ff6-a658-ef7ce208e046"
   },
   "outputs": [
    {
     "data": {
      "text/html": [
       "<div>\n",
       "<style scoped>\n",
       "    .dataframe tbody tr th:only-of-type {\n",
       "        vertical-align: middle;\n",
       "    }\n",
       "\n",
       "    .dataframe tbody tr th {\n",
       "        vertical-align: top;\n",
       "    }\n",
       "\n",
       "    .dataframe thead th {\n",
       "        text-align: right;\n",
       "    }\n",
       "</style>\n",
       "<table border=\"1\" class=\"dataframe\">\n",
       "  <thead>\n",
       "    <tr style=\"text-align: right;\">\n",
       "      <th></th>\n",
       "      <th>date</th>\n",
       "      <th>tic</th>\n",
       "      <th>open</th>\n",
       "      <th>high</th>\n",
       "      <th>low</th>\n",
       "      <th>close</th>\n",
       "      <th>volume</th>\n",
       "      <th>day</th>\n",
       "      <th>boll_ub</th>\n",
       "      <th>boll_lb</th>\n",
       "      <th>...</th>\n",
       "      <th>macd</th>\n",
       "      <th>volume_20_sma</th>\n",
       "      <th>volume_60_sma</th>\n",
       "      <th>volume_120_sma</th>\n",
       "      <th>close_20_sma</th>\n",
       "      <th>close_60_sma</th>\n",
       "      <th>close_120_sma</th>\n",
       "      <th>log_volume</th>\n",
       "      <th>change</th>\n",
       "      <th>daily_variance</th>\n",
       "    </tr>\n",
       "  </thead>\n",
       "  <tbody>\n",
       "    <tr>\n",
       "      <th>0</th>\n",
       "      <td>2019-01-02</td>\n",
       "      <td>600000.SH</td>\n",
       "      <td>8.9589</td>\n",
       "      <td>9.0049</td>\n",
       "      <td>8.8117</td>\n",
       "      <td>8.9221</td>\n",
       "      <td>237628.22</td>\n",
       "      <td>2.0</td>\n",
       "      <td>10.502893</td>\n",
       "      <td>8.657577</td>\n",
       "      <td>...</td>\n",
       "      <td>-0.251945</td>\n",
       "      <td>2.152395e+05</td>\n",
       "      <td>2.430301e+05</td>\n",
       "      <td>2.210339e+05</td>\n",
       "      <td>9.580235</td>\n",
       "      <td>9.716063</td>\n",
       "      <td>9.475849</td>\n",
       "      <td>14.566994</td>\n",
       "      <td>-0.004125</td>\n",
       "      <td>0.021654</td>\n",
       "    </tr>\n",
       "    <tr>\n",
       "      <th>0</th>\n",
       "      <td>2019-01-02</td>\n",
       "      <td>600009.SH</td>\n",
       "      <td>49.6941</td>\n",
       "      <td>49.8119</td>\n",
       "      <td>48.8298</td>\n",
       "      <td>49.4780</td>\n",
       "      <td>40051.97</td>\n",
       "      <td>2.0</td>\n",
       "      <td>51.140976</td>\n",
       "      <td>48.044854</td>\n",
       "      <td>...</td>\n",
       "      <td>0.025528</td>\n",
       "      <td>3.263298e+04</td>\n",
       "      <td>5.353243e+04</td>\n",
       "      <td>5.799566e+04</td>\n",
       "      <td>49.592915</td>\n",
       "      <td>49.906370</td>\n",
       "      <td>53.102410</td>\n",
       "      <td>14.499461</td>\n",
       "      <td>-0.004368</td>\n",
       "      <td>0.019849</td>\n",
       "    </tr>\n",
       "    <tr>\n",
       "      <th>0</th>\n",
       "      <td>2019-01-02</td>\n",
       "      <td>600016.SH</td>\n",
       "      <td>5.0982</td>\n",
       "      <td>5.1071</td>\n",
       "      <td>5.0002</td>\n",
       "      <td>5.0358</td>\n",
       "      <td>579415.00</td>\n",
       "      <td>2.0</td>\n",
       "      <td>5.554261</td>\n",
       "      <td>4.922929</td>\n",
       "      <td>...</td>\n",
       "      <td>-0.108006</td>\n",
       "      <td>6.324888e+05</td>\n",
       "      <td>6.533327e+05</td>\n",
       "      <td>6.093035e+05</td>\n",
       "      <td>5.238595</td>\n",
       "      <td>5.419815</td>\n",
       "      <td>5.361655</td>\n",
       "      <td>14.886347</td>\n",
       "      <td>-0.012391</td>\n",
       "      <td>0.021228</td>\n",
       "    </tr>\n",
       "    <tr>\n",
       "      <th>0</th>\n",
       "      <td>2019-01-02</td>\n",
       "      <td>600028.SH</td>\n",
       "      <td>4.4596</td>\n",
       "      <td>4.4684</td>\n",
       "      <td>4.3372</td>\n",
       "      <td>4.3809</td>\n",
       "      <td>2185583.70</td>\n",
       "      <td>2.0</td>\n",
       "      <td>5.502448</td>\n",
       "      <td>4.478342</td>\n",
       "      <td>...</td>\n",
       "      <td>-0.185334</td>\n",
       "      <td>1.141945e+06</td>\n",
       "      <td>1.169240e+06</td>\n",
       "      <td>1.067717e+06</td>\n",
       "      <td>4.990395</td>\n",
       "      <td>5.276185</td>\n",
       "      <td>5.487852</td>\n",
       "      <td>16.074648</td>\n",
       "      <td>-0.017964</td>\n",
       "      <td>0.029948</td>\n",
       "    </tr>\n",
       "    <tr>\n",
       "      <th>0</th>\n",
       "      <td>2019-01-02</td>\n",
       "      <td>600030.SH</td>\n",
       "      <td>0.0000</td>\n",
       "      <td>0.0000</td>\n",
       "      <td>0.0000</td>\n",
       "      <td>0.0000</td>\n",
       "      <td>0.00</td>\n",
       "      <td>0.0</td>\n",
       "      <td>0.000000</td>\n",
       "      <td>0.000000</td>\n",
       "      <td>...</td>\n",
       "      <td>0.000000</td>\n",
       "      <td>0.000000e+00</td>\n",
       "      <td>0.000000e+00</td>\n",
       "      <td>0.000000e+00</td>\n",
       "      <td>0.000000</td>\n",
       "      <td>0.000000</td>\n",
       "      <td>0.000000</td>\n",
       "      <td>-inf</td>\n",
       "      <td>0.000000</td>\n",
       "      <td>0.000000</td>\n",
       "    </tr>\n",
       "  </tbody>\n",
       "</table>\n",
       "<p>5 rows × 23 columns</p>\n",
       "</div>"
      ],
      "text/plain": [
       "         date        tic     open     high      low    close      volume  day  \\\n",
       "0  2019-01-02  600000.SH   8.9589   9.0049   8.8117   8.9221   237628.22  2.0   \n",
       "0  2019-01-02  600009.SH  49.6941  49.8119  48.8298  49.4780    40051.97  2.0   \n",
       "0  2019-01-02  600016.SH   5.0982   5.1071   5.0002   5.0358   579415.00  2.0   \n",
       "0  2019-01-02  600028.SH   4.4596   4.4684   4.3372   4.3809  2185583.70  2.0   \n",
       "0  2019-01-02  600030.SH   0.0000   0.0000   0.0000   0.0000        0.00  0.0   \n",
       "\n",
       "     boll_ub    boll_lb  ...      macd  volume_20_sma  volume_60_sma  \\\n",
       "0  10.502893   8.657577  ... -0.251945   2.152395e+05   2.430301e+05   \n",
       "0  51.140976  48.044854  ...  0.025528   3.263298e+04   5.353243e+04   \n",
       "0   5.554261   4.922929  ... -0.108006   6.324888e+05   6.533327e+05   \n",
       "0   5.502448   4.478342  ... -0.185334   1.141945e+06   1.169240e+06   \n",
       "0   0.000000   0.000000  ...  0.000000   0.000000e+00   0.000000e+00   \n",
       "\n",
       "   volume_120_sma  close_20_sma  close_60_sma  close_120_sma  log_volume  \\\n",
       "0    2.210339e+05      9.580235      9.716063       9.475849   14.566994   \n",
       "0    5.799566e+04     49.592915     49.906370      53.102410   14.499461   \n",
       "0    6.093035e+05      5.238595      5.419815       5.361655   14.886347   \n",
       "0    1.067717e+06      4.990395      5.276185       5.487852   16.074648   \n",
       "0    0.000000e+00      0.000000      0.000000       0.000000        -inf   \n",
       "\n",
       "     change  daily_variance  \n",
       "0 -0.004125        0.021654  \n",
       "0 -0.004368        0.019849  \n",
       "0 -0.012391        0.021228  \n",
       "0 -0.017964        0.029948  \n",
       "0  0.000000        0.000000  \n",
       "\n",
       "[5 rows x 23 columns]"
      ]
     },
     "execution_count": 13,
     "metadata": {},
     "output_type": "execute_result"
    }
   ],
   "source": [
    "test_data.head()"
   ]
  },
  {
   "cell_type": "markdown",
   "metadata": {
    "id": "98kYgqGmagbD"
   },
   "source": [
    "## 4、初始化环境"
   ]
  },
  {
   "cell_type": "markdown",
   "metadata": {
    "id": "MDlKRLpaa38j"
   },
   "source": [
    "**state_space 由四部分组成 :** <br>\n",
    "1. 当天的资金量\n",
    "2. 每只股票当天的收盘价\n",
    "3. 每只股票当天的持仓量\n",
    "4. 股票数 * 技术指标数<br>\n",
    "5. 当天成交量\n",
    "\n",
    "**reward 的计算方式：**<br>\n",
    "* reward 交易前的总资产-当天交易后的总资产 = 当天交易的手续费\n",
    "* TODO：待改进\n",
    "\n",
    "**action_space 的空间：**<br>\n",
    "  * actions ∈[-100, 100]\n",
    "  * 正数表示买入，负数表示卖出，0表示不进行买入卖出操作\n",
    "  * 绝对值表示买入卖出的数量"
   ]
  },
  {
   "cell_type": "code",
   "execution_count": 14,
   "metadata": {
    "id": "sCXH6GOcaWtS"
   },
   "outputs": [],
   "source": [
    "# stock_dimension = len(df.tic.unique())\n",
    "# state_space = 1 + 2*stock_dimension + \\\n",
    "#     len(config.TECHNICAL_INDICATORS_LIST)*stock_dimension + stock_dimension\n",
    "# print(\"stock_dimension: {}, state_space: {}\".format(stock_dimension, state_space))"
   ]
  },
  {
   "cell_type": "code",
   "execution_count": 15,
   "metadata": {
    "colab": {
     "base_uri": "https://localhost:8080/"
    },
    "id": "rXLVf1gebTp1",
    "outputId": "297dd934-ec49-4c9a-d5b9-4c369d52e22b"
   },
   "outputs": [
    {
     "name": "stdout",
     "output_type": "stream",
     "text": [
      "caching data\n",
      "data cached!\n",
      "caching data\n",
      "data cached!\n"
     ]
    }
   ],
   "source": [
    "# 初始化环境的参数\n",
    "information_cols = config.TECHNICAL_INDICATORS_LIST + [\"close\", \"day\", \"log_volume\", \"change\", \"daily_variance\"]\n",
    "\n",
    "e_train_gym = StockTradingEnvCashpenalty(df = train_data,initial_amount = 1e6,hmax = 5000, \n",
    "                                turbulence_threshold = None, \n",
    "                                currency='￥',\n",
    "                                buy_cost_pct=3e-3,\n",
    "                                sell_cost_pct=3e-3,\n",
    "                                cash_penalty_proportion=0.2,\n",
    "                                cache_indicator_data=True,\n",
    "                                daily_information_cols = information_cols, \n",
    "                                print_verbosity = 500, \n",
    "                                random_start = True)\n",
    "\n",
    "e_trade_gym = StockTradingEnvCashpenalty(df = test_data,initial_amount = 1e6,hmax = 5000, \n",
    "                                turbulence_threshold = None, \n",
    "                                currency='￥',\n",
    "                                buy_cost_pct=3e-3,\n",
    "                                sell_cost_pct=3e-3,\n",
    "                                cash_penalty_proportion=0.2,\n",
    "                                cache_indicator_data=True,\n",
    "                                daily_information_cols = information_cols, \n",
    "                                print_verbosity = 500, \n",
    "                                random_start = False)"
   ]
  },
  {
   "cell_type": "code",
   "execution_count": 16,
   "metadata": {
    "colab": {
     "base_uri": "https://localhost:8080/"
    },
    "id": "KPL6HInvd_yB",
    "outputId": "580ebcb0-836b-4fc3-da1e-b55d467eacb5"
   },
   "outputs": [
    {
     "name": "stdout",
     "output_type": "stream",
     "text": [
      "EPISODE|STEPS|TERMINAL_REASON|CASH           |TOT_ASSETS     |TERMINAL_REWARD_unsc|GAINLOSS_PCT|CASH_PROPORTION\n"
     ]
    },
    {
     "name": "stderr",
     "output_type": "stream",
     "text": [
      "/home/RL_in_Finance/utils/env_cash_penalty.py:283: RuntimeWarning: invalid value encountered in true_divide\n",
      "  actions = actions / self.closings\n"
     ]
    },
    {
     "name": "stdout",
     "output_type": "stream",
     "text": [
      "count:  100\n",
      "observation:  [217462.5905610907, 4799.053879811619, 1327.0246801630715, 2444.6240088925197, 1840.1737159507027, 279.83331506616685, 440.7070203080235, 3198.3117058862244, 3345.7312086136426, 3979.718585319726, 2803.9324147161224, 1120.5702674258753, 482.6539289179922, 0.0, 597.3675509748336, 2111.7873336900698, 250.62555175452997, 1523.0547927447706, 4434.716314921464, 3675.37429972151, 4887.73725154541, 4621.733859731782, 506.488100984956, 0.0, 0.0, 0.0, 0.0, 2281.5831012472913, 0.0, 2616.7842858674976, 6400.108465467284, 0.0, 0.0, 1231.3967334980866, 1067.509282328241, 0.0, 0.0, 4317.77620927676, 467.9442361268968, 3997.163906962513, 16913.979848841056, 892.5635566595512, 0.0, 9989.20343457664, 4940.37731207494, 588.9319801466056, 0.0, 0.0, 0.0, 0.0, 0.0, 5.431941987840882, 4.687358012159115, 39.729416499392855, -154.79000257665604, 36.78199412424911, -0.12068092194455637, 457539.75799999817, 659567.5646666667, 747341.4061666661, 5.059649999999999, 5.227898333333333, 5.044689166666671, 4.7709, 3.0, 14.549859758740762, -0.0062462009264499, 0.0124924018528998, 11.859500820227868, 10.372339179772133, 36.61575904645181, -136.53686176491175, 61.10751515218443, -0.3445403597610994, 54845.823499999475, 120171.57800000008, 152069.816, 11.115920000000001, 11.81967333333333, 11.663656666666668, 10.4467, 3.0, 13.073271492739545, -0.0008040816717240816, 0.014511759694448982, 2.963368268124812, 2.7393817318751985, 51.814783712624354, -29.46317835135205, 3.1075330336170106, -0.00902484369062817, 992268.489500002, 1512343.5969999998, 1401126.8225000005, 2.8513750000000053, 2.828948333333335, 2.6551474999999995, 2.8385, 3.0, 14.177488518803665, -0.0034525277435266, 0.010428042980447524, 3.8654432386557573, 3.6549867613442313, 42.97956032998161, -40.68096683168143, 17.137176738798964, -0.04597903869541442, 265792.82749999844, 428483.93683333293, 560028.0275833327, 3.7602149999999943, 3.9432750000000016, 3.973293333333338, 3.7562, 3.0, 13.842743426918975, -0.006229700228954699, 0.00995687130610732, 10.306566196867099, 9.637953803132923, 43.83461618892253, -58.65748416443805, 21.104280189590533, -0.1370699661810839, 450380.9160000004, 760908.2288333342, 902948.4210833341, 9.972260000000011, 10.644744999999991, 10.52370083333332, 9.8661, 3.0, 15.296093841690562, -0.020068720162982376, 0.0259271647358126, 15.352373720437537, 13.558946279562473, 48.661697496991515, -10.80302614057503, 4.774026927665653, -0.10674083069560325, 368043.96099999984, 460673.2948333336, 479610.88516666705, 14.455660000000005, 15.366208333333354, 14.163862499999995, 14.5733, 3.0, 15.046366845587096, 0.004151427610767591, 0.027893476426066807, 9.773998344811037, 8.600291655188943, 40.83476339683144, -125.6141031489745, 35.764194442523866, -0.1975443201582845, 422329.73850000196, 634125.1648333339, 751862.2492499988, 9.18714499999999, 9.572875000000003, 9.228736666666675, 8.8287, 3.0, 14.540248866712998, -0.006286316218695882, 0.010998221708745263, 4.345670897385474, 3.7482091026145303, 50.608101628819384, 39.993964471342125, 10.760636857111134, -0.01292309465509156, 260435.8120000003, 312570.9748333338, 442148.8152500001, 4.046940000000002, 4.204724999999996, 4.201729999999991, 4.167, 3.0, 14.278867915382596, -0.017062634989200957, 0.03513318934485238, 5.243536351209258, 4.9784936487907245, 45.87642994063565, -43.378390842904025, 7.42262432479714, -0.020372557652436285, 543832.0970000003, 769130.8791666646, 1049543.490000001, 5.111014999999991, 5.221978333333336, 5.240901666666659, 5.0522, 3.0, 15.234564089532215, -0.023474921816238434, 0.036103083805075084, 11.160230542250776, 9.761489457749228, 50.20075994728074, 70.78996418967522, 16.03837909038792, 0.05060420177295377, 127471.70199999998, 234739.03983333398, 274759.6011666667, 10.460860000000002, 10.781818333333325, 10.667307499999982, 10.6298, 3.0, 14.11388415506178, -0.019821633520856554, 0.032653483602701774, 10.509160620004202, 8.960919379995811, 34.79578212499135, -147.45771235420736, 54.3983711381966, -0.2964837180710038, 50593.99949999957, 91778.54600000034, 124921.22241666677, 9.735040000000007, 10.279016666666667, 10.852514999999988, 9.0408, 3.0, 12.977147012524204, -0.00881559154057152, 0.013704539421290237, 6.850095618628098, 6.108664381371895, 41.21706218320303, -123.51457904051843, 16.697531330013767, -0.09948539865906803, 30145.642499999994, 35541.06133333331, 36528.158000000076, 6.479379999999996, 6.569668333333335, 6.880849166666665, 6.1962, 3.0, 11.960677226851821, -0.016606952648397403, 0.020335044059262182, 11.112366739897341, 9.968313260102638, 47.27995016940063, 2.9724392384886755, 4.1534997699336875, -0.12720134915431736, 109198.19949999994, 135583.77483333353, 169357.28649999984, 10.54033999999999, 11.513418333333325, 10.81302416666667, 10.7031, 3.0, 13.983190637962624, -0.008212573927180089, 0.022273920639814673, 133.26116508368673, 120.65294491631316, 57.43268089867112, 54.428730756077215, 19.759689354356805, 2.601678478827253, 36670.34100000001, 31406.928333333355, 33637.55133333331, 126.95705499999994, 118.08519333333344, 116.0567708333333, 127.3674, 3.0, 14.630172129376106, 0.004039495192647398, 0.0249734233406666, 22.922755563734054, 21.674454436265943, 44.36634053074444, -28.579914192031215, 6.871904662661706, -0.23553920095911351, 72050.0074999997, 161798.46450000053, 158689.21075000026, 22.298605, 23.719780000000007, 23.957518333333333, 22.11, 3.0, 13.796872479445868, -0.013387607417458135, 0.014283129805517839, 8.39695573179434, 7.698714268205671, 36.6571377164377, -110.58803063957396, 52.32759303255177, -0.17634111204108738, 18668.105000000058, 32578.464833333182, 36398.63691666669, 8.047835000000006, 8.570828333333345, 9.536973333333322, 7.6716, 3.0, 12.123320141141612, -0.036276656759998, 0.037749621982376566, 19.58870391121937, 17.08777608878065, 53.27992297410309, 96.5319547958925, 11.886988440062487, 0.0016357245099847262, 130276.20250000013, 159876.51333333369, 194094.04358333338, 18.33824000000001, 19.43758333333334, 17.746206666666684, 19.3806, 3.0, 14.874179991786825, 0.027243738583944882, 0.05568971032888558, 4.988572028268736, 4.647067971731262, 51.371823531096, 68.25974864217847, 9.040846590771357, 0.015935572029863287, 17568.42149999996, 25113.606166666697, 30868.725083333487, 4.817819999999999, 4.804639999999998, 4.9807458333333345, 4.9022, 3.0, 12.2432637358726, 0.014626086246991122, 0.017073966790420697, 0.0, 0.0, 0.0, 0.0, 0.0, 0.0, 0.0, 0.0, 0.0, 0.0, 0.0, 0.0, 0.0, 0.0, -inf, 0.0, 0.0, 7.060545422153286, 5.640444577846727, 37.55914164083248, -90.75239794846283, 34.35394233318507, -0.22625095802206197, 37874.806500000035, 30354.67533333339, 52440.94758333334, 6.350495000000007, 6.994626666666673, 7.42398666666667, 6.067, 3.0, 12.231110211641628, 0.0036921048294050103, 0.024690951046645777, 10.223109713835262, 7.92631028616474, 40.40273391741621, -193.57049341731098, 25.814638886266177, -0.29099536614008237, 74673.97249999997, 90156.79199999993, 86141.30933333337, 9.074710000000001, 9.709483333333331, 9.050823333333323, 7.9188, 3.0, 12.626189271308121, -0.04666111026923265, 0.0504369348891245, 7.8031955810941085, 7.10852441890586, 35.63304840096717, -177.93190056226265, 48.79739773548089, -0.21369813191645193, 342174.7844999997, 471773.369499999, 511217.42066666606, 7.455859999999984, 8.07981833333333, 8.212794166666653, 7.0422, 3.0, 14.645294765360521, -0.0119706909772514, 0.015563318281218862, 5.223389719535813, 4.29765028046419, 37.89222197071513, -248.35889622674182, 10.235786780125684, -0.09392555501880562, 173472.44000000012, 109433.18933333347, 88178.60624999972, 4.760520000000001, 4.848476666666669, 4.956410833333336, 4.1948, 3.0, 14.508631465729092, -0.02147897396776974, 0.03318394202345756, 0.0, 0.0, 0.0, 0.0, 0.0, 0.0, 0.0, 0.0, 0.0, 0.0, 0.0, 0.0, 0.0, 0.0, -inf, 0.0, 0.0, 0.0, 0.0, 0.0, 0.0, 0.0, 0.0, 0.0, 0.0, 0.0, 0.0, 0.0, 0.0, 0.0, 0.0, -inf, 0.0, 0.0, 0.0, 0.0, 0.0, 0.0, 0.0, 0.0, 0.0, 0.0, 0.0, 0.0, 0.0, 0.0, 0.0, 0.0, -inf, 0.0, 0.0, 16.88539855299779, 15.668001447002231, 53.29209142055556, 161.33025542525326, 11.260607886138072, 0.05589905367202874, 167991.10650000037, 245240.6215000004, 269608.6277499997, 16.27670000000001, 16.589328333333345, 15.502599166666654, 16.6394, 3.0, 14.512012500846163, -0.001424330204214191, 0.01848023366227154, 0.0, 0.0, 0.0, 0.0, 0.0, 0.0, 0.0, 0.0, 0.0, 0.0, 0.0, 0.0, 0.0, 0.0, -inf, 0.0, 0.0, 7.066510935928665, 5.974749064071334, 37.182997541729826, -114.36281682684414, 37.069644689158075, -0.24403577709826596, 511019.8140000001, 568053.0411666663, 569497.4832500002, 6.52063, 7.159401666666666, 6.938595000000015, 6.1725, 3.0, 14.484742555632051, 0.0, 0.013786958282705505, 5.525695256366998, 4.753544743633, 28.53752591172757, -123.54943895655396, 62.720180794842015, -0.16512734742033608, 153437.4115000007, 220820.27750000072, 336728.20266666746, 5.139619999999999, 5.514771666666661, 5.76839416666667, 4.8279, 3.0, 13.746525872406318, -0.01897305246587555, 0.020692226433853204, 0.0, 0.0, 0.0, 0.0, 0.0, 0.0, 0.0, 0.0, 0.0, 0.0, 0.0, 0.0, 0.0, 0.0, -inf, 0.0, 0.0, 0.0, 0.0, 0.0, 0.0, 0.0, 0.0, 0.0, 0.0, 0.0, 0.0, 0.0, 0.0, 0.0, 0.0, -inf, 0.0, 0.0, 1.7891173158697988, 1.6167226841302034, 43.183170914531914, -134.7413400581424, 46.65920756952239, -0.024801058981809287, 1284690.2144999998, 1741426.8759999985, 1663461.702250001, 1.702920000000001, 1.7218433333333347, 1.6600308333333358, 1.6464, 3.0, 14.365577816726221, 0.0037050534499514054, 0.011054421768707478, 0.0, 0.0, 0.0, 0.0, 0.0, 0.0, 0.0, 0.0, 0.0, 0.0, 0.0, 0.0, 0.0, 0.0, -inf, 0.0, 0.0, 0.0, 0.0, 0.0, 0.0, 0.0, 0.0, 0.0, 0.0, 0.0, 0.0, 0.0, 0.0, 0.0, 0.0, -inf, 0.0, 0.0, 0.0, 0.0, 0.0, 0.0, 0.0, 0.0, 0.0, 0.0, 0.0, 0.0, 0.0, 0.0, 0.0, 0.0, -inf, 0.0, 0.0, 2.7660849472577533, 2.614005052742246, 49.873395010489254, -33.576119905689104, 15.605357976781683, -0.010104960587703271, 633905.4064999984, 603961.6721666645, 649674.8610833359, 2.6900449999999996, 2.7195433333333368, 2.6446400000000008, 2.693, 3.0, 13.916602377396408, 0.004678796880802059, 0.01165985889342744, 17.711434169770822, 16.000665830229213, 38.744790620320416, -177.19601020878702, 53.62008536014099, -0.4234992009330334, 155771.3634999996, 231638.55550000034, 243302.89183333324, 16.856050000000018, 17.724350000000005, 17.75747083333329, 15.9735, 3.0, 14.520448795162118, -0.0009828778915078546, 0.024039815945159193, 17.09346358680399, 15.61231641319606, 34.654137490990394, -113.30614045527719, 65.62253951060394, -0.3713769761398211, 81059.78350000015, 157718.71050000004, 167156.0439166664, 16.352890000000023, 17.494671666666648, 18.042354166666673, 15.8895, 3.0, 13.787453950351443, -0.0032537210107303756, 0.008678687183360088, 2.100814609691593, 1.9320853903084032, 52.68848383927927, 38.229777142802064, 20.996053442679834, -0.0028103668009822336, 574104.1440000024, 1172059.8996666677, 1171468.6552499977, 2.016449999999998, 2.051028333333331, 1.9836441666666706, 2.063, 3.0, 13.737081729862897, -0.005283567619970872, 0.013136209403781069, 11.028703818754641, 9.760106181245364, 34.100010176235756, -148.37310059612068, 37.9260966273204, -0.31880778344419447, 70138.98049999958, 116315.76833333304, 149482.1360000007, 10.394405000000003, 11.246440000000003, 11.568737500000015, 9.7821, 3.0, 13.52385790349843, -0.015415912738573545, 0.023992803181320996, 0.0, 0.0, 0.0, 0.0, 0.0, 0.0, 0.0, 0.0, 0.0, 0.0, 0.0, 0.0, 0.0, 0.0, -inf, 0.0, 0.0, 2.509295882296003, 2.162644117703999, 36.55936438067631, -84.45719082260655, 44.60027092614032, -0.061554316959191446, 512167.2409999998, 847255.0783333328, 1185024.8079999997, 2.335970000000001, 2.483794999999998, 2.5378116666666655, 2.2551, 3.0, 13.490868253205724, -0.01503259278967675, 0.018047980133918555, 8.589695602595068, 8.269804397404897, 41.761360521599975, -49.832066680888, 25.98649754416388, -0.06454049418398178, 208245.21599999972, 268728.7666666672, 312485.2145833329, 8.429749999999983, 8.820115000000014, 8.816292499999987, 8.3822, 3.0, 13.907152332908051, -0.009329293025697396, 0.02146214597599675, 11.936679876126414, 9.972880123873606, 36.17482006809934, -103.83779091598778, 35.76178387793313, -0.4483460871813527, 25238.88299999979, 61280.34266666671, 55894.41449999992, 10.95478000000001, 12.114096666666667, 12.750955833333329, 10.3214, 3.0, 12.127700671725714, -0.00311004321119226, 0.016906621194798993, 0.0, 0.0, 0.0, 0.0, 0.0, 0.0, 0.0, 0.0, 0.0, 0.0, 0.0, 0.0, 0.0, 0.0, -inf, 0.0, 0.0, 0.0, 0.0, 0.0, 0.0, 0.0, 0.0, 0.0, 0.0, 0.0, 0.0, 0.0, 0.0, 0.0, 0.0, -inf, 0.0, 0.0, 0.0, 0.0, 0.0, 0.0, 0.0, 0.0, 0.0, 0.0, 0.0, 0.0, 0.0, 0.0, 0.0, 0.0, -inf, 0.0, 0.0, 0.0, 0.0, 0.0, 0.0, 0.0, 0.0, 0.0, 0.0, 0.0, 0.0, 0.0, 0.0, 0.0, 0.0, -inf, 0.0, 0.0, 0.0, 0.0, 0.0, 0.0, 0.0, 0.0, 0.0, 0.0, 0.0, 0.0, 0.0, 0.0, 0.0, 0.0, -inf, 0.0, 0.0]\n",
      "reward: -0.0062899374373154605, done: False\n"
     ]
    }
   ],
   "source": [
    "# 对环境进行测试\n",
    "observation = e_train_gym.reset() # 初始化环境，observation为环境状态\n",
    "count = 0\n",
    "total_reward = 0\n",
    "for t in range(100):\n",
    "    action = e_train_gym.action_space.sample() # 随机采样动作\n",
    "    observation, reward, done, info = e_train_gym.step(action) # 与环境交互，获得下一个state的值\n",
    "    total_reward += reward\n",
    "    if done:             \n",
    "        break\n",
    "    count+=1\n",
    "    # time.sleep(0.2)      #每次等待 0.2s\n",
    "print(\"count: \", count)\n",
    "print(\"reward: {}, done: {}\".format(total_reward, done))"
   ]
  },
  {
   "cell_type": "code",
   "execution_count": 18,
   "metadata": {
    "id": "HITGmA4MfxEk"
   },
   "outputs": [
    {
     "name": "stdout",
     "output_type": "stream",
     "text": [
      "using 10 cores\n",
      "   2| 499|update         |￥1,000,000     |￥1,000,000     |0.00000%  |0.00000%  |100.00%      2| 499|update         |￥1,000,000     |￥1,000,000     |0.00000%  |0.00000%  |100.00%   \n",
      "   2| 499|update         |￥1,000,000     |￥1,000,000     |0.00000%  |0.00000%  |100.00%   \n",
      "   2| 499|update         |￥1,000,000     |￥1,000,000     |0.00000%  |0.00000%  |100.00%      2| 499|update         |￥1,000,000     |￥1,000,000     |0.00000%  |0.00000%  |100.00%      2| 499|update         |￥1,000,000     |￥1,000,000     |0.00000%  |0.00000%  |100.00%      2| 499|update         |￥1,000,000     |￥1,000,000     |0.00000%  |0.00000%  |100.00%   \n",
      "   2| 499|update         |￥1,000,000     |￥1,000,000     |0.00000%  |0.00000%  |100.00%   \n",
      "   2| 499|update         |￥1,000,000     |￥1,000,000     |0.00000%  |0.00000%  |100.00%   \n",
      "\n",
      "\n",
      "\n",
      "   2| 499|update         |￥1,000,000     |￥1,000,000     |0.00000%  |0.00000%  |100.00%   \n",
      "\n"
     ]
    }
   ],
   "source": [
    "import multiprocessing\n",
    "\n",
    "n_cores = multiprocessing.cpu_count() - 10\n",
    "n_cores = 24\n",
    "print(\"using {} cores\".format(n_cores))\n",
    "\n",
    "#this is our training env. It allows multiprocessing\n",
    "env_train, _ = e_train_gym.get_multiproc_env(n = n_cores)\n",
    "\n",
    "#this is our observation environment. It allows full diagnostics\n",
    "env_trade, _ = e_trade_gym.get_sb_env()"
   ]
  },
  {
   "cell_type": "markdown",
   "metadata": {
    "id": "CIeiCKBngDVz"
   },
   "source": [
    "## 5、开始训练"
   ]
  },
  {
   "cell_type": "markdown",
   "metadata": {
    "id": "ZdUgJvJ41eBh"
   },
   "source": [
    "所用到的框架：stable_baseline3"
   ]
  },
  {
   "cell_type": "code",
   "execution_count": 20,
   "metadata": {
    "id": "4WYp6VbGmwey"
   },
   "outputs": [],
   "source": [
    "agent = DRL_Agent(env = env_train)"
   ]
  },
  {
   "cell_type": "code",
   "execution_count": 21,
   "metadata": {
    "colab": {
     "base_uri": "https://localhost:8080/"
    },
    "id": "AHqjcamZgBLH",
    "outputId": "3208632d-2c0e-4cd9-d867-3ed62938e35b"
   },
   "outputs": [
    {
     "name": "stdout",
     "output_type": "stream",
     "text": [
      "{'n_steps': 256, 'ent_coef': 0.0, 'learning_rate': 5e-06, 'batch_size': 256, 'gamma': 0.99}\n"
     ]
    },
    {
     "name": "stderr",
     "output_type": "stream",
     "text": [
      "/opt/conda/lib/python3.6/site-packages/torch/cuda/__init__.py:52: UserWarning: CUDA initialization: Found no NVIDIA driver on your system. Please check that you have an NVIDIA GPU and installed a driver from http://www.nvidia.com/Download/index.aspx (Triggered internally at  /opt/conda/conda-bld/pytorch_1607370116979/work/c10/cuda/CUDAFunctions.cpp:100.)\n",
      "  return torch._C._cuda_getDeviceCount() > 0\n"
     ]
    }
   ],
   "source": [
    "# from torch.nn import Softsign, ReLU\n",
    "ppo_params ={'n_steps': 256, \n",
    "             'ent_coef': 0.0, \n",
    "             'learning_rate': 0.000005, \n",
    "             'batch_size': 256, \n",
    "            'gamma': 0.99}\n",
    "\n",
    "policy_kwargs = {\n",
    "#     \"activation_fn\": ReLU,\n",
    "    \"net_arch\": [1024 for _ in range(10)], \n",
    "#     \"squash_output\": True\n",
    "}\n",
    "\n",
    "model = agent.get_model(\"ppo\",  \n",
    "                        model_kwargs = ppo_params, \n",
    "                        policy_kwargs = policy_kwargs, verbose = 0)\n",
    "\n",
    "# model = model.load(\"scaling_reward.model\", env = env_train)"
   ]
  },
  {
   "cell_type": "code",
   "execution_count": null,
   "metadata": {
    "colab": {
     "base_uri": "https://localhost:8080/"
    },
    "id": "Tict0CAZf2vF",
    "outputId": "cd031fe9-3488-47d3-8805-5e5719fc2f73"
   },
   "outputs": [
    {
     "name": "stderr",
     "output_type": "stream",
     "text": [
      "/opt/conda/lib/python3.6/site-packages/stable_baselines3/common/callbacks.py:327: UserWarning: Training and eval env are not of the same type<stable_baselines3.common.vec_env.subproc_vec_env.SubprocVecEnv object at 0x7f091aa59b70> != <stable_baselines3.common.vec_env.dummy_vec_env.DummyVecEnv object at 0x7f08e3a91320>\n",
      "  warnings.warn(\"Training and eval env are not of the same type\" f\"{self.training_env} != {self.eval_env}\")\n",
      "/opt/conda/lib/python3.6/site-packages/stable_baselines3/common/evaluation.py:69: UserWarning: Evaluation environment is not wrapped with a ``Monitor`` wrapper. This may result in reporting modified episode lengths and rewards, if other wrappers happen to modify these. Consider wrapping environment first with ``Monitor`` wrapper.\n",
      "  UserWarning,\n"
     ]
    },
    {
     "name": "stdout",
     "output_type": "stream",
     "text": [
      "EPISODE|STEPS|TERMINAL_REASON|CASH           |TOT_ASSETS     |TERMINAL_REWARD_unsc|GAINLOSS_PCT|CASH_PROPORTION\n"
     ]
    },
    {
     "name": "stderr",
     "output_type": "stream",
     "text": [
      "Exception in thread Thread-4:\n",
      "Traceback (most recent call last):\n",
      "  File \"/opt/conda/lib/python3.6/threading.py\", line 916, in _bootstrap_inner\n",
      "    self.run()\n",
      "  File \"/opt/conda/lib/python3.6/site-packages/tensorboard/summary/writer/event_file_writer.py\", line 238, in run\n",
      "    self._record_writer.write(data)\n",
      "  File \"/opt/conda/lib/python3.6/site-packages/tensorboard/summary/writer/record_writer.py\", line 40, in write\n",
      "    self._writer.write(header + header_crc + data + footer_crc)\n",
      "  File \"/opt/conda/lib/python3.6/site-packages/tensorboard/compat/tensorflow_stub/io/gfile.py\", line 531, in write\n",
      "    self.fs.append(self.filename, file_content, self.binary_mode)\n",
      "  File \"/opt/conda/lib/python3.6/site-packages/tensorboard/compat/tensorflow_stub/io/gfile.py\", line 154, in append\n",
      "    self._write(filename, file_content, \"ab\" if binary_mode else \"a\")\n",
      "  File \"/opt/conda/lib/python3.6/site-packages/tensorboard/compat/tensorflow_stub/io/gfile.py\", line 158, in _write\n",
      "    with io.open(filename, mode, encoding=encoding) as f:\n",
      "FileNotFoundError: [Errno 2] No such file or directory: b'tensorboard_log/ppo/env_cashpenalty_highlr_1/events.out.tfevents.1619422725.55a9db210b06.818.0'\n",
      "\n"
     ]
    }
   ],
   "source": [
    "model.learn(total_timesteps = 30000, \n",
    "            eval_env = env_trade, \n",
    "            eval_freq = 500,\n",
    "            log_interval = 1, \n",
    "            tb_log_name = 'env_cashpenalty_highlr',\n",
    "            n_eval_episodes = 1)   "
   ]
  },
  {
   "cell_type": "code",
   "execution_count": null,
   "metadata": {
    "id": "MbiiiObKGBsV"
   },
   "outputs": [],
   "source": [
    "model.save(\"scaling_reward.model\")"
   ]
  },
  {
   "cell_type": "markdown",
   "metadata": {
    "id": "xJd8ZIEXibtL"
   },
   "source": [
    "## 6、测试"
   ]
  },
  {
   "cell_type": "code",
   "execution_count": null,
   "metadata": {
    "id": "uNlCCDXDibK7"
   },
   "outputs": [],
   "source": [
    "df_account_value, df_actions = DRL_prediction(\n",
    "    model=model, \n",
    "    environment = e_trade_gym)"
   ]
  },
  {
   "cell_type": "code",
   "execution_count": null,
   "metadata": {
    "colab": {
     "base_uri": "https://localhost:8080/"
    },
    "id": "FmjLZCsc1_wi",
    "outputId": "f3dd745a-66fe-478c-9d33-ca72da5c2f61"
   },
   "outputs": [
    {
     "name": "stdout",
     "output_type": "stream",
     "text": [
      "回测的时间窗口：2019-01-01 至 2021-01-01\n"
     ]
    }
   ],
   "source": [
    "print(\"回测的时间窗口：{} 至 {}\".format(config.End_Trade_Date, config.End_Test_Date))"
   ]
  },
  {
   "cell_type": "code",
   "execution_count": null,
   "metadata": {
    "id": "tCc9lr4wi8ag"
   },
   "outputs": [],
   "source": [
    "df_account_value.to_csv(\"df_account_value.csv\", index=False)\n",
    "print(\"查看日账户净值\")\n",
    "print(\"开始: \")\n",
    "print(df_account_value.head())\n",
    "print(\"\")\n",
    "print(\"结束: \")\n",
    "print(df_account_value.tail())"
   ]
  },
  {
   "cell_type": "code",
   "execution_count": null,
   "metadata": {
    "id": "n-m0wzTsi-7U"
   },
   "outputs": [],
   "source": [
    "print(\"查看每日所作的交易\")\n",
    "df_actions.to_csv(\"df_actions.csv\", index=False)\n",
    "df_actions.tail()"
   ]
  },
  {
   "cell_type": "markdown",
   "metadata": {
    "id": "y7nKxnGijDMT"
   },
   "source": [
    "## 7、回测"
   ]
  },
  {
   "cell_type": "code",
   "execution_count": null,
   "metadata": {
    "id": "4AB3Za7ujCyT"
   },
   "outputs": [],
   "source": [
    "print(\"---------------------获取回测结果---------------------\")\n",
    "pref_stats_all = backtest_stats(account_value=df_account_value)\n",
    "\n",
    "# perf_stats_all = pd.DataFrame(perf_stats_all)\n",
    "# now = datetime.datetime.now().strftime('%Y%m%d-%Hh%M')\n",
    "# perf_stats_all.to_csv(\"./\"+config.RESULTS_DIR+\"/perf_stats_all_\"+now+'.csv')"
   ]
  },
  {
   "cell_type": "code",
   "execution_count": null,
   "metadata": {
    "id": "Y8xHNlpxkS3Y"
   },
   "outputs": [],
   "source": [
    "# 获取 baseline 的结果\n",
    "print(\"---------------------获取baseline结果---------------------\")\n",
    "baseline_df = get_baseline(config.SSE_50_INDEX, \n",
    "              start=\"20190101\",\n",
    "              end=\"20210101\")\n",
    "baseline_stats = backtest_stats(baseline_df, value_col_name='close')"
   ]
  },
  {
   "cell_type": "code",
   "execution_count": null,
   "metadata": {
    "id": "3rxEGprCZNlQ"
   },
   "outputs": [],
   "source": [
    "# 删除 df_account_value 中重复的行\n",
    "df_account_value.drop(df_account_value.index[1], inplace=True)"
   ]
  },
  {
   "cell_type": "code",
   "execution_count": null,
   "metadata": {
    "id": "QuZ4lYXPXjmG"
   },
   "outputs": [],
   "source": [
    "baseline_df.head(10)"
   ]
  },
  {
   "cell_type": "code",
   "execution_count": null,
   "metadata": {
    "id": "PZOihmmakVrh"
   },
   "outputs": [],
   "source": [
    "print(\"---------------------Plot---------------------\")\n",
    "print(\"和 {} 指数进行比较\".format(config.SSE_50_INDEX[0]))\n",
    "%matplotlib inline\n",
    "backtest_plot(df_account_value,\n",
    "        baseline_start=\"20190101\",\n",
    "        baseline_end=\"20210101\",\n",
    "        baseline_ticker=config.SSE_50_INDEX,\n",
    "      )"
   ]
  },
  {
   "cell_type": "code",
   "execution_count": null,
   "metadata": {
    "id": "VmTn_np4uf7U"
   },
   "outputs": [],
   "source": []
  }
 ],
 "metadata": {
  "colab": {
   "collapsed_sections": [],
   "name": "RL_in_Finance_Test_Cash_Penalty(Docker).ipynb",
   "provenance": [],
   "toc_visible": true
  },
  "kernelspec": {
   "display_name": "Python 3",
   "language": "python",
   "name": "python3"
  },
  "language_info": {
   "codemirror_mode": {
    "name": "ipython",
    "version": 3
   },
   "file_extension": ".py",
   "mimetype": "text/x-python",
   "name": "python",
   "nbconvert_exporter": "python",
   "pygments_lexer": "ipython3",
   "version": "3.6.12"
  }
 },
 "nbformat": 4,
 "nbformat_minor": 4
}
