{
  "nbformat": 4,
  "nbformat_minor": 0,
  "metadata": {
    "colab": {
      "name": "RL_in_Finance_Test.ipynb",
      "provenance": [],
      "collapsed_sections": []
    },
    "kernelspec": {
      "name": "python376jvsc74a57bd02ef65132be962c0ed6fc06b9503d85c8457d6bb9b861cc7514768ac0f567641f",
      "display_name": "Python 3.7.6 64-bit (conda)"
    },
    "language_info": {
      "name": "python",
      "version": "3.7.6"
    }
  },
  "cells": [
    {
      "cell_type": "markdown",
      "metadata": {
        "id": "SV3q7SkbYyPH"
      },
      "source": [
        "# RL in Finance(Test) [![Open In Colab](https://colab.research.google.com/assets/colab-badge.svg)](https://colab.research.google.com/github/sunnyswag/RL_in_Finance/blob/main/RL_in_Finance_Test.ipynb)"
      ]
    },
    {
      "cell_type": "markdown",
      "metadata": {
        "id": "W67Itu99Vu2G"
      },
      "source": [
        "## 1、拉取 github 仓库，下载并导入相关包\n",
        "&emsp;&emsp;运行流程：python setup.py -> pip install -r requirements.txt"
      ]
    },
    {
      "cell_type": "code",
      "metadata": {
        "colab": {
          "base_uri": "https://localhost:8080/"
        },
        "id": "ZeJrf1ZaTwlE",
        "outputId": "51657dcf-efb1-4811-b74b-ea7671b6201a"
      },
      "source": [
        "!pip install git+https://github.com/sunnyswag/RL_in_Finance.git\n",
        "!pip install git+https://github.com/quantopian/pyfolio.git"
      ],
      "execution_count": 1,
      "outputs": [
        {
          "output_type": "stream",
          "text": [
            "Collecting git+https://github.com/sunnyswag/RL_in_Finance.git\n",
            "  Cloning https://github.com/sunnyswag/RL_in_Finance.git to /tmp/pip-req-build-kj86soz5\n",
            "  Running command git clone -q https://github.com/sunnyswag/RL_in_Finance.git /tmp/pip-req-build-kj86soz5\n",
            "Requirement already satisfied: numpy in /usr/local/lib/python3.7/dist-packages (from RL-in-Finance==0.1.0) (1.19.5)\n",
            "Requirement already satisfied: pandas>=1.1.5 in /usr/local/lib/python3.7/dist-packages (from RL-in-Finance==0.1.0) (1.1.5)\n",
            "Collecting stockstats\n",
            "  Downloading https://files.pythonhosted.org/packages/32/41/d3828c5bc0a262cb3112a4024108a3b019c183fa3b3078bff34bf25abf91/stockstats-0.3.2-py2.py3-none-any.whl\n",
            "Collecting tushare\n",
            "\u001b[?25l  Downloading https://files.pythonhosted.org/packages/17/76/dc6784a1c07ec040e748c8e552a92e8f4bdc9f3e0e42c65699efcfee032b/tushare-1.2.62-py3-none-any.whl (214kB)\n",
            "\u001b[K     |████████████████████████████████| 215kB 4.9MB/s \n",
            "\u001b[?25hCollecting pyfolio\n",
            "\u001b[?25l  Downloading https://files.pythonhosted.org/packages/28/b4/99799b743c4619752f88b70354924132a2e9b82f4656fe7c55eaa9101392/pyfolio-0.9.2.tar.gz (91kB)\n",
            "\u001b[K     |████████████████████████████████| 92kB 4.3MB/s \n",
            "\u001b[?25hRequirement already satisfied: matplotlib in /usr/local/lib/python3.7/dist-packages (from RL-in-Finance==0.1.0) (3.2.2)\n",
            "Requirement already satisfied: gym>=0.17 in /usr/local/lib/python3.7/dist-packages (from RL-in-Finance==0.1.0) (0.17.3)\n",
            "Collecting stable-baselines3[extra]\n",
            "\u001b[?25l  Downloading https://files.pythonhosted.org/packages/18/d3/6ae6e774ac6cf8f5eeca1c30b9125231db901b75f72da7d81e939f293f69/stable_baselines3-1.0-py3-none-any.whl (152kB)\n",
            "\u001b[K     |████████████████████████████████| 153kB 6.1MB/s \n",
            "\u001b[?25hRequirement already satisfied: pytest in /usr/local/lib/python3.7/dist-packages (from RL-in-Finance==0.1.0) (3.6.4)\n",
            "Requirement already satisfied: setuptools>=41.4.0 in /usr/local/lib/python3.7/dist-packages (from RL-in-Finance==0.1.0) (56.0.0)\n",
            "Requirement already satisfied: wheel>=0.33.6 in /usr/local/lib/python3.7/dist-packages (from RL-in-Finance==0.1.0) (0.36.2)\n",
            "Requirement already satisfied: pytz>=2017.2 in /usr/local/lib/python3.7/dist-packages (from pandas>=1.1.5->RL-in-Finance==0.1.0) (2018.9)\n",
            "Requirement already satisfied: python-dateutil>=2.7.3 in /usr/local/lib/python3.7/dist-packages (from pandas>=1.1.5->RL-in-Finance==0.1.0) (2.8.1)\n",
            "Collecting int-date>=0.1.7\n",
            "  Downloading https://files.pythonhosted.org/packages/43/27/31803df15173ab341fe7548c14154b54227dfd8f630daa09a1c6e7db52f7/int_date-0.1.8-py2.py3-none-any.whl\n",
            "Collecting websocket-client>=0.57.0\n",
            "\u001b[?25l  Downloading https://files.pythonhosted.org/packages/08/33/80e0d4f60e84a1ddd9a03f340be1065a2a363c47ce65c4bd3bae65ce9631/websocket_client-0.58.0-py2.py3-none-any.whl (61kB)\n",
            "\u001b[K     |████████████████████████████████| 61kB 4.5MB/s \n",
            "\u001b[?25hCollecting simplejson>=3.16.0\n",
            "\u001b[?25l  Downloading https://files.pythonhosted.org/packages/a8/04/377418ac1e530ce2a196b54c6552c018fdf1fe776718053efb1f216bffcd/simplejson-3.17.2-cp37-cp37m-manylinux2010_x86_64.whl (128kB)\n",
            "\u001b[K     |████████████████████████████████| 133kB 7.0MB/s \n",
            "\u001b[?25hRequirement already satisfied: requests>=2.0.0 in /usr/local/lib/python3.7/dist-packages (from tushare->RL-in-Finance==0.1.0) (2.23.0)\n",
            "Requirement already satisfied: lxml>=3.8.0 in /usr/local/lib/python3.7/dist-packages (from tushare->RL-in-Finance==0.1.0) (4.2.6)\n",
            "Requirement already satisfied: bs4>=0.0.1 in /usr/local/lib/python3.7/dist-packages (from tushare->RL-in-Finance==0.1.0) (0.0.1)\n",
            "Requirement already satisfied: ipython>=3.2.3 in /usr/local/lib/python3.7/dist-packages (from pyfolio->RL-in-Finance==0.1.0) (5.5.0)\n",
            "Requirement already satisfied: scipy>=0.14.0 in /usr/local/lib/python3.7/dist-packages (from pyfolio->RL-in-Finance==0.1.0) (1.4.1)\n",
            "Requirement already satisfied: scikit-learn>=0.16.1 in /usr/local/lib/python3.7/dist-packages (from pyfolio->RL-in-Finance==0.1.0) (0.22.2.post1)\n",
            "Requirement already satisfied: seaborn>=0.7.1 in /usr/local/lib/python3.7/dist-packages (from pyfolio->RL-in-Finance==0.1.0) (0.11.1)\n",
            "Collecting empyrical>=0.5.0\n",
            "\u001b[?25l  Downloading https://files.pythonhosted.org/packages/74/43/1b997c21411c6ab7c96dc034e160198272c7a785aeea7654c9bcf98bec83/empyrical-0.5.5.tar.gz (52kB)\n",
            "\u001b[K     |████████████████████████████████| 61kB 5.1MB/s \n",
            "\u001b[?25hRequirement already satisfied: pyparsing!=2.0.4,!=2.1.2,!=2.1.6,>=2.0.1 in /usr/local/lib/python3.7/dist-packages (from matplotlib->RL-in-Finance==0.1.0) (2.4.7)\n",
            "Requirement already satisfied: cycler>=0.10 in /usr/local/lib/python3.7/dist-packages (from matplotlib->RL-in-Finance==0.1.0) (0.10.0)\n",
            "Requirement already satisfied: kiwisolver>=1.0.1 in /usr/local/lib/python3.7/dist-packages (from matplotlib->RL-in-Finance==0.1.0) (1.3.1)\n",
            "Requirement already satisfied: cloudpickle<1.7.0,>=1.2.0 in /usr/local/lib/python3.7/dist-packages (from gym>=0.17->RL-in-Finance==0.1.0) (1.3.0)\n",
            "Requirement already satisfied: pyglet<=1.5.0,>=1.4.0 in /usr/local/lib/python3.7/dist-packages (from gym>=0.17->RL-in-Finance==0.1.0) (1.5.0)\n",
            "Requirement already satisfied: torch>=1.4.0 in /usr/local/lib/python3.7/dist-packages (from stable-baselines3[extra]->RL-in-Finance==0.1.0) (1.8.1+cu101)\n",
            "Requirement already satisfied: tensorboard>=2.2.0; extra == \"extra\" in /usr/local/lib/python3.7/dist-packages (from stable-baselines3[extra]->RL-in-Finance==0.1.0) (2.4.1)\n",
            "Requirement already satisfied: pillow; extra == \"extra\" in /usr/local/lib/python3.7/dist-packages (from stable-baselines3[extra]->RL-in-Finance==0.1.0) (7.1.2)\n",
            "Requirement already satisfied: atari-py~=0.2.0; extra == \"extra\" in /usr/local/lib/python3.7/dist-packages (from stable-baselines3[extra]->RL-in-Finance==0.1.0) (0.2.6)\n",
            "Requirement already satisfied: opencv-python; extra == \"extra\" in /usr/local/lib/python3.7/dist-packages (from stable-baselines3[extra]->RL-in-Finance==0.1.0) (4.1.2.30)\n",
            "Requirement already satisfied: psutil; extra == \"extra\" in /usr/local/lib/python3.7/dist-packages (from stable-baselines3[extra]->RL-in-Finance==0.1.0) (5.4.8)\n",
            "Requirement already satisfied: py>=1.5.0 in /usr/local/lib/python3.7/dist-packages (from pytest->RL-in-Finance==0.1.0) (1.10.0)\n",
            "Requirement already satisfied: six>=1.10.0 in /usr/local/lib/python3.7/dist-packages (from pytest->RL-in-Finance==0.1.0) (1.15.0)\n",
            "Requirement already satisfied: more-itertools>=4.0.0 in /usr/local/lib/python3.7/dist-packages (from pytest->RL-in-Finance==0.1.0) (8.7.0)\n",
            "Requirement already satisfied: pluggy<0.8,>=0.5 in /usr/local/lib/python3.7/dist-packages (from pytest->RL-in-Finance==0.1.0) (0.7.1)\n",
            "Requirement already satisfied: atomicwrites>=1.0 in /usr/local/lib/python3.7/dist-packages (from pytest->RL-in-Finance==0.1.0) (1.4.0)\n",
            "Requirement already satisfied: attrs>=17.4.0 in /usr/local/lib/python3.7/dist-packages (from pytest->RL-in-Finance==0.1.0) (20.3.0)\n",
            "Requirement already satisfied: idna<3,>=2.5 in /usr/local/lib/python3.7/dist-packages (from requests>=2.0.0->tushare->RL-in-Finance==0.1.0) (2.10)\n",
            "Requirement already satisfied: certifi>=2017.4.17 in /usr/local/lib/python3.7/dist-packages (from requests>=2.0.0->tushare->RL-in-Finance==0.1.0) (2020.12.5)\n",
            "Requirement already satisfied: chardet<4,>=3.0.2 in /usr/local/lib/python3.7/dist-packages (from requests>=2.0.0->tushare->RL-in-Finance==0.1.0) (3.0.4)\n",
            "Requirement already satisfied: urllib3!=1.25.0,!=1.25.1,<1.26,>=1.21.1 in /usr/local/lib/python3.7/dist-packages (from requests>=2.0.0->tushare->RL-in-Finance==0.1.0) (1.24.3)\n",
            "Requirement already satisfied: beautifulsoup4 in /usr/local/lib/python3.7/dist-packages (from bs4>=0.0.1->tushare->RL-in-Finance==0.1.0) (4.6.3)\n",
            "Requirement already satisfied: simplegeneric>0.8 in /usr/local/lib/python3.7/dist-packages (from ipython>=3.2.3->pyfolio->RL-in-Finance==0.1.0) (0.8.1)\n",
            "Requirement already satisfied: pickleshare in /usr/local/lib/python3.7/dist-packages (from ipython>=3.2.3->pyfolio->RL-in-Finance==0.1.0) (0.7.5)\n",
            "Requirement already satisfied: decorator in /usr/local/lib/python3.7/dist-packages (from ipython>=3.2.3->pyfolio->RL-in-Finance==0.1.0) (4.4.2)\n",
            "Requirement already satisfied: prompt-toolkit<2.0.0,>=1.0.4 in /usr/local/lib/python3.7/dist-packages (from ipython>=3.2.3->pyfolio->RL-in-Finance==0.1.0) (1.0.18)\n",
            "Requirement already satisfied: pygments in /usr/local/lib/python3.7/dist-packages (from ipython>=3.2.3->pyfolio->RL-in-Finance==0.1.0) (2.6.1)\n",
            "Requirement already satisfied: traitlets>=4.2 in /usr/local/lib/python3.7/dist-packages (from ipython>=3.2.3->pyfolio->RL-in-Finance==0.1.0) (5.0.5)\n",
            "Requirement already satisfied: pexpect; sys_platform != \"win32\" in /usr/local/lib/python3.7/dist-packages (from ipython>=3.2.3->pyfolio->RL-in-Finance==0.1.0) (4.8.0)\n",
            "Requirement already satisfied: joblib>=0.11 in /usr/local/lib/python3.7/dist-packages (from scikit-learn>=0.16.1->pyfolio->RL-in-Finance==0.1.0) (1.0.1)\n",
            "Requirement already satisfied: pandas-datareader>=0.2 in /usr/local/lib/python3.7/dist-packages (from empyrical>=0.5.0->pyfolio->RL-in-Finance==0.1.0) (0.9.0)\n",
            "Requirement already satisfied: future in /usr/local/lib/python3.7/dist-packages (from pyglet<=1.5.0,>=1.4.0->gym>=0.17->RL-in-Finance==0.1.0) (0.16.0)\n",
            "Requirement already satisfied: typing-extensions in /usr/local/lib/python3.7/dist-packages (from torch>=1.4.0->stable-baselines3[extra]->RL-in-Finance==0.1.0) (3.7.4.3)\n",
            "Requirement already satisfied: protobuf>=3.6.0 in /usr/local/lib/python3.7/dist-packages (from tensorboard>=2.2.0; extra == \"extra\"->stable-baselines3[extra]->RL-in-Finance==0.1.0) (3.12.4)\n",
            "Requirement already satisfied: werkzeug>=0.11.15 in /usr/local/lib/python3.7/dist-packages (from tensorboard>=2.2.0; extra == \"extra\"->stable-baselines3[extra]->RL-in-Finance==0.1.0) (1.0.1)\n",
            "Requirement already satisfied: grpcio>=1.24.3 in /usr/local/lib/python3.7/dist-packages (from tensorboard>=2.2.0; extra == \"extra\"->stable-baselines3[extra]->RL-in-Finance==0.1.0) (1.32.0)\n",
            "Requirement already satisfied: absl-py>=0.4 in /usr/local/lib/python3.7/dist-packages (from tensorboard>=2.2.0; extra == \"extra\"->stable-baselines3[extra]->RL-in-Finance==0.1.0) (0.12.0)\n",
            "Requirement already satisfied: google-auth-oauthlib<0.5,>=0.4.1 in /usr/local/lib/python3.7/dist-packages (from tensorboard>=2.2.0; extra == \"extra\"->stable-baselines3[extra]->RL-in-Finance==0.1.0) (0.4.4)\n",
            "Requirement already satisfied: tensorboard-plugin-wit>=1.6.0 in /usr/local/lib/python3.7/dist-packages (from tensorboard>=2.2.0; extra == \"extra\"->stable-baselines3[extra]->RL-in-Finance==0.1.0) (1.8.0)\n",
            "Requirement already satisfied: markdown>=2.6.8 in /usr/local/lib/python3.7/dist-packages (from tensorboard>=2.2.0; extra == \"extra\"->stable-baselines3[extra]->RL-in-Finance==0.1.0) (3.3.4)\n",
            "Requirement already satisfied: google-auth<2,>=1.6.3 in /usr/local/lib/python3.7/dist-packages (from tensorboard>=2.2.0; extra == \"extra\"->stable-baselines3[extra]->RL-in-Finance==0.1.0) (1.28.1)\n",
            "Requirement already satisfied: wcwidth in /usr/local/lib/python3.7/dist-packages (from prompt-toolkit<2.0.0,>=1.0.4->ipython>=3.2.3->pyfolio->RL-in-Finance==0.1.0) (0.2.5)\n",
            "Requirement already satisfied: ipython-genutils in /usr/local/lib/python3.7/dist-packages (from traitlets>=4.2->ipython>=3.2.3->pyfolio->RL-in-Finance==0.1.0) (0.2.0)\n",
            "Requirement already satisfied: ptyprocess>=0.5 in /usr/local/lib/python3.7/dist-packages (from pexpect; sys_platform != \"win32\"->ipython>=3.2.3->pyfolio->RL-in-Finance==0.1.0) (0.7.0)\n",
            "Requirement already satisfied: requests-oauthlib>=0.7.0 in /usr/local/lib/python3.7/dist-packages (from google-auth-oauthlib<0.5,>=0.4.1->tensorboard>=2.2.0; extra == \"extra\"->stable-baselines3[extra]->RL-in-Finance==0.1.0) (1.3.0)\n",
            "Requirement already satisfied: importlib-metadata; python_version < \"3.8\" in /usr/local/lib/python3.7/dist-packages (from markdown>=2.6.8->tensorboard>=2.2.0; extra == \"extra\"->stable-baselines3[extra]->RL-in-Finance==0.1.0) (3.10.1)\n",
            "Requirement already satisfied: cachetools<5.0,>=2.0.0 in /usr/local/lib/python3.7/dist-packages (from google-auth<2,>=1.6.3->tensorboard>=2.2.0; extra == \"extra\"->stable-baselines3[extra]->RL-in-Finance==0.1.0) (4.2.1)\n",
            "Requirement already satisfied: rsa<5,>=3.1.4; python_version >= \"3.6\" in /usr/local/lib/python3.7/dist-packages (from google-auth<2,>=1.6.3->tensorboard>=2.2.0; extra == \"extra\"->stable-baselines3[extra]->RL-in-Finance==0.1.0) (4.7.2)\n",
            "Requirement already satisfied: pyasn1-modules>=0.2.1 in /usr/local/lib/python3.7/dist-packages (from google-auth<2,>=1.6.3->tensorboard>=2.2.0; extra == \"extra\"->stable-baselines3[extra]->RL-in-Finance==0.1.0) (0.2.8)\n",
            "Requirement already satisfied: oauthlib>=3.0.0 in /usr/local/lib/python3.7/dist-packages (from requests-oauthlib>=0.7.0->google-auth-oauthlib<0.5,>=0.4.1->tensorboard>=2.2.0; extra == \"extra\"->stable-baselines3[extra]->RL-in-Finance==0.1.0) (3.1.0)\n",
            "Requirement already satisfied: zipp>=0.5 in /usr/local/lib/python3.7/dist-packages (from importlib-metadata; python_version < \"3.8\"->markdown>=2.6.8->tensorboard>=2.2.0; extra == \"extra\"->stable-baselines3[extra]->RL-in-Finance==0.1.0) (3.4.1)\n",
            "Requirement already satisfied: pyasn1>=0.1.3 in /usr/local/lib/python3.7/dist-packages (from rsa<5,>=3.1.4; python_version >= \"3.6\"->google-auth<2,>=1.6.3->tensorboard>=2.2.0; extra == \"extra\"->stable-baselines3[extra]->RL-in-Finance==0.1.0) (0.4.8)\n",
            "Building wheels for collected packages: RL-in-Finance, pyfolio, empyrical\n",
            "  Building wheel for RL-in-Finance (setup.py) ... \u001b[?25l\u001b[?25hdone\n",
            "  Created wheel for RL-in-Finance: filename=RL_in_Finance-0.1.0-cp37-none-any.whl size=44991 sha256=4a8f682d09e4f4d89d8b53dc49a610a4a0fe41567ce31118de374483c3bc0a9d\n",
            "  Stored in directory: /tmp/pip-ephem-wheel-cache-2q51flvf/wheels/2d/ec/a7/af97768a8d7077098dc0fcefc71a4ebcc7f5f1d72d245185b0\n",
            "  Building wheel for pyfolio (setup.py) ... \u001b[?25l\u001b[?25hdone\n",
            "  Created wheel for pyfolio: filename=pyfolio-0.9.2-cp37-none-any.whl size=88667 sha256=ef230fabfa3e1272cfd66c8d3a83b0d6bb5a8f557ab3d80b6a8eaa9ff4161c6a\n",
            "  Stored in directory: /root/.cache/pip/wheels/0d/a8/7d/ac33fe6bf6f3db370291c9de303460d00b8f97cc40a1d80f72\n",
            "  Building wheel for empyrical (setup.py) ... \u001b[?25l\u001b[?25hdone\n",
            "  Created wheel for empyrical: filename=empyrical-0.5.5-cp37-none-any.whl size=39764 sha256=fef90552ac5252d2592932b99e5d1e9b6dc4238891d701d89dd51baaf4d6285e\n",
            "  Stored in directory: /root/.cache/pip/wheels/ea/b2/c8/6769d8444d2f2e608fae2641833110668d0ffd1abeb2e9f3fc\n",
            "Successfully built RL-in-Finance pyfolio empyrical\n",
            "Installing collected packages: int-date, stockstats, websocket-client, simplejson, tushare, empyrical, pyfolio, stable-baselines3, RL-in-Finance\n",
            "Successfully installed RL-in-Finance-0.1.0 empyrical-0.5.5 int-date-0.1.8 pyfolio-0.9.2 simplejson-3.17.2 stable-baselines3-1.0 stockstats-0.3.2 tushare-1.2.62 websocket-client-0.58.0\n",
            "Collecting git+https://github.com/quantopian/pyfolio.git\n",
            "  Cloning https://github.com/quantopian/pyfolio.git to /tmp/pip-req-build-w4sdtf35\n",
            "  Running command git clone -q https://github.com/quantopian/pyfolio.git /tmp/pip-req-build-w4sdtf35\n",
            "Requirement already satisfied: ipython>=3.2.3 in /usr/local/lib/python3.7/dist-packages (from pyfolio==0.9.2+75.g4b901f6) (5.5.0)\n",
            "Requirement already satisfied: matplotlib>=1.4.0 in /usr/local/lib/python3.7/dist-packages (from pyfolio==0.9.2+75.g4b901f6) (3.2.2)\n",
            "Requirement already satisfied: numpy>=1.11.1 in /usr/local/lib/python3.7/dist-packages (from pyfolio==0.9.2+75.g4b901f6) (1.19.5)\n",
            "Requirement already satisfied: pandas>=0.18.1 in /usr/local/lib/python3.7/dist-packages (from pyfolio==0.9.2+75.g4b901f6) (1.1.5)\n",
            "Requirement already satisfied: pytz>=2014.10 in /usr/local/lib/python3.7/dist-packages (from pyfolio==0.9.2+75.g4b901f6) (2018.9)\n",
            "Requirement already satisfied: scipy>=0.14.0 in /usr/local/lib/python3.7/dist-packages (from pyfolio==0.9.2+75.g4b901f6) (1.4.1)\n",
            "Requirement already satisfied: scikit-learn>=0.16.1 in /usr/local/lib/python3.7/dist-packages (from pyfolio==0.9.2+75.g4b901f6) (0.22.2.post1)\n",
            "Requirement already satisfied: seaborn>=0.7.1 in /usr/local/lib/python3.7/dist-packages (from pyfolio==0.9.2+75.g4b901f6) (0.11.1)\n",
            "Requirement already satisfied: empyrical>=0.5.0 in /usr/local/lib/python3.7/dist-packages (from pyfolio==0.9.2+75.g4b901f6) (0.5.5)\n",
            "Requirement already satisfied: traitlets>=4.2 in /usr/local/lib/python3.7/dist-packages (from ipython>=3.2.3->pyfolio==0.9.2+75.g4b901f6) (5.0.5)\n",
            "Requirement already satisfied: pickleshare in /usr/local/lib/python3.7/dist-packages (from ipython>=3.2.3->pyfolio==0.9.2+75.g4b901f6) (0.7.5)\n",
            "Requirement already satisfied: simplegeneric>0.8 in /usr/local/lib/python3.7/dist-packages (from ipython>=3.2.3->pyfolio==0.9.2+75.g4b901f6) (0.8.1)\n",
            "Requirement already satisfied: setuptools>=18.5 in /usr/local/lib/python3.7/dist-packages (from ipython>=3.2.3->pyfolio==0.9.2+75.g4b901f6) (56.0.0)\n",
            "Requirement already satisfied: pexpect; sys_platform != \"win32\" in /usr/local/lib/python3.7/dist-packages (from ipython>=3.2.3->pyfolio==0.9.2+75.g4b901f6) (4.8.0)\n",
            "Requirement already satisfied: decorator in /usr/local/lib/python3.7/dist-packages (from ipython>=3.2.3->pyfolio==0.9.2+75.g4b901f6) (4.4.2)\n",
            "Requirement already satisfied: prompt-toolkit<2.0.0,>=1.0.4 in /usr/local/lib/python3.7/dist-packages (from ipython>=3.2.3->pyfolio==0.9.2+75.g4b901f6) (1.0.18)\n",
            "Requirement already satisfied: pygments in /usr/local/lib/python3.7/dist-packages (from ipython>=3.2.3->pyfolio==0.9.2+75.g4b901f6) (2.6.1)\n",
            "Requirement already satisfied: kiwisolver>=1.0.1 in /usr/local/lib/python3.7/dist-packages (from matplotlib>=1.4.0->pyfolio==0.9.2+75.g4b901f6) (1.3.1)\n",
            "Requirement already satisfied: python-dateutil>=2.1 in /usr/local/lib/python3.7/dist-packages (from matplotlib>=1.4.0->pyfolio==0.9.2+75.g4b901f6) (2.8.1)\n",
            "Requirement already satisfied: pyparsing!=2.0.4,!=2.1.2,!=2.1.6,>=2.0.1 in /usr/local/lib/python3.7/dist-packages (from matplotlib>=1.4.0->pyfolio==0.9.2+75.g4b901f6) (2.4.7)\n",
            "Requirement already satisfied: cycler>=0.10 in /usr/local/lib/python3.7/dist-packages (from matplotlib>=1.4.0->pyfolio==0.9.2+75.g4b901f6) (0.10.0)\n",
            "Requirement already satisfied: joblib>=0.11 in /usr/local/lib/python3.7/dist-packages (from scikit-learn>=0.16.1->pyfolio==0.9.2+75.g4b901f6) (1.0.1)\n",
            "Requirement already satisfied: pandas-datareader>=0.2 in /usr/local/lib/python3.7/dist-packages (from empyrical>=0.5.0->pyfolio==0.9.2+75.g4b901f6) (0.9.0)\n",
            "Requirement already satisfied: ipython-genutils in /usr/local/lib/python3.7/dist-packages (from traitlets>=4.2->ipython>=3.2.3->pyfolio==0.9.2+75.g4b901f6) (0.2.0)\n",
            "Requirement already satisfied: ptyprocess>=0.5 in /usr/local/lib/python3.7/dist-packages (from pexpect; sys_platform != \"win32\"->ipython>=3.2.3->pyfolio==0.9.2+75.g4b901f6) (0.7.0)\n",
            "Requirement already satisfied: six>=1.9.0 in /usr/local/lib/python3.7/dist-packages (from prompt-toolkit<2.0.0,>=1.0.4->ipython>=3.2.3->pyfolio==0.9.2+75.g4b901f6) (1.15.0)\n",
            "Requirement already satisfied: wcwidth in /usr/local/lib/python3.7/dist-packages (from prompt-toolkit<2.0.0,>=1.0.4->ipython>=3.2.3->pyfolio==0.9.2+75.g4b901f6) (0.2.5)\n",
            "Requirement already satisfied: lxml in /usr/local/lib/python3.7/dist-packages (from pandas-datareader>=0.2->empyrical>=0.5.0->pyfolio==0.9.2+75.g4b901f6) (4.2.6)\n",
            "Requirement already satisfied: requests>=2.19.0 in /usr/local/lib/python3.7/dist-packages (from pandas-datareader>=0.2->empyrical>=0.5.0->pyfolio==0.9.2+75.g4b901f6) (2.23.0)\n",
            "Requirement already satisfied: chardet<4,>=3.0.2 in /usr/local/lib/python3.7/dist-packages (from requests>=2.19.0->pandas-datareader>=0.2->empyrical>=0.5.0->pyfolio==0.9.2+75.g4b901f6) (3.0.4)\n",
            "Requirement already satisfied: certifi>=2017.4.17 in /usr/local/lib/python3.7/dist-packages (from requests>=2.19.0->pandas-datareader>=0.2->empyrical>=0.5.0->pyfolio==0.9.2+75.g4b901f6) (2020.12.5)\n",
            "Requirement already satisfied: urllib3!=1.25.0,!=1.25.1,<1.26,>=1.21.1 in /usr/local/lib/python3.7/dist-packages (from requests>=2.19.0->pandas-datareader>=0.2->empyrical>=0.5.0->pyfolio==0.9.2+75.g4b901f6) (1.24.3)\n",
            "Requirement already satisfied: idna<3,>=2.5 in /usr/local/lib/python3.7/dist-packages (from requests>=2.19.0->pandas-datareader>=0.2->empyrical>=0.5.0->pyfolio==0.9.2+75.g4b901f6) (2.10)\n",
            "Building wheels for collected packages: pyfolio\n",
            "  Building wheel for pyfolio (setup.py) ... \u001b[?25l\u001b[?25hdone\n",
            "  Created wheel for pyfolio: filename=pyfolio-0.9.2+75.g4b901f6-cp37-none-any.whl size=75764 sha256=6750c5d09d8563c130acb9c651a269f195990ec7d8b11969c519857b27922b53\n",
            "  Stored in directory: /tmp/pip-ephem-wheel-cache-bao888jj/wheels/43/ce/d9/6752fb6e03205408773235435205a0519d2c608a94f1976e56\n",
            "Successfully built pyfolio\n",
            "Installing collected packages: pyfolio\n",
            "  Found existing installation: pyfolio 0.9.2\n",
            "    Uninstalling pyfolio-0.9.2:\n",
            "      Successfully uninstalled pyfolio-0.9.2\n",
            "Successfully installed pyfolio-0.9.2+75.g4b901f6\n"
          ],
          "name": "stdout"
        }
      ]
    },
    {
      "cell_type": "code",
      "metadata": {
        "id": "Xxc9y_D5T2a0",
        "colab": {
          "base_uri": "https://localhost:8080/"
        },
        "outputId": "692eace7-ca95-4c14-f031-b25bd5a47462"
      },
      "source": [
        "import pandas as pd\n",
        "import numpy as np\n",
        "import matplotlib\n",
        "import matplotlib.pyplot as plt\n",
        "import datetime\n",
        "import time\n",
        "\n",
        "%matplotlib inline\n",
        "from utils import config\n",
        "from utils.pull_data import Pull_data\n",
        "from utils.preprocessors import FeatureEngineer, split_data\n",
        "from utils.env import Stock_Trading_Env\n",
        "from utils.models import DRL_Agent\n",
        "from utils.backtest import backtest_stats, backtest_plot, get_baseline\n",
        "import itertools\n",
        "import sys\n",
        "sys.path.append(\"../RL_in_Finance\")"
      ],
      "execution_count": 2,
      "outputs": [
        {
          "output_type": "stream",
          "text": [
            "/usr/local/lib/python3.7/dist-packages/pyfolio/pos.py:27: UserWarning: Module \"zipline.assets\" not found; multipliers will not be applied to position notionals.\n",
            "  'Module \"zipline.assets\" not found; multipliers will not be applied'\n"
          ],
          "name": "stderr"
        }
      ]
    },
    {
      "cell_type": "markdown",
      "metadata": {
        "id": "jHv-tOOOWFG3"
      },
      "source": [
        "## 2、下载数据"
      ]
    },
    {
      "cell_type": "markdown",
      "metadata": {
        "id": "btxVNBzYvV21"
      },
      "source": [
        "数据来源：Tushare API<br>\n",
        "当前用到的数据：SSE_50 和 CSI_300<br>\n",
        "数据量的大小：shape[2892 * n, 8]"
      ]
    },
    {
      "cell_type": "code",
      "metadata": {
        "colab": {
          "base_uri": "https://localhost:8080/"
        },
        "id": "QnxCFcpvXdaI",
        "outputId": "17ee1a32-9b40-459b-f167-617df486038a"
      },
      "source": [
        "stock_list = config.SSE_50[:2]\n",
        "df = Pull_data(stock_list, save_data=False).pull_data()"
      ],
      "execution_count": 3,
      "outputs": [
        {
          "output_type": "stream",
          "text": [
            "--- 开始下载 ----\n",
            "--- 下载完成 ----\n",
            "DataFrame 的大小:  (5784, 8)\n"
          ],
          "name": "stdout"
        }
      ]
    },
    {
      "cell_type": "code",
      "metadata": {
        "colab": {
          "base_uri": "https://localhost:8080/",
          "height": 202
        },
        "id": "UqmzIFv9Xjq_",
        "outputId": "77d1d04d-d44b-4c51-b7cb-70b3bac594dd"
      },
      "source": [
        "df.sort_values(['date', 'tic'], ignore_index=True).head()"
      ],
      "execution_count": 4,
      "outputs": [
        {
          "output_type": "execute_result",
          "data": {
            "text/html": [
              "<div>\n",
              "<style scoped>\n",
              "    .dataframe tbody tr th:only-of-type {\n",
              "        vertical-align: middle;\n",
              "    }\n",
              "\n",
              "    .dataframe tbody tr th {\n",
              "        vertical-align: top;\n",
              "    }\n",
              "\n",
              "    .dataframe thead th {\n",
              "        text-align: right;\n",
              "    }\n",
              "</style>\n",
              "<table border=\"1\" class=\"dataframe\">\n",
              "  <thead>\n",
              "    <tr style=\"text-align: right;\">\n",
              "      <th></th>\n",
              "      <th>date</th>\n",
              "      <th>tic</th>\n",
              "      <th>open</th>\n",
              "      <th>high</th>\n",
              "      <th>low</th>\n",
              "      <th>close</th>\n",
              "      <th>volume</th>\n",
              "      <th>day</th>\n",
              "    </tr>\n",
              "  </thead>\n",
              "  <tbody>\n",
              "    <tr>\n",
              "      <th>0</th>\n",
              "      <td>2009-01-05</td>\n",
              "      <td>600000.SH</td>\n",
              "      <td>2.7584</td>\n",
              "      <td>2.8115</td>\n",
              "      <td>2.7258</td>\n",
              "      <td>2.8013</td>\n",
              "      <td>503142.56</td>\n",
              "      <td>0</td>\n",
              "    </tr>\n",
              "    <tr>\n",
              "      <th>1</th>\n",
              "      <td>2009-01-05</td>\n",
              "      <td>600009.SH</td>\n",
              "      <td>9.4665</td>\n",
              "      <td>9.6505</td>\n",
              "      <td>9.4414</td>\n",
              "      <td>9.5836</td>\n",
              "      <td>52100.33</td>\n",
              "      <td>0</td>\n",
              "    </tr>\n",
              "    <tr>\n",
              "      <th>2</th>\n",
              "      <td>2009-01-06</td>\n",
              "      <td>600000.SH</td>\n",
              "      <td>2.8422</td>\n",
              "      <td>2.9810</td>\n",
              "      <td>2.8422</td>\n",
              "      <td>2.9565</td>\n",
              "      <td>958496.00</td>\n",
              "      <td>1</td>\n",
              "    </tr>\n",
              "    <tr>\n",
              "      <th>3</th>\n",
              "      <td>2009-01-06</td>\n",
              "      <td>600009.SH</td>\n",
              "      <td>9.5250</td>\n",
              "      <td>10.1021</td>\n",
              "      <td>9.4999</td>\n",
              "      <td>10.0770</td>\n",
              "      <td>104182.13</td>\n",
              "      <td>1</td>\n",
              "    </tr>\n",
              "    <tr>\n",
              "      <th>4</th>\n",
              "      <td>2009-01-07</td>\n",
              "      <td>600000.SH</td>\n",
              "      <td>2.9565</td>\n",
              "      <td>2.9769</td>\n",
              "      <td>2.9034</td>\n",
              "      <td>2.9177</td>\n",
              "      <td>618938.77</td>\n",
              "      <td>2</td>\n",
              "    </tr>\n",
              "  </tbody>\n",
              "</table>\n",
              "</div>"
            ],
            "text/plain": [
              "         date        tic    open     high     low    close     volume  day\n",
              "0  2009-01-05  600000.SH  2.7584   2.8115  2.7258   2.8013  503142.56    0\n",
              "1  2009-01-05  600009.SH  9.4665   9.6505  9.4414   9.5836   52100.33    0\n",
              "2  2009-01-06  600000.SH  2.8422   2.9810  2.8422   2.9565  958496.00    1\n",
              "3  2009-01-06  600009.SH  9.5250  10.1021  9.4999  10.0770  104182.13    1\n",
              "4  2009-01-07  600000.SH  2.9565   2.9769  2.9034   2.9177  618938.77    2"
            ]
          },
          "metadata": {
            "tags": []
          },
          "execution_count": 4
        }
      ]
    },
    {
      "cell_type": "code",
      "metadata": {
        "colab": {
          "base_uri": "https://localhost:8080/"
        },
        "id": "nmVukaFnWgAe",
        "outputId": "5b77eeb9-613f-42bb-f920-120f1a95e0c0"
      },
      "source": [
        "print(\"数据下载的时间区间为：{} 至 {}\".format(config.Start_Date, config.End_Date))"
      ],
      "execution_count": 5,
      "outputs": [
        {
          "output_type": "stream",
          "text": [
            "数据下载的时间区间为：20090101 至 20210101\n"
          ],
          "name": "stdout"
        }
      ]
    },
    {
      "cell_type": "code",
      "metadata": {
        "colab": {
          "base_uri": "https://localhost:8080/"
        },
        "id": "bBIe5VuwXLY_",
        "outputId": "6d1e1753-b565-402a-d7c7-176ebd5edb3d"
      },
      "source": [
        "print(\"下载的股票列表为: \")\n",
        "print(stock_list)"
      ],
      "execution_count": 6,
      "outputs": [
        {
          "output_type": "stream",
          "text": [
            "下载的股票列表为: \n",
            "['600000.SH', '600009.SH']\n"
          ],
          "name": "stdout"
        }
      ]
    },
    {
      "cell_type": "markdown",
      "metadata": {
        "id": "6EI_Q4pOW_FG"
      },
      "source": [
        "## 3、数据预处理"
      ]
    },
    {
      "cell_type": "code",
      "metadata": {
        "colab": {
          "base_uri": "https://localhost:8080/"
        },
        "id": "9VY5MQ_kUVpz",
        "outputId": "d5ef7bc3-43dc-4861-b640-0a4384fa5274"
      },
      "source": [
        "processed_df = FeatureEngineer(use_technical_indicator=True).preprocess_data(df)"
      ],
      "execution_count": 7,
      "outputs": [
        {
          "output_type": "stream",
          "text": [
            "成功添加技术指标\n",
            "对当前时间段未上市的公司的所有行置零\n"
          ],
          "name": "stdout"
        }
      ]
    },
    {
      "cell_type": "code",
      "metadata": {
        "id": "Cm_Z8uytXIVv",
        "colab": {
          "base_uri": "https://localhost:8080/"
        },
        "outputId": "a0345ac7-4c41-409c-e46a-7c0eddf8a3fa"
      },
      "source": [
        "print(\"技术指标列表: \")\n",
        "print(config.TECHNICAL_INDICATORS_LIST)\n",
        "print(\"技术指标数: {}个\".format(len(config.TECHNICAL_INDICATORS_LIST)))"
      ],
      "execution_count": 8,
      "outputs": [
        {
          "output_type": "stream",
          "text": [
            "技术指标列表: \n",
            "['macd', 'boll_ub', 'boll_lb', 'rsi_30', 'cci_30', 'dx_30', 'close_20_sma', 'close_60_sma', 'close_120_sma']\n",
            "技术指标数: 9个\n"
          ],
          "name": "stdout"
        }
      ]
    },
    {
      "cell_type": "code",
      "metadata": {
        "colab": {
          "base_uri": "https://localhost:8080/",
          "height": 309
        },
        "id": "e4wNTZBWYyZK",
        "outputId": "ad05e58f-40dd-41be-d930-dd0864626eac"
      },
      "source": [
        "processed_df.head()"
      ],
      "execution_count": 9,
      "outputs": [
        {
          "output_type": "execute_result",
          "data": {
            "text/html": [
              "<div>\n",
              "<style scoped>\n",
              "    .dataframe tbody tr th:only-of-type {\n",
              "        vertical-align: middle;\n",
              "    }\n",
              "\n",
              "    .dataframe tbody tr th {\n",
              "        vertical-align: top;\n",
              "    }\n",
              "\n",
              "    .dataframe thead th {\n",
              "        text-align: right;\n",
              "    }\n",
              "</style>\n",
              "<table border=\"1\" class=\"dataframe\">\n",
              "  <thead>\n",
              "    <tr style=\"text-align: right;\">\n",
              "      <th></th>\n",
              "      <th>date</th>\n",
              "      <th>tic</th>\n",
              "      <th>open</th>\n",
              "      <th>high</th>\n",
              "      <th>low</th>\n",
              "      <th>close</th>\n",
              "      <th>volume</th>\n",
              "      <th>day</th>\n",
              "      <th>macd</th>\n",
              "      <th>boll_ub</th>\n",
              "      <th>boll_lb</th>\n",
              "      <th>rsi_30</th>\n",
              "      <th>cci_30</th>\n",
              "      <th>dx_30</th>\n",
              "      <th>close_20_sma</th>\n",
              "      <th>close_60_sma</th>\n",
              "      <th>close_120_sma</th>\n",
              "    </tr>\n",
              "  </thead>\n",
              "  <tbody>\n",
              "    <tr>\n",
              "      <th>0</th>\n",
              "      <td>2009-01-05</td>\n",
              "      <td>600000.SH</td>\n",
              "      <td>2.7584</td>\n",
              "      <td>2.8115</td>\n",
              "      <td>2.7258</td>\n",
              "      <td>2.8013</td>\n",
              "      <td>503142.56</td>\n",
              "      <td>0.0</td>\n",
              "      <td>0.000000</td>\n",
              "      <td>0.000000</td>\n",
              "      <td>0.000000</td>\n",
              "      <td>0.000000</td>\n",
              "      <td>0.000000</td>\n",
              "      <td>0.0</td>\n",
              "      <td>2.801300</td>\n",
              "      <td>2.801300</td>\n",
              "      <td>2.801300</td>\n",
              "    </tr>\n",
              "    <tr>\n",
              "      <th>1</th>\n",
              "      <td>2009-01-05</td>\n",
              "      <td>600009.SH</td>\n",
              "      <td>9.4665</td>\n",
              "      <td>9.6505</td>\n",
              "      <td>9.4414</td>\n",
              "      <td>9.5836</td>\n",
              "      <td>52100.33</td>\n",
              "      <td>0.0</td>\n",
              "      <td>0.000000</td>\n",
              "      <td>0.000000</td>\n",
              "      <td>0.000000</td>\n",
              "      <td>0.000000</td>\n",
              "      <td>0.000000</td>\n",
              "      <td>0.0</td>\n",
              "      <td>9.583600</td>\n",
              "      <td>9.583600</td>\n",
              "      <td>9.583600</td>\n",
              "    </tr>\n",
              "    <tr>\n",
              "      <th>2</th>\n",
              "      <td>2009-01-06</td>\n",
              "      <td>600000.SH</td>\n",
              "      <td>2.8422</td>\n",
              "      <td>2.9810</td>\n",
              "      <td>2.8422</td>\n",
              "      <td>2.9565</td>\n",
              "      <td>958496.00</td>\n",
              "      <td>1.0</td>\n",
              "      <td>0.003482</td>\n",
              "      <td>3.098386</td>\n",
              "      <td>2.659414</td>\n",
              "      <td>100.000000</td>\n",
              "      <td>66.666667</td>\n",
              "      <td>100.0</td>\n",
              "      <td>2.878900</td>\n",
              "      <td>2.878900</td>\n",
              "      <td>2.878900</td>\n",
              "    </tr>\n",
              "    <tr>\n",
              "      <th>3</th>\n",
              "      <td>2009-01-06</td>\n",
              "      <td>600009.SH</td>\n",
              "      <td>9.5250</td>\n",
              "      <td>10.1021</td>\n",
              "      <td>9.4999</td>\n",
              "      <td>10.0770</td>\n",
              "      <td>104182.13</td>\n",
              "      <td>1.0</td>\n",
              "      <td>0.011070</td>\n",
              "      <td>10.528073</td>\n",
              "      <td>9.132527</td>\n",
              "      <td>100.000000</td>\n",
              "      <td>66.666667</td>\n",
              "      <td>100.0</td>\n",
              "      <td>9.830300</td>\n",
              "      <td>9.830300</td>\n",
              "      <td>9.830300</td>\n",
              "    </tr>\n",
              "    <tr>\n",
              "      <th>4</th>\n",
              "      <td>2009-01-07</td>\n",
              "      <td>600000.SH</td>\n",
              "      <td>2.9565</td>\n",
              "      <td>2.9769</td>\n",
              "      <td>2.9034</td>\n",
              "      <td>2.9177</td>\n",
              "      <td>618938.77</td>\n",
              "      <td>2.0</td>\n",
              "      <td>0.003234</td>\n",
              "      <td>3.053371</td>\n",
              "      <td>2.730296</td>\n",
              "      <td>79.452055</td>\n",
              "      <td>53.048306</td>\n",
              "      <td>100.0</td>\n",
              "      <td>2.891833</td>\n",
              "      <td>2.891833</td>\n",
              "      <td>2.891833</td>\n",
              "    </tr>\n",
              "  </tbody>\n",
              "</table>\n",
              "</div>"
            ],
            "text/plain": [
              "         date        tic    open  ...  close_20_sma  close_60_sma  close_120_sma\n",
              "0  2009-01-05  600000.SH  2.7584  ...      2.801300      2.801300       2.801300\n",
              "1  2009-01-05  600009.SH  9.4665  ...      9.583600      9.583600       9.583600\n",
              "2  2009-01-06  600000.SH  2.8422  ...      2.878900      2.878900       2.878900\n",
              "3  2009-01-06  600009.SH  9.5250  ...      9.830300      9.830300       9.830300\n",
              "4  2009-01-07  600000.SH  2.9565  ...      2.891833      2.891833       2.891833\n",
              "\n",
              "[5 rows x 17 columns]"
            ]
          },
          "metadata": {
            "tags": []
          },
          "execution_count": 9
        }
      ]
    },
    {
      "cell_type": "code",
      "metadata": {
        "id": "uDHoMhRsY-6H"
      },
      "source": [
        "train_data = split_data(processed_df, config.Start_Trade_Date, config.End_Trade_Date)\n",
        "test_data = split_data(processed_df, config.End_Trade_Date, config.End_Test_Date)"
      ],
      "execution_count": 10,
      "outputs": []
    },
    {
      "cell_type": "code",
      "metadata": {
        "colab": {
          "base_uri": "https://localhost:8080/"
        },
        "id": "WoPNyYr4ZxD2",
        "outputId": "bad51c98-5b27-41a9-a1ec-94c1100b82aa"
      },
      "source": [
        "print(\"训练数据的范围：{} 至 {}\".format(config.Start_Trade_Date, config.End_Trade_Date))\n",
        "print(\"测试数据的范围：{} 至 {}\".format(config.End_Trade_Date, config.End_Test_Date))\n",
        "print(\"训练数据的长度: {},测试数据的长度:{}\".format(len(train_data), len(test_data)))\n",
        "print(\"训练集数据 : 测试集数据: {} : {}\".format(round(len(train_data)/len(test_data),1), 1))"
      ],
      "execution_count": 11,
      "outputs": [
        {
          "output_type": "stream",
          "text": [
            "训练数据的范围：2009-01-01 至 2019-01-01\n",
            "测试数据的范围：2019-01-01 至 2021-01-01\n",
            "训练数据的长度: 4862,测试数据的长度:974\n",
            "训练集数据 : 测试集数据: 5.0 : 1\n"
          ],
          "name": "stdout"
        }
      ]
    },
    {
      "cell_type": "code",
      "metadata": {
        "colab": {
          "base_uri": "https://localhost:8080/",
          "height": 309
        },
        "id": "BPny-EJbaS_S",
        "outputId": "32974052-f80c-435d-8f06-6abf4df9a2dd"
      },
      "source": [
        "train_data.head()"
      ],
      "execution_count": 12,
      "outputs": [
        {
          "output_type": "execute_result",
          "data": {
            "text/html": [
              "<div>\n",
              "<style scoped>\n",
              "    .dataframe tbody tr th:only-of-type {\n",
              "        vertical-align: middle;\n",
              "    }\n",
              "\n",
              "    .dataframe tbody tr th {\n",
              "        vertical-align: top;\n",
              "    }\n",
              "\n",
              "    .dataframe thead th {\n",
              "        text-align: right;\n",
              "    }\n",
              "</style>\n",
              "<table border=\"1\" class=\"dataframe\">\n",
              "  <thead>\n",
              "    <tr style=\"text-align: right;\">\n",
              "      <th></th>\n",
              "      <th>date</th>\n",
              "      <th>tic</th>\n",
              "      <th>open</th>\n",
              "      <th>high</th>\n",
              "      <th>low</th>\n",
              "      <th>close</th>\n",
              "      <th>volume</th>\n",
              "      <th>day</th>\n",
              "      <th>macd</th>\n",
              "      <th>boll_ub</th>\n",
              "      <th>boll_lb</th>\n",
              "      <th>rsi_30</th>\n",
              "      <th>cci_30</th>\n",
              "      <th>dx_30</th>\n",
              "      <th>close_20_sma</th>\n",
              "      <th>close_60_sma</th>\n",
              "      <th>close_120_sma</th>\n",
              "    </tr>\n",
              "  </thead>\n",
              "  <tbody>\n",
              "    <tr>\n",
              "      <th>0</th>\n",
              "      <td>2009-01-05</td>\n",
              "      <td>600000.SH</td>\n",
              "      <td>2.7584</td>\n",
              "      <td>2.8115</td>\n",
              "      <td>2.7258</td>\n",
              "      <td>2.8013</td>\n",
              "      <td>503142.56</td>\n",
              "      <td>0.0</td>\n",
              "      <td>0.000000</td>\n",
              "      <td>0.000000</td>\n",
              "      <td>0.000000</td>\n",
              "      <td>0.000000</td>\n",
              "      <td>0.000000</td>\n",
              "      <td>0.0</td>\n",
              "      <td>2.801300</td>\n",
              "      <td>2.801300</td>\n",
              "      <td>2.801300</td>\n",
              "    </tr>\n",
              "    <tr>\n",
              "      <th>0</th>\n",
              "      <td>2009-01-05</td>\n",
              "      <td>600009.SH</td>\n",
              "      <td>9.4665</td>\n",
              "      <td>9.6505</td>\n",
              "      <td>9.4414</td>\n",
              "      <td>9.5836</td>\n",
              "      <td>52100.33</td>\n",
              "      <td>0.0</td>\n",
              "      <td>0.000000</td>\n",
              "      <td>0.000000</td>\n",
              "      <td>0.000000</td>\n",
              "      <td>0.000000</td>\n",
              "      <td>0.000000</td>\n",
              "      <td>0.0</td>\n",
              "      <td>9.583600</td>\n",
              "      <td>9.583600</td>\n",
              "      <td>9.583600</td>\n",
              "    </tr>\n",
              "    <tr>\n",
              "      <th>1</th>\n",
              "      <td>2009-01-06</td>\n",
              "      <td>600000.SH</td>\n",
              "      <td>2.8422</td>\n",
              "      <td>2.9810</td>\n",
              "      <td>2.8422</td>\n",
              "      <td>2.9565</td>\n",
              "      <td>958496.00</td>\n",
              "      <td>1.0</td>\n",
              "      <td>0.003482</td>\n",
              "      <td>3.098386</td>\n",
              "      <td>2.659414</td>\n",
              "      <td>100.000000</td>\n",
              "      <td>66.666667</td>\n",
              "      <td>100.0</td>\n",
              "      <td>2.878900</td>\n",
              "      <td>2.878900</td>\n",
              "      <td>2.878900</td>\n",
              "    </tr>\n",
              "    <tr>\n",
              "      <th>1</th>\n",
              "      <td>2009-01-06</td>\n",
              "      <td>600009.SH</td>\n",
              "      <td>9.5250</td>\n",
              "      <td>10.1021</td>\n",
              "      <td>9.4999</td>\n",
              "      <td>10.0770</td>\n",
              "      <td>104182.13</td>\n",
              "      <td>1.0</td>\n",
              "      <td>0.011070</td>\n",
              "      <td>10.528073</td>\n",
              "      <td>9.132527</td>\n",
              "      <td>100.000000</td>\n",
              "      <td>66.666667</td>\n",
              "      <td>100.0</td>\n",
              "      <td>9.830300</td>\n",
              "      <td>9.830300</td>\n",
              "      <td>9.830300</td>\n",
              "    </tr>\n",
              "    <tr>\n",
              "      <th>2</th>\n",
              "      <td>2009-01-07</td>\n",
              "      <td>600000.SH</td>\n",
              "      <td>2.9565</td>\n",
              "      <td>2.9769</td>\n",
              "      <td>2.9034</td>\n",
              "      <td>2.9177</td>\n",
              "      <td>618938.77</td>\n",
              "      <td>2.0</td>\n",
              "      <td>0.003234</td>\n",
              "      <td>3.053371</td>\n",
              "      <td>2.730296</td>\n",
              "      <td>79.452055</td>\n",
              "      <td>53.048306</td>\n",
              "      <td>100.0</td>\n",
              "      <td>2.891833</td>\n",
              "      <td>2.891833</td>\n",
              "      <td>2.891833</td>\n",
              "    </tr>\n",
              "  </tbody>\n",
              "</table>\n",
              "</div>"
            ],
            "text/plain": [
              "         date        tic    open  ...  close_20_sma  close_60_sma  close_120_sma\n",
              "0  2009-01-05  600000.SH  2.7584  ...      2.801300      2.801300       2.801300\n",
              "0  2009-01-05  600009.SH  9.4665  ...      9.583600      9.583600       9.583600\n",
              "1  2009-01-06  600000.SH  2.8422  ...      2.878900      2.878900       2.878900\n",
              "1  2009-01-06  600009.SH  9.5250  ...      9.830300      9.830300       9.830300\n",
              "2  2009-01-07  600000.SH  2.9565  ...      2.891833      2.891833       2.891833\n",
              "\n",
              "[5 rows x 17 columns]"
            ]
          },
          "metadata": {
            "tags": []
          },
          "execution_count": 12
        }
      ]
    },
    {
      "cell_type": "markdown",
      "metadata": {
        "id": "98kYgqGmagbD"
      },
      "source": [
        "## 4、初始化环境"
      ]
    },
    {
      "cell_type": "markdown",
      "metadata": {
        "id": "MDlKRLpaa38j"
      },
      "source": [
        "**state_space 由四部分组成 :** <br>\n",
        "1. 当前的资金量\n",
        "2. 每只股票当前的收盘价\n",
        "3. 每只股票当前的持仓量\n",
        "4. 股票数 * 技术指标数<br>\n",
        "\n",
        "&emsp;&emsp;TODO: 增加成交量这个状态\n",
        "\n",
        "**reward 的计算方式：**<br>\n",
        "* reward 交易前的总资产-当天交易后的总资产 = 当天交易的手续费\n",
        "* TODO：待改进\n",
        "\n",
        "**action_space 的空间：**<br>\n",
        "  * actions ∈[-100, 100]\n",
        "  * 正数表示买入，负数表示卖出，0表示不进行买入卖出操作\n",
        "  * 绝对值表示买入卖出的数量"
      ]
    },
    {
      "cell_type": "code",
      "metadata": {
        "colab": {
          "base_uri": "https://localhost:8080/"
        },
        "id": "sCXH6GOcaWtS",
        "outputId": "ffd9fe68-edbe-4b26-8951-5b2152f503a8"
      },
      "source": [
        "stock_dimension = len(df.tic.unique()) # 2\n",
        "state_space = 1 + 2*stock_dimension + \\\n",
        "    len(config.TECHNICAL_INDICATORS_LIST)*stock_dimension # 23\n",
        "print(\"stock_dimension: {}, state_space: {}\".format(stock_dimension, state_space))"
      ],
      "execution_count": 13,
      "outputs": [
        {
          "output_type": "stream",
          "text": [
            "stock_dimension: 2, state_space: 23\n"
          ],
          "name": "stdout"
        }
      ]
    },
    {
      "cell_type": "code",
      "metadata": {
        "id": "rXLVf1gebTp1"
      },
      "source": [
        "# 初始化环境的参数\n",
        "env_kwargs = {\n",
        "    \"stock_dim\": stock_dimension, \n",
        "    \"hmax\": 100, \n",
        "    \"initial_amount\": 1e6, \n",
        "    \"buy_cost_pct\": 0.001,\n",
        "    \"sell_cost_pct\": 0.001,\n",
        "    \"reward_scaling\": 1e-4,\n",
        "    \"state_space\": state_space, \n",
        "    \"action_space\": stock_dimension, \n",
        "    \"tech_indicator_list\": config.TECHNICAL_INDICATORS_LIST\n",
        "}\n",
        "e_train_gym = Stock_Trading_Env(df = train_data, **env_kwargs)"
      ],
      "execution_count": 14,
      "outputs": []
    },
    {
      "cell_type": "code",
      "metadata": {
        "colab": {
          "base_uri": "https://localhost:8080/"
        },
        "id": "KPL6HInvd_yB",
        "outputId": "f1146d89-953e-450f-b729-9b89c3e5613d"
      },
      "source": [
        "# 对环境进行测试\n",
        "observation = e_train_gym.reset() # 初始化环境，observation为环境状态\n",
        "count = 0\n",
        "total_reward = 0\n",
        "for t in range(10):\n",
        "  action = e_train_gym.action_space.sample() # 随机采样动作\n",
        "  observation, reward, done, info = e_train_gym.step(action) # 与环境交互，获得下一个state的值\n",
        "  total_reward += reward\n",
        "  if done:             \n",
        "      break\n",
        "  count+=1\n",
        "  time.sleep(0.2)      #每次等待 0.2s\n",
        "print(\"observation: \", observation)\n",
        "print(\"e_train_gym.cost: \", e_train_gym.cost)\n",
        "print(\"reward: {}, done: {}\".format(total_reward, done))"
      ],
      "execution_count": 15,
      "outputs": [
        {
          "output_type": "stream",
          "text": [
            "observation:  [999373.4166775, 3.2587, 10.5955, 218, 0, 0.03743618918699809, 0.06953890696683374, 3.29030605610415, 11.158052250161413, 2.6616575802594857, 9.567620477111317, 76.03339630703236, 68.40717977033304, 174.4215725060299, 78.36201325770573, 68.45426624783556, 67.51593864520234, 2.975981818181818, 10.362836363636365, 2.975981818181818, 10.362836363636365, 2.975981818181818, 10.362836363636365]\n",
            "e_train_gym.cost:  3.1954224999999994\n",
            "reward: -0.0003195422499789856, done: False\n"
          ],
          "name": "stdout"
        }
      ]
    },
    {
      "cell_type": "code",
      "metadata": {
        "colab": {
          "base_uri": "https://localhost:8080/"
        },
        "id": "HITGmA4MfxEk",
        "outputId": "9985edd7-6578-47d2-e723-30dce6376e06"
      },
      "source": [
        "# 初始化训练时所需要用到的环境\n",
        "env_train, _ = e_train_gym.get_sb_env()\n",
        "print(type(env_train))"
      ],
      "execution_count": 16,
      "outputs": [
        {
          "output_type": "stream",
          "text": [
            "<class 'stable_baselines3.common.vec_env.dummy_vec_env.DummyVecEnv'>\n"
          ],
          "name": "stdout"
        }
      ]
    },
    {
      "cell_type": "markdown",
      "metadata": {
        "id": "CIeiCKBngDVz"
      },
      "source": [
        "## 5、开始训练"
      ]
    },
    {
      "cell_type": "markdown",
      "metadata": {
        "id": "ZdUgJvJ41eBh"
      },
      "source": [
        "所用到的框架：stable_baseline3"
      ]
    },
    {
      "cell_type": "code",
      "metadata": {
        "colab": {
          "base_uri": "https://localhost:8080/"
        },
        "id": "AHqjcamZgBLH",
        "outputId": "72375e9b-2979-454a-aeea-914f598a2f5e"
      },
      "source": [
        "agent = DRL_Agent(env = env_train)\n",
        "model_sac = agent.get_model(\"sac\", model_kwargs = config.SAC_PARAMS)"
      ],
      "execution_count": 17,
      "outputs": [
        {
          "output_type": "stream",
          "text": [
            "{'batch_size': 64, 'buffer_size': 100000, 'learning_rate': 0.0001, 'learning_starts': 100, 'ent_coef': 'auto_0.1'}\n",
            "Using cpu device\n"
          ],
          "name": "stdout"
        }
      ]
    },
    {
      "cell_type": "code",
      "metadata": {
        "colab": {
          "base_uri": "https://localhost:8080/"
        },
        "id": "Tict0CAZf2vF",
        "outputId": "985e3b4b-27d0-4c60-9a53-1d0fe5278d68"
      },
      "source": [
        "train_sac = agent.train_model(\n",
        "    model = model_sac,\n",
        "    tb_log_name='sac',\n",
        "    total_timesteps=20000\n",
        ")"
      ],
      "execution_count": 18,
      "outputs": [
        {
          "output_type": "stream",
          "text": [
            "Logging to tensorboard_log/sac/sac_1\n",
            "----------------------------------\n",
            "| environment/        |          |\n",
            "|    portfolio_value  | 1e+06    |\n",
            "|    total_cost       | 0        |\n",
            "|    total_reward     | 0        |\n",
            "|    total_reward_pct | 0        |\n",
            "|    total_trades     | 0        |\n",
            "| time/               |          |\n",
            "|    episodes         | 4        |\n",
            "|    fps              | 55       |\n",
            "|    time_elapsed     | 176      |\n",
            "|    total timesteps  | 9724     |\n",
            "| train/              |          |\n",
            "|    actor_loss       | 5.03e+03 |\n",
            "|    critic_loss      | 7.99e+04 |\n",
            "|    ent_coef         | 0.253    |\n",
            "|    ent_coef_loss    | 56.7     |\n",
            "|    learning_rate    | 0.0001   |\n",
            "|    n_updates        | 9623     |\n",
            "----------------------------------\n",
            "天数: 2430天, episode: 10\n",
            "开始时的总资产: 1000000.0\n",
            "结束时的总资产: 1000000.0\n",
            "总奖励值: 0.0\n",
            "总的手续费: 0\n",
            "总的交易次数: 0\n",
            "=============================\n",
            "----------------------------------\n",
            "| environment/        |          |\n",
            "|    portfolio_value  | 1e+06    |\n",
            "|    total_cost       | 0        |\n",
            "|    total_reward     | 0        |\n",
            "|    total_reward_pct | 0        |\n",
            "|    total_trades     | 0        |\n",
            "| time/               |          |\n",
            "|    episodes         | 8        |\n",
            "|    fps              | 54       |\n",
            "|    time_elapsed     | 358      |\n",
            "|    total timesteps  | 19448    |\n",
            "| train/              |          |\n",
            "|    actor_loss       | 3.91e+03 |\n",
            "|    critic_loss      | 609      |\n",
            "|    ent_coef         | 0.67     |\n",
            "|    ent_coef_loss    | 16.6     |\n",
            "|    learning_rate    | 0.0001   |\n",
            "|    n_updates        | 19347    |\n",
            "----------------------------------\n"
          ],
          "name": "stdout"
        }
      ]
    },
    {
      "cell_type": "markdown",
      "metadata": {
        "id": "xJd8ZIEXibtL"
      },
      "source": [
        "## 6、测试"
      ]
    },
    {
      "cell_type": "code",
      "metadata": {
        "colab": {
          "base_uri": "https://localhost:8080/"
        },
        "id": "uNlCCDXDibK7",
        "outputId": "22534506-ba2b-42ca-effb-63ce27452fe9"
      },
      "source": [
        "e_test_gym = Stock_Trading_Env(df = test_data, **env_kwargs)\n",
        "df_account_value, df_actions = DRL_Agent.DRL_prediction(\n",
        "    model=model_sac, \n",
        "    environment = e_test_gym)"
      ],
      "execution_count": 19,
      "outputs": [
        {
          "output_type": "stream",
          "text": [
            "回测完成!\n"
          ],
          "name": "stdout"
        }
      ]
    },
    {
      "cell_type": "code",
      "metadata": {
        "id": "FmjLZCsc1_wi",
        "colab": {
          "base_uri": "https://localhost:8080/"
        },
        "outputId": "d134b96c-477c-454b-a7e7-d88eedbb8410"
      },
      "source": [
        "print(\"回测的时间窗口：{} 至 {}\".format(config.End_Trade_Date, config.End_Test_Date))"
      ],
      "execution_count": 20,
      "outputs": [
        {
          "output_type": "stream",
          "text": [
            "回测的时间窗口：2019-01-01 至 2021-01-01\n"
          ],
          "name": "stdout"
        }
      ]
    },
    {
      "cell_type": "code",
      "metadata": {
        "colab": {
          "base_uri": "https://localhost:8080/"
        },
        "id": "tCc9lr4wi8ag",
        "outputId": "0f8cd4b4-2d28-4c57-f951-1e3f28892134"
      },
      "source": [
        "print(\"查看日账户净值\")\n",
        "df_account_value.tail()\n",
        "df_account_value.to_csv(\"df_account_value.csv\", index=False)"
      ],
      "execution_count": 21,
      "outputs": [
        {
          "output_type": "stream",
          "text": [
            "查看日账户净值\n"
          ],
          "name": "stdout"
        }
      ]
    },
    {
      "cell_type": "code",
      "metadata": {
        "colab": {
          "base_uri": "https://localhost:8080/",
          "height": 251
        },
        "id": "n-m0wzTsi-7U",
        "outputId": "e1447c1d-144a-40dc-9434-dc5d7533d923"
      },
      "source": [
        "print(\"查看每日所作的交易\")\n",
        "df_actions.tail()"
      ],
      "execution_count": 22,
      "outputs": [
        {
          "output_type": "stream",
          "text": [
            "查看每日所作的交易\n"
          ],
          "name": "stdout"
        },
        {
          "output_type": "execute_result",
          "data": {
            "text/html": [
              "<div>\n",
              "<style scoped>\n",
              "    .dataframe tbody tr th:only-of-type {\n",
              "        vertical-align: middle;\n",
              "    }\n",
              "\n",
              "    .dataframe tbody tr th {\n",
              "        vertical-align: top;\n",
              "    }\n",
              "\n",
              "    .dataframe thead th {\n",
              "        text-align: right;\n",
              "    }\n",
              "</style>\n",
              "<table border=\"1\" class=\"dataframe\">\n",
              "  <thead>\n",
              "    <tr style=\"text-align: right;\">\n",
              "      <th></th>\n",
              "      <th>600000.SH</th>\n",
              "      <th>600009.SH</th>\n",
              "    </tr>\n",
              "    <tr>\n",
              "      <th>date</th>\n",
              "      <th></th>\n",
              "      <th></th>\n",
              "    </tr>\n",
              "  </thead>\n",
              "  <tbody>\n",
              "    <tr>\n",
              "      <th>2020-12-23</th>\n",
              "      <td>0</td>\n",
              "      <td>0</td>\n",
              "    </tr>\n",
              "    <tr>\n",
              "      <th>2020-12-24</th>\n",
              "      <td>0</td>\n",
              "      <td>0</td>\n",
              "    </tr>\n",
              "    <tr>\n",
              "      <th>2020-12-25</th>\n",
              "      <td>0</td>\n",
              "      <td>0</td>\n",
              "    </tr>\n",
              "    <tr>\n",
              "      <th>2020-12-28</th>\n",
              "      <td>0</td>\n",
              "      <td>0</td>\n",
              "    </tr>\n",
              "    <tr>\n",
              "      <th>2020-12-29</th>\n",
              "      <td>0</td>\n",
              "      <td>0</td>\n",
              "    </tr>\n",
              "  </tbody>\n",
              "</table>\n",
              "</div>"
            ],
            "text/plain": [
              "            600000.SH  600009.SH\n",
              "date                            \n",
              "2020-12-23          0          0\n",
              "2020-12-24          0          0\n",
              "2020-12-25          0          0\n",
              "2020-12-28          0          0\n",
              "2020-12-29          0          0"
            ]
          },
          "metadata": {
            "tags": []
          },
          "execution_count": 22
        }
      ]
    },
    {
      "cell_type": "markdown",
      "metadata": {
        "id": "y7nKxnGijDMT"
      },
      "source": [
        "## 7、回测"
      ]
    },
    {
      "cell_type": "code",
      "metadata": {
        "colab": {
          "base_uri": "https://localhost:8080/"
        },
        "id": "4AB3Za7ujCyT",
        "outputId": "98bb858c-18a5-4fc8-8992-e2c3cb469417"
      },
      "source": [
        "print(\"---------------------获取回测结果---------------------\")\n",
        "pref_stats_all = backtest_stats(account_value=df_account_value)\n",
        "\n",
        "# perf_stats_all = pd.DataFrame(perf_stats_all)\n",
        "# now = datetime.datetime.now().strftime('%Y%m%d-%Hh%M')\n",
        "# perf_stats_all.to_csv(\"./\"+config.RESULTS_DIR+\"/perf_stats_all_\"+now+'.csv')"
      ],
      "execution_count": 23,
      "outputs": [
        {
          "output_type": "stream",
          "text": [
            "---------------------获取回测结果---------------------\n",
            "Annual return          0.0\n",
            "Cumulative returns     0.0\n",
            "Annual volatility      0.0\n",
            "Sharpe ratio           NaN\n",
            "Calmar ratio           NaN\n",
            "Stability              0.0\n",
            "Max drawdown           0.0\n",
            "Omega ratio            NaN\n",
            "Sortino ratio          NaN\n",
            "Skew                   NaN\n",
            "Kurtosis               NaN\n",
            "Tail ratio             NaN\n",
            "Daily value at risk    0.0\n",
            "dtype: float64\n"
          ],
          "name": "stdout"
        },
        {
          "output_type": "stream",
          "text": [
            "/usr/local/lib/python3.7/dist-packages/empyrical/stats.py:713: RuntimeWarning: invalid value encountered in true_divide\n",
            "  out=out,\n",
            "/usr/local/lib/python3.7/dist-packages/empyrical/stats.py:799: RuntimeWarning: invalid value encountered in true_divide\n",
            "  np.divide(average_annual_return, annualized_downside_risk, out=out)\n",
            "/usr/local/lib/python3.7/dist-packages/empyrical/stats.py:1528: RuntimeWarning: invalid value encountered in double_scalars\n",
            "  np.abs(np.percentile(returns, 5))\n"
          ],
          "name": "stderr"
        }
      ]
    },
    {
      "cell_type": "code",
      "metadata": {
        "colab": {
          "base_uri": "https://localhost:8080/"
        },
        "id": "Y8xHNlpxkS3Y",
        "outputId": "eca65f04-3217-4623-bdc3-bca425e4a414"
      },
      "source": [
        "# 获取 baseline 的结果\n",
        "print(\"---------------------获取baseline结果---------------------\")\n",
        "baseline_df = get_baseline(config.SSE_50_INDEX, \n",
        "              start=\"20190101\",\n",
        "              end=\"20210101\")\n",
        "baseline_stats = backtest_stats(baseline_df, value_col_name='close')"
      ],
      "execution_count": 24,
      "outputs": [
        {
          "output_type": "stream",
          "text": [
            "---------------------获取baseline结果---------------------\n",
            "--- 开始下载 ----\n",
            "--- 下载完成 ----\n",
            "DataFrame 的大小:  (487, 8)\n",
            "Annual return          0.271107\n",
            "Cumulative returns     0.589776\n",
            "Annual volatility      0.189096\n",
            "Sharpe ratio           1.366667\n",
            "Calmar ratio           1.487275\n",
            "Stability              0.618053\n",
            "Max drawdown          -0.182284\n",
            "Omega ratio            1.286287\n",
            "Sortino ratio          1.953108\n",
            "Skew                        NaN\n",
            "Kurtosis                    NaN\n",
            "Tail ratio             1.078570\n",
            "Daily value at risk   -0.022798\n",
            "dtype: float64\n"
          ],
          "name": "stdout"
        }
      ]
    },
    {
      "cell_type": "code",
      "metadata": {
        "colab": {
          "base_uri": "https://localhost:8080/"
        },
        "id": "MNAA5HI2cjQX",
        "outputId": "637bd6ab-09ac-4d04-f288-f3fe1af0263a"
      },
      "source": [
        "pref_stats_all.head()"
      ],
      "execution_count": 25,
      "outputs": [
        {
          "output_type": "execute_result",
          "data": {
            "text/plain": [
              "Annual return         0.0\n",
              "Cumulative returns    0.0\n",
              "Annual volatility     0.0\n",
              "Sharpe ratio          NaN\n",
              "Calmar ratio          NaN\n",
              "dtype: float64"
            ]
          },
          "metadata": {
            "tags": []
          },
          "execution_count": 25
        }
      ]
    },
    {
      "cell_type": "code",
      "metadata": {
        "id": "3rxEGprCZNlQ"
      },
      "source": [
        "# 删除 df_account_value 中重复的行\n",
        "df_account_value.drop(df_account_value.index[1], inplace=True)"
      ],
      "execution_count": 26,
      "outputs": []
    },
    {
      "cell_type": "code",
      "metadata": {
        "colab": {
          "base_uri": "https://localhost:8080/",
          "height": 355
        },
        "id": "QuZ4lYXPXjmG",
        "outputId": "8ce6e4c8-7e48-4d64-8ff9-fae12c87ab02"
      },
      "source": [
        "baseline_df.head(10)"
      ],
      "execution_count": 27,
      "outputs": [
        {
          "output_type": "execute_result",
          "data": {
            "text/html": [
              "<div>\n",
              "<style scoped>\n",
              "    .dataframe tbody tr th:only-of-type {\n",
              "        vertical-align: middle;\n",
              "    }\n",
              "\n",
              "    .dataframe tbody tr th {\n",
              "        vertical-align: top;\n",
              "    }\n",
              "\n",
              "    .dataframe thead th {\n",
              "        text-align: right;\n",
              "    }\n",
              "</style>\n",
              "<table border=\"1\" class=\"dataframe\">\n",
              "  <thead>\n",
              "    <tr style=\"text-align: right;\">\n",
              "      <th></th>\n",
              "      <th>date</th>\n",
              "      <th>tic</th>\n",
              "      <th>open</th>\n",
              "      <th>high</th>\n",
              "      <th>low</th>\n",
              "      <th>close</th>\n",
              "      <th>volume</th>\n",
              "      <th>day</th>\n",
              "    </tr>\n",
              "  </thead>\n",
              "  <tbody>\n",
              "    <tr>\n",
              "      <th>0</th>\n",
              "      <td>2019-01-02</td>\n",
              "      <td>000016.SH</td>\n",
              "      <td>2262.7908</td>\n",
              "      <td>2298.1805</td>\n",
              "      <td>2301.0552</td>\n",
              "      <td>2252.7479</td>\n",
              "      <td>20880697.0</td>\n",
              "      <td>2</td>\n",
              "    </tr>\n",
              "    <tr>\n",
              "      <th>1</th>\n",
              "      <td>2019-01-03</td>\n",
              "      <td>000016.SH</td>\n",
              "      <td>2269.2430</td>\n",
              "      <td>2259.4825</td>\n",
              "      <td>2287.7778</td>\n",
              "      <td>2253.9433</td>\n",
              "      <td>18895240.0</td>\n",
              "      <td>3</td>\n",
              "    </tr>\n",
              "    <tr>\n",
              "      <th>2</th>\n",
              "      <td>2019-01-04</td>\n",
              "      <td>000016.SH</td>\n",
              "      <td>2314.6466</td>\n",
              "      <td>2252.7449</td>\n",
              "      <td>2316.3528</td>\n",
              "      <td>2249.3658</td>\n",
              "      <td>25900596.0</td>\n",
              "      <td>4</td>\n",
              "    </tr>\n",
              "    <tr>\n",
              "      <th>3</th>\n",
              "      <td>2019-01-07</td>\n",
              "      <td>000016.SH</td>\n",
              "      <td>2314.3193</td>\n",
              "      <td>2329.0316</td>\n",
              "      <td>2331.6031</td>\n",
              "      <td>2306.8979</td>\n",
              "      <td>25278948.0</td>\n",
              "      <td>0</td>\n",
              "    </tr>\n",
              "    <tr>\n",
              "      <th>4</th>\n",
              "      <td>2019-01-08</td>\n",
              "      <td>000016.SH</td>\n",
              "      <td>2305.1708</td>\n",
              "      <td>2312.1705</td>\n",
              "      <td>2312.1705</td>\n",
              "      <td>2298.9548</td>\n",
              "      <td>18131160.0</td>\n",
              "      <td>1</td>\n",
              "    </tr>\n",
              "    <tr>\n",
              "      <th>5</th>\n",
              "      <td>2019-01-09</td>\n",
              "      <td>000016.SH</td>\n",
              "      <td>2332.7192</td>\n",
              "      <td>2320.9119</td>\n",
              "      <td>2360.3601</td>\n",
              "      <td>2318.4352</td>\n",
              "      <td>28747596.0</td>\n",
              "      <td>2</td>\n",
              "    </tr>\n",
              "    <tr>\n",
              "      <th>6</th>\n",
              "      <td>2019-01-10</td>\n",
              "      <td>000016.SH</td>\n",
              "      <td>2331.8507</td>\n",
              "      <td>2333.2162</td>\n",
              "      <td>2345.3313</td>\n",
              "      <td>2321.3049</td>\n",
              "      <td>22280507.0</td>\n",
              "      <td>3</td>\n",
              "    </tr>\n",
              "    <tr>\n",
              "      <th>7</th>\n",
              "      <td>2019-01-11</td>\n",
              "      <td>000016.SH</td>\n",
              "      <td>2354.4987</td>\n",
              "      <td>2342.0236</td>\n",
              "      <td>2360.0609</td>\n",
              "      <td>2334.9145</td>\n",
              "      <td>18417693.0</td>\n",
              "      <td>4</td>\n",
              "    </tr>\n",
              "    <tr>\n",
              "      <th>8</th>\n",
              "      <td>2019-01-14</td>\n",
              "      <td>000016.SH</td>\n",
              "      <td>2331.1358</td>\n",
              "      <td>2350.2560</td>\n",
              "      <td>2354.3082</td>\n",
              "      <td>2330.0042</td>\n",
              "      <td>16462252.0</td>\n",
              "      <td>0</td>\n",
              "    </tr>\n",
              "    <tr>\n",
              "      <th>9</th>\n",
              "      <td>2019-01-15</td>\n",
              "      <td>000016.SH</td>\n",
              "      <td>2378.3696</td>\n",
              "      <td>2337.7021</td>\n",
              "      <td>2380.5995</td>\n",
              "      <td>2332.4095</td>\n",
              "      <td>22466336.0</td>\n",
              "      <td>1</td>\n",
              "    </tr>\n",
              "  </tbody>\n",
              "</table>\n",
              "</div>"
            ],
            "text/plain": [
              "         date        tic       open  ...      close      volume  day\n",
              "0  2019-01-02  000016.SH  2262.7908  ...  2252.7479  20880697.0    2\n",
              "1  2019-01-03  000016.SH  2269.2430  ...  2253.9433  18895240.0    3\n",
              "2  2019-01-04  000016.SH  2314.6466  ...  2249.3658  25900596.0    4\n",
              "3  2019-01-07  000016.SH  2314.3193  ...  2306.8979  25278948.0    0\n",
              "4  2019-01-08  000016.SH  2305.1708  ...  2298.9548  18131160.0    1\n",
              "5  2019-01-09  000016.SH  2332.7192  ...  2318.4352  28747596.0    2\n",
              "6  2019-01-10  000016.SH  2331.8507  ...  2321.3049  22280507.0    3\n",
              "7  2019-01-11  000016.SH  2354.4987  ...  2334.9145  18417693.0    4\n",
              "8  2019-01-14  000016.SH  2331.1358  ...  2330.0042  16462252.0    0\n",
              "9  2019-01-15  000016.SH  2378.3696  ...  2332.4095  22466336.0    1\n",
              "\n",
              "[10 rows x 8 columns]"
            ]
          },
          "metadata": {
            "tags": []
          },
          "execution_count": 27
        }
      ]
    },
    {
      "cell_type": "code",
      "metadata": {
        "colab": {
          "base_uri": "https://localhost:8080/"
        },
        "id": "jiqw_TKUgq9i",
        "outputId": "2ccc1f82-7c22-49a8-9d3b-2e2ccedddbe7"
      },
      "source": [
        "type(df_account_value)"
      ],
      "execution_count": 28,
      "outputs": [
        {
          "output_type": "execute_result",
          "data": {
            "text/plain": [
              "pandas.core.frame.DataFrame"
            ]
          },
          "metadata": {
            "tags": []
          },
          "execution_count": 28
        }
      ]
    },
    {
      "cell_type": "code",
      "metadata": {
        "colab": {
          "base_uri": "https://localhost:8080/",
          "height": 1000
        },
        "id": "PZOihmmakVrh",
        "outputId": "f75786d8-1a54-452a-d789-66c5d663f6ab"
      },
      "source": [
        "print(\"---------------------Plot---------------------\")\n",
        "print(\"和 {} 指数进行比较\".format(config.SSE_50_INDEX[0]))\n",
        "backtest_plot(df_account_value,\n",
        "        baseline_start=\"20190101\",\n",
        "        baseline_end=\"20210101\",\n",
        "        baseline_ticker=config.SSE_50_INDEX,\n",
        "      )"
      ],
      "execution_count": 29,
      "outputs": [
        {
          "output_type": "stream",
          "text": [
            "---------------------Plot---------------------\n",
            "和 000016.SH 指数进行比较\n",
            "--- 开始下载 ----\n",
            "--- 下载完成 ----\n",
            "DataFrame 的大小:  (487, 8)\n"
          ],
          "name": "stdout"
        },
        {
          "output_type": "stream",
          "text": [
            "/usr/local/lib/python3.7/dist-packages/empyrical/stats.py:713: RuntimeWarning: invalid value encountered in true_divide\n",
            "  out=out,\n",
            "/usr/local/lib/python3.7/dist-packages/empyrical/stats.py:799: RuntimeWarning: invalid value encountered in true_divide\n",
            "  np.divide(average_annual_return, annualized_downside_risk, out=out)\n",
            "/usr/local/lib/python3.7/dist-packages/empyrical/stats.py:1528: RuntimeWarning: invalid value encountered in double_scalars\n",
            "  np.abs(np.percentile(returns, 5))\n"
          ],
          "name": "stderr"
        },
        {
          "output_type": "display_data",
          "data": {
            "text/html": [
              "<table border=\"1\" class=\"dataframe\">\n",
              "  <thead>\n",
              "    <tr style=\"text-align: right;\"><th>Start date</th><td colspan=2>2019-01-02</td></tr>\n",
              "    <tr style=\"text-align: right;\"><th>End date</th><td colspan=2>2020-12-30</td></tr>\n",
              "    <tr style=\"text-align: right;\"><th>Total months</th><td colspan=2>23</td></tr>\n",
              "    <tr style=\"text-align: right;\">\n",
              "      <th></th>\n",
              "      <th>Backtest</th>\n",
              "    </tr>\n",
              "  </thead>\n",
              "  <tbody>\n",
              "    <tr>\n",
              "      <th>Annual return</th>\n",
              "      <td>0.0%</td>\n",
              "    </tr>\n",
              "    <tr>\n",
              "      <th>Cumulative returns</th>\n",
              "      <td>0.0%</td>\n",
              "    </tr>\n",
              "    <tr>\n",
              "      <th>Annual volatility</th>\n",
              "      <td>0.0%</td>\n",
              "    </tr>\n",
              "    <tr>\n",
              "      <th>Sharpe ratio</th>\n",
              "      <td>NaN</td>\n",
              "    </tr>\n",
              "    <tr>\n",
              "      <th>Calmar ratio</th>\n",
              "      <td>NaN</td>\n",
              "    </tr>\n",
              "    <tr>\n",
              "      <th>Stability</th>\n",
              "      <td>0.00</td>\n",
              "    </tr>\n",
              "    <tr>\n",
              "      <th>Max drawdown</th>\n",
              "      <td>0.0%</td>\n",
              "    </tr>\n",
              "    <tr>\n",
              "      <th>Omega ratio</th>\n",
              "      <td>NaN</td>\n",
              "    </tr>\n",
              "    <tr>\n",
              "      <th>Sortino ratio</th>\n",
              "      <td>NaN</td>\n",
              "    </tr>\n",
              "    <tr>\n",
              "      <th>Skew</th>\n",
              "      <td>NaN</td>\n",
              "    </tr>\n",
              "    <tr>\n",
              "      <th>Kurtosis</th>\n",
              "      <td>NaN</td>\n",
              "    </tr>\n",
              "    <tr>\n",
              "      <th>Tail ratio</th>\n",
              "      <td>NaN</td>\n",
              "    </tr>\n",
              "    <tr>\n",
              "      <th>Daily value at risk</th>\n",
              "      <td>0.0%</td>\n",
              "    </tr>\n",
              "    <tr>\n",
              "      <th>Alpha</th>\n",
              "      <td>0.00</td>\n",
              "    </tr>\n",
              "    <tr>\n",
              "      <th>Beta</th>\n",
              "      <td>0.00</td>\n",
              "    </tr>\n",
              "  </tbody>\n",
              "</table>"
            ],
            "text/plain": [
              "<IPython.core.display.HTML object>"
            ]
          },
          "metadata": {
            "tags": []
          }
        },
        {
          "output_type": "display_data",
          "data": {
            "text/html": [
              "<table border=\"1\" class=\"dataframe\">\n",
              "  <thead>\n",
              "    <tr style=\"text-align: right;\">\n",
              "      <th>Worst drawdown periods</th>\n",
              "      <th>Net drawdown in %</th>\n",
              "      <th>Peak date</th>\n",
              "      <th>Valley date</th>\n",
              "      <th>Recovery date</th>\n",
              "      <th>Duration</th>\n",
              "    </tr>\n",
              "  </thead>\n",
              "  <tbody>\n",
              "    <tr>\n",
              "      <th>0</th>\n",
              "      <td>0.00</td>\n",
              "      <td>2019-01-02</td>\n",
              "      <td>2019-01-02</td>\n",
              "      <td>2019-01-02</td>\n",
              "      <td>1</td>\n",
              "    </tr>\n",
              "    <tr>\n",
              "      <th>1</th>\n",
              "      <td>NaN</td>\n",
              "      <td>NaT</td>\n",
              "      <td>NaT</td>\n",
              "      <td>NaT</td>\n",
              "      <td>NaN</td>\n",
              "    </tr>\n",
              "    <tr>\n",
              "      <th>2</th>\n",
              "      <td>NaN</td>\n",
              "      <td>NaT</td>\n",
              "      <td>NaT</td>\n",
              "      <td>NaT</td>\n",
              "      <td>NaN</td>\n",
              "    </tr>\n",
              "    <tr>\n",
              "      <th>3</th>\n",
              "      <td>NaN</td>\n",
              "      <td>NaT</td>\n",
              "      <td>NaT</td>\n",
              "      <td>NaT</td>\n",
              "      <td>NaN</td>\n",
              "    </tr>\n",
              "    <tr>\n",
              "      <th>4</th>\n",
              "      <td>NaN</td>\n",
              "      <td>NaT</td>\n",
              "      <td>NaT</td>\n",
              "      <td>NaT</td>\n",
              "      <td>NaN</td>\n",
              "    </tr>\n",
              "  </tbody>\n",
              "</table>"
            ],
            "text/plain": [
              "<IPython.core.display.HTML object>"
            ]
          },
          "metadata": {
            "tags": []
          }
        },
        {
          "output_type": "stream",
          "text": [
            "/usr/local/lib/python3.7/dist-packages/pyfolio/tears.py:907: UserWarning: Passed returns do not overlap with anyinteresting times.\n",
            "  'interesting times.', UserWarning)\n"
          ],
          "name": "stderr"
        }
      ]
    },
    {
      "cell_type": "code",
      "metadata": {
        "id": "VmTn_np4uf7U"
      },
      "source": [],
      "execution_count": null,
      "outputs": []
    }
  ]
}