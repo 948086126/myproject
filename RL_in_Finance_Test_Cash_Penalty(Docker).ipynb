{
 "cells": [
  {
   "cell_type": "markdown",
   "metadata": {
    "id": "SV3q7SkbYyPH"
   },
   "source": [
    "# RL in Finance(Test Cash Penalty) \n",
    "[![Open In Colab](https://colab.research.google.com/assets/colab-badge.svg)](https://colab.research.google.com/github/sunnyswag/RL_in_Finance/blob/main/RL_in_Finance_Test_cash_penalty.ipynb)"
   ]
  },
  {
   "cell_type": "markdown",
   "metadata": {
    "id": "W67Itu99Vu2G"
   },
   "source": [
    "## 1、拉取 github 仓库，下载并导入相关包\n",
    "&emsp;&emsp;运行流程：python setup.py -> pip install -r requirements.txt"
   ]
  },
  {
   "cell_type": "code",
   "execution_count": 1,
   "metadata": {
    "colab": {
     "base_uri": "https://localhost:8080/"
    },
    "id": "Xxc9y_D5T2a0",
    "outputId": "81da4e71-6891-41f1-beaf-df508283690d"
   },
   "outputs": [
    {
     "output_type": "stream",
     "name": "stderr",
     "text": [
      "C:\\Users\\henhaoqi\\anaconda3\\lib\\site-packages\\pyfolio\\pos.py:27: UserWarning: Module \"zipline.assets\" not found; multipliers will not be applied to position notionals.\n  'Module \"zipline.assets\" not found; multipliers will not be applied'\n"
     ]
    }
   ],
   "source": [
    "import pandas as pd\n",
    "import numpy as np\n",
    "import matplotlib\n",
    "import matplotlib.pyplot as plt\n",
    "import datetime\n",
    "import time\n",
    "\n",
    "%matplotlib inline\n",
    "from utils import config\n",
    "from utils.pull_data import Pull_data\n",
    "from utils.preprocessors import FeatureEngineer, split_data\n",
    "from utils.env_retreat_penalty import StockTradingEnvRetreatpenalty\n",
    "from utils.models import DRL_Agent\n",
    "from utils.backtest import backtest_stats, backtest_plot, get_baseline\n",
    "import itertools\n",
    "import sys\n",
    "sys.path.append(\"../RL_in_Finance\")"
   ]
  },
  {
   "cell_type": "markdown",
   "metadata": {
    "id": "jHv-tOOOWFG3"
   },
   "source": [
    "## 2、下载数据"
   ]
  },
  {
   "cell_type": "markdown",
   "metadata": {
    "id": "btxVNBzYvV21"
   },
   "source": [
    "数据来源：Tushare API<br>\n",
    "当前用到的数据：SSE_50 和 CSI_300<br>\n",
    "数据量的大小：shape[2892 * n, 8]"
   ]
  },
  {
   "cell_type": "code",
   "execution_count": 2,
   "metadata": {
    "colab": {
     "base_uri": "https://localhost:8080/"
    },
    "id": "QnxCFcpvXdaI",
    "outputId": "65776e4a-c855-4ce0-ad07-0e7ebf3e6631"
   },
   "outputs": [
    {
     "output_type": "stream",
     "name": "stdout",
     "text": [
      "--- 开始下载 ----\n",
      "--- 下载完成 ----\n",
      "DataFrame 的大小:  (8688, 8)\n"
     ]
    }
   ],
   "source": [
    "stock_list = config.SSE_50[:3]\n",
    "df = Pull_data(stock_list, save_data=False).pull_data()"
   ]
  },
  {
   "cell_type": "code",
   "execution_count": 3,
   "metadata": {
    "colab": {
     "base_uri": "https://localhost:8080/",
     "height": 202
    },
    "id": "UqmzIFv9Xjq_",
    "outputId": "522b3fbf-47f3-42c6-ae05-07dacb300263"
   },
   "outputs": [
    {
     "output_type": "execute_result",
     "data": {
      "text/plain": [
       "         date        tic    open     high     low    close     volume  day\n",
       "0  2009-01-05  600000.SH  2.7584   2.8115  2.7258   2.8013  503142.56    0\n",
       "1  2009-01-05  600009.SH  9.4665   9.6505  9.4414   9.5836   52100.33    0\n",
       "2  2009-01-05  600016.SH  1.6369   1.6487  1.6170   1.6448  947739.82    0\n",
       "3  2009-01-06  600000.SH  2.8422   2.9810  2.8422   2.9565  958496.00    1\n",
       "4  2009-01-06  600009.SH  9.5250  10.1021  9.4999  10.0770  104182.13    1"
      ],
      "text/html": "<div>\n<style scoped>\n    .dataframe tbody tr th:only-of-type {\n        vertical-align: middle;\n    }\n\n    .dataframe tbody tr th {\n        vertical-align: top;\n    }\n\n    .dataframe thead th {\n        text-align: right;\n    }\n</style>\n<table border=\"1\" class=\"dataframe\">\n  <thead>\n    <tr style=\"text-align: right;\">\n      <th></th>\n      <th>date</th>\n      <th>tic</th>\n      <th>open</th>\n      <th>high</th>\n      <th>low</th>\n      <th>close</th>\n      <th>volume</th>\n      <th>day</th>\n    </tr>\n  </thead>\n  <tbody>\n    <tr>\n      <th>0</th>\n      <td>2009-01-05</td>\n      <td>600000.SH</td>\n      <td>2.7584</td>\n      <td>2.8115</td>\n      <td>2.7258</td>\n      <td>2.8013</td>\n      <td>503142.56</td>\n      <td>0</td>\n    </tr>\n    <tr>\n      <th>1</th>\n      <td>2009-01-05</td>\n      <td>600009.SH</td>\n      <td>9.4665</td>\n      <td>9.6505</td>\n      <td>9.4414</td>\n      <td>9.5836</td>\n      <td>52100.33</td>\n      <td>0</td>\n    </tr>\n    <tr>\n      <th>2</th>\n      <td>2009-01-05</td>\n      <td>600016.SH</td>\n      <td>1.6369</td>\n      <td>1.6487</td>\n      <td>1.6170</td>\n      <td>1.6448</td>\n      <td>947739.82</td>\n      <td>0</td>\n    </tr>\n    <tr>\n      <th>3</th>\n      <td>2009-01-06</td>\n      <td>600000.SH</td>\n      <td>2.8422</td>\n      <td>2.9810</td>\n      <td>2.8422</td>\n      <td>2.9565</td>\n      <td>958496.00</td>\n      <td>1</td>\n    </tr>\n    <tr>\n      <th>4</th>\n      <td>2009-01-06</td>\n      <td>600009.SH</td>\n      <td>9.5250</td>\n      <td>10.1021</td>\n      <td>9.4999</td>\n      <td>10.0770</td>\n      <td>104182.13</td>\n      <td>1</td>\n    </tr>\n  </tbody>\n</table>\n</div>"
     },
     "metadata": {},
     "execution_count": 3
    }
   ],
   "source": [
    "df.sort_values(['date', 'tic'], ignore_index=True).head()"
   ]
  },
  {
   "cell_type": "code",
   "execution_count": 4,
   "metadata": {
    "colab": {
     "base_uri": "https://localhost:8080/"
    },
    "id": "nmVukaFnWgAe",
    "outputId": "2d612f84-65dc-4a81-8e4b-f3b3be49854f"
   },
   "outputs": [
    {
     "output_type": "stream",
     "name": "stdout",
     "text": [
      "数据下载的时间区间为：20090101 至 20210101\n"
     ]
    }
   ],
   "source": [
    "print(\"数据下载的时间区间为：{} 至 {}\".format(config.Start_Date, config.End_Date))"
   ]
  },
  {
   "cell_type": "code",
   "execution_count": 5,
   "metadata": {
    "colab": {
     "base_uri": "https://localhost:8080/"
    },
    "id": "bBIe5VuwXLY_",
    "outputId": "4bb36f27-aa42-42aa-8283-4253f1c7ee05"
   },
   "outputs": [
    {
     "output_type": "stream",
     "name": "stdout",
     "text": [
      "下载的股票列表为: \n['600000.SH', '600009.SH', '600016.SH']\n"
     ]
    }
   ],
   "source": [
    "print(\"下载的股票列表为: \")\n",
    "print(stock_list)"
   ]
  },
  {
   "cell_type": "markdown",
   "metadata": {
    "id": "6EI_Q4pOW_FG"
   },
   "source": [
    "## 3、数据预处理"
   ]
  },
  {
   "cell_type": "code",
   "execution_count": 6,
   "metadata": {
    "colab": {
     "base_uri": "https://localhost:8080/"
    },
    "id": "9VY5MQ_kUVpz",
    "outputId": "a7547759-d109-4bd2-9192-843c80b4e640"
   },
   "outputs": [
    {
     "output_type": "stream",
     "name": "stdout",
     "text": [
      "成功添加技术指标\n",
      "对当前时间段未上市的公司的所有行置零\n",
      "C:\\Users\\henhaoqi\\anaconda3\\lib\\site-packages\\pandas\\core\\series.py:679: RuntimeWarning: divide by zero encountered in log\n",
      "  result = getattr(ufunc, method)(*inputs, **kwargs)\n"
     ]
    }
   ],
   "source": [
    "processed_df = FeatureEngineer(use_technical_indicator=True).preprocess_data(df)\n",
    "processed_df['log_volume'] = np.log(processed_df.volume*processed_df.close)\n",
    "processed_df['change'] = (processed_df.close-processed_df.open)/processed_df.close\n",
    "processed_df['daily_variance'] = (processed_df.high-processed_df.low)/processed_df.close"
   ]
  },
  {
   "cell_type": "code",
   "execution_count": 7,
   "metadata": {},
   "outputs": [],
   "source": [
    "processed_df = processed_df.fillna(0)"
   ]
  },
  {
   "cell_type": "code",
   "execution_count": 8,
   "metadata": {
    "colab": {
     "base_uri": "https://localhost:8080/"
    },
    "id": "Cm_Z8uytXIVv",
    "outputId": "36db3532-36d4-4ce0-fc65-88da050f73da"
   },
   "outputs": [
    {
     "output_type": "stream",
     "name": "stdout",
     "text": [
      "技术指标列表: \n['boll_ub', 'boll_lb', 'rsi_30', 'cci_30', 'dx_30', 'macd', 'volume_20_sma', 'volume_60_sma', 'volume_120_sma', 'close_20_sma', 'close_60_sma', 'close_120_sma']\n技术指标数: 12个\n"
     ]
    }
   ],
   "source": [
    "print(\"技术指标列表: \")\n",
    "print(config.TECHNICAL_INDICATORS_LIST)\n",
    "print(\"技术指标数: {}个\".format(len(config.TECHNICAL_INDICATORS_LIST)))"
   ]
  },
  {
   "cell_type": "code",
   "execution_count": 9,
   "metadata": {
    "colab": {
     "base_uri": "https://localhost:8080/",
     "height": 309
    },
    "id": "e4wNTZBWYyZK",
    "outputId": "adb8de06-8330-42be-b367-33d1fb2eeee5"
   },
   "outputs": [
    {
     "output_type": "execute_result",
     "data": {
      "text/plain": [
       "         date        tic    open     high     low    close     volume  day  \\\n",
       "0  2009-01-05  600000.SH  2.7584   2.8115  2.7258   2.8013  503142.56  0.0   \n",
       "1  2009-01-05  600009.SH  9.4665   9.6505  9.4414   9.5836   52100.33  0.0   \n",
       "2  2009-01-05  600016.SH  1.6369   1.6487  1.6170   1.6448  947739.82  0.0   \n",
       "3  2009-01-06  600000.SH  2.8422   2.9810  2.8422   2.9565  958496.00  1.0   \n",
       "4  2009-01-06  600009.SH  9.5250  10.1021  9.4999  10.0770  104182.13  1.0   \n",
       "\n",
       "     boll_ub   boll_lb  ...      macd  volume_20_sma  volume_60_sma  \\\n",
       "0   0.000000  0.000000  ...  0.000000      503142.56      503142.56   \n",
       "1   0.000000  0.000000  ...  0.000000       52100.33       52100.33   \n",
       "2   0.000000  0.000000  ...  0.000000      947739.82      947739.82   \n",
       "3   3.098386  2.659414  ...  0.003482      730819.28      730819.28   \n",
       "4  10.528073  9.132527  ...  0.011070       78141.23       78141.23   \n",
       "\n",
       "   volume_120_sma  close_20_sma  close_60_sma  close_120_sma  log_volume  \\\n",
       "0       503142.56        2.8013        2.8013         2.8013   14.158712   \n",
       "1        52100.33        9.5836        9.5836         9.5836   13.120980   \n",
       "2       947739.82        1.6448        1.6448         1.6448   14.259454   \n",
       "3       730819.28        2.8789        2.8789         2.8789   14.857127   \n",
       "4        78141.23        9.8303        9.8303         9.8303   13.864151   \n",
       "\n",
       "     change  daily_variance  \n",
       "0  0.015314        0.030593  \n",
       "1  0.012219        0.021819  \n",
       "2  0.004803        0.019273  \n",
       "3  0.038661        0.046947  \n",
       "4  0.054778        0.059760  \n",
       "\n",
       "[5 rows x 23 columns]"
      ],
      "text/html": "<div>\n<style scoped>\n    .dataframe tbody tr th:only-of-type {\n        vertical-align: middle;\n    }\n\n    .dataframe tbody tr th {\n        vertical-align: top;\n    }\n\n    .dataframe thead th {\n        text-align: right;\n    }\n</style>\n<table border=\"1\" class=\"dataframe\">\n  <thead>\n    <tr style=\"text-align: right;\">\n      <th></th>\n      <th>date</th>\n      <th>tic</th>\n      <th>open</th>\n      <th>high</th>\n      <th>low</th>\n      <th>close</th>\n      <th>volume</th>\n      <th>day</th>\n      <th>boll_ub</th>\n      <th>boll_lb</th>\n      <th>...</th>\n      <th>macd</th>\n      <th>volume_20_sma</th>\n      <th>volume_60_sma</th>\n      <th>volume_120_sma</th>\n      <th>close_20_sma</th>\n      <th>close_60_sma</th>\n      <th>close_120_sma</th>\n      <th>log_volume</th>\n      <th>change</th>\n      <th>daily_variance</th>\n    </tr>\n  </thead>\n  <tbody>\n    <tr>\n      <th>0</th>\n      <td>2009-01-05</td>\n      <td>600000.SH</td>\n      <td>2.7584</td>\n      <td>2.8115</td>\n      <td>2.7258</td>\n      <td>2.8013</td>\n      <td>503142.56</td>\n      <td>0.0</td>\n      <td>0.000000</td>\n      <td>0.000000</td>\n      <td>...</td>\n      <td>0.000000</td>\n      <td>503142.56</td>\n      <td>503142.56</td>\n      <td>503142.56</td>\n      <td>2.8013</td>\n      <td>2.8013</td>\n      <td>2.8013</td>\n      <td>14.158712</td>\n      <td>0.015314</td>\n      <td>0.030593</td>\n    </tr>\n    <tr>\n      <th>1</th>\n      <td>2009-01-05</td>\n      <td>600009.SH</td>\n      <td>9.4665</td>\n      <td>9.6505</td>\n      <td>9.4414</td>\n      <td>9.5836</td>\n      <td>52100.33</td>\n      <td>0.0</td>\n      <td>0.000000</td>\n      <td>0.000000</td>\n      <td>...</td>\n      <td>0.000000</td>\n      <td>52100.33</td>\n      <td>52100.33</td>\n      <td>52100.33</td>\n      <td>9.5836</td>\n      <td>9.5836</td>\n      <td>9.5836</td>\n      <td>13.120980</td>\n      <td>0.012219</td>\n      <td>0.021819</td>\n    </tr>\n    <tr>\n      <th>2</th>\n      <td>2009-01-05</td>\n      <td>600016.SH</td>\n      <td>1.6369</td>\n      <td>1.6487</td>\n      <td>1.6170</td>\n      <td>1.6448</td>\n      <td>947739.82</td>\n      <td>0.0</td>\n      <td>0.000000</td>\n      <td>0.000000</td>\n      <td>...</td>\n      <td>0.000000</td>\n      <td>947739.82</td>\n      <td>947739.82</td>\n      <td>947739.82</td>\n      <td>1.6448</td>\n      <td>1.6448</td>\n      <td>1.6448</td>\n      <td>14.259454</td>\n      <td>0.004803</td>\n      <td>0.019273</td>\n    </tr>\n    <tr>\n      <th>3</th>\n      <td>2009-01-06</td>\n      <td>600000.SH</td>\n      <td>2.8422</td>\n      <td>2.9810</td>\n      <td>2.8422</td>\n      <td>2.9565</td>\n      <td>958496.00</td>\n      <td>1.0</td>\n      <td>3.098386</td>\n      <td>2.659414</td>\n      <td>...</td>\n      <td>0.003482</td>\n      <td>730819.28</td>\n      <td>730819.28</td>\n      <td>730819.28</td>\n      <td>2.8789</td>\n      <td>2.8789</td>\n      <td>2.8789</td>\n      <td>14.857127</td>\n      <td>0.038661</td>\n      <td>0.046947</td>\n    </tr>\n    <tr>\n      <th>4</th>\n      <td>2009-01-06</td>\n      <td>600009.SH</td>\n      <td>9.5250</td>\n      <td>10.1021</td>\n      <td>9.4999</td>\n      <td>10.0770</td>\n      <td>104182.13</td>\n      <td>1.0</td>\n      <td>10.528073</td>\n      <td>9.132527</td>\n      <td>...</td>\n      <td>0.011070</td>\n      <td>78141.23</td>\n      <td>78141.23</td>\n      <td>78141.23</td>\n      <td>9.8303</td>\n      <td>9.8303</td>\n      <td>9.8303</td>\n      <td>13.864151</td>\n      <td>0.054778</td>\n      <td>0.059760</td>\n    </tr>\n  </tbody>\n</table>\n<p>5 rows × 23 columns</p>\n</div>"
     },
     "metadata": {},
     "execution_count": 9
    }
   ],
   "source": [
    "processed_df.head()"
   ]
  },
  {
   "cell_type": "code",
   "execution_count": 10,
   "metadata": {
    "id": "uDHoMhRsY-6H"
   },
   "outputs": [],
   "source": [
    "train_data = split_data(processed_df, config.Start_Trade_Date, config.End_Trade_Date)\n",
    "test_data = split_data(processed_df, config.End_Trade_Date, config.End_Test_Date)"
   ]
  },
  {
   "cell_type": "code",
   "execution_count": 11,
   "metadata": {
    "colab": {
     "base_uri": "https://localhost:8080/"
    },
    "id": "WoPNyYr4ZxD2",
    "outputId": "1fac98f2-471c-4ceb-8fcd-69a25cdc0e46"
   },
   "outputs": [
    {
     "output_type": "stream",
     "name": "stdout",
     "text": [
      "训练数据的范围：2009-01-01 至 2019-01-01\n测试数据的范围：2019-01-01 至 2021-01-01\n训练数据的长度: 7293,测试数据的长度:1461\n训练集数据 : 测试集数据: 5.0 : 1\n"
     ]
    }
   ],
   "source": [
    "print(\"训练数据的范围：{} 至 {}\".format(config.Start_Trade_Date, config.End_Trade_Date))\n",
    "print(\"测试数据的范围：{} 至 {}\".format(config.End_Trade_Date, config.End_Test_Date))\n",
    "print(\"训练数据的长度: {},测试数据的长度:{}\".format(len(train_data), len(test_data)))\n",
    "print(\"训练集数据 : 测试集数据: {} : {}\".format(round(len(train_data)/len(test_data),1), 1))"
   ]
  },
  {
   "cell_type": "code",
   "execution_count": 12,
   "metadata": {
    "colab": {
     "base_uri": "https://localhost:8080/",
     "height": 309
    },
    "id": "BPny-EJbaS_S",
    "outputId": "eee3a7bd-fb65-4313-b7f4-08c2d01423d8"
   },
   "outputs": [
    {
     "output_type": "execute_result",
     "data": {
      "text/plain": [
       "         date        tic    open     high     low    close     volume  day  \\\n",
       "0  2009-01-05  600000.SH  2.7584   2.8115  2.7258   2.8013  503142.56  0.0   \n",
       "0  2009-01-05  600009.SH  9.4665   9.6505  9.4414   9.5836   52100.33  0.0   \n",
       "0  2009-01-05  600016.SH  1.6369   1.6487  1.6170   1.6448  947739.82  0.0   \n",
       "1  2009-01-06  600000.SH  2.8422   2.9810  2.8422   2.9565  958496.00  1.0   \n",
       "1  2009-01-06  600009.SH  9.5250  10.1021  9.4999  10.0770  104182.13  1.0   \n",
       "\n",
       "     boll_ub   boll_lb  ...      macd  volume_20_sma  volume_60_sma  \\\n",
       "0   0.000000  0.000000  ...  0.000000      503142.56      503142.56   \n",
       "0   0.000000  0.000000  ...  0.000000       52100.33       52100.33   \n",
       "0   0.000000  0.000000  ...  0.000000      947739.82      947739.82   \n",
       "1   3.098386  2.659414  ...  0.003482      730819.28      730819.28   \n",
       "1  10.528073  9.132527  ...  0.011070       78141.23       78141.23   \n",
       "\n",
       "   volume_120_sma  close_20_sma  close_60_sma  close_120_sma  log_volume  \\\n",
       "0       503142.56        2.8013        2.8013         2.8013   14.158712   \n",
       "0        52100.33        9.5836        9.5836         9.5836   13.120980   \n",
       "0       947739.82        1.6448        1.6448         1.6448   14.259454   \n",
       "1       730819.28        2.8789        2.8789         2.8789   14.857127   \n",
       "1        78141.23        9.8303        9.8303         9.8303   13.864151   \n",
       "\n",
       "     change  daily_variance  \n",
       "0  0.015314        0.030593  \n",
       "0  0.012219        0.021819  \n",
       "0  0.004803        0.019273  \n",
       "1  0.038661        0.046947  \n",
       "1  0.054778        0.059760  \n",
       "\n",
       "[5 rows x 23 columns]"
      ],
      "text/html": "<div>\n<style scoped>\n    .dataframe tbody tr th:only-of-type {\n        vertical-align: middle;\n    }\n\n    .dataframe tbody tr th {\n        vertical-align: top;\n    }\n\n    .dataframe thead th {\n        text-align: right;\n    }\n</style>\n<table border=\"1\" class=\"dataframe\">\n  <thead>\n    <tr style=\"text-align: right;\">\n      <th></th>\n      <th>date</th>\n      <th>tic</th>\n      <th>open</th>\n      <th>high</th>\n      <th>low</th>\n      <th>close</th>\n      <th>volume</th>\n      <th>day</th>\n      <th>boll_ub</th>\n      <th>boll_lb</th>\n      <th>...</th>\n      <th>macd</th>\n      <th>volume_20_sma</th>\n      <th>volume_60_sma</th>\n      <th>volume_120_sma</th>\n      <th>close_20_sma</th>\n      <th>close_60_sma</th>\n      <th>close_120_sma</th>\n      <th>log_volume</th>\n      <th>change</th>\n      <th>daily_variance</th>\n    </tr>\n  </thead>\n  <tbody>\n    <tr>\n      <th>0</th>\n      <td>2009-01-05</td>\n      <td>600000.SH</td>\n      <td>2.7584</td>\n      <td>2.8115</td>\n      <td>2.7258</td>\n      <td>2.8013</td>\n      <td>503142.56</td>\n      <td>0.0</td>\n      <td>0.000000</td>\n      <td>0.000000</td>\n      <td>...</td>\n      <td>0.000000</td>\n      <td>503142.56</td>\n      <td>503142.56</td>\n      <td>503142.56</td>\n      <td>2.8013</td>\n      <td>2.8013</td>\n      <td>2.8013</td>\n      <td>14.158712</td>\n      <td>0.015314</td>\n      <td>0.030593</td>\n    </tr>\n    <tr>\n      <th>0</th>\n      <td>2009-01-05</td>\n      <td>600009.SH</td>\n      <td>9.4665</td>\n      <td>9.6505</td>\n      <td>9.4414</td>\n      <td>9.5836</td>\n      <td>52100.33</td>\n      <td>0.0</td>\n      <td>0.000000</td>\n      <td>0.000000</td>\n      <td>...</td>\n      <td>0.000000</td>\n      <td>52100.33</td>\n      <td>52100.33</td>\n      <td>52100.33</td>\n      <td>9.5836</td>\n      <td>9.5836</td>\n      <td>9.5836</td>\n      <td>13.120980</td>\n      <td>0.012219</td>\n      <td>0.021819</td>\n    </tr>\n    <tr>\n      <th>0</th>\n      <td>2009-01-05</td>\n      <td>600016.SH</td>\n      <td>1.6369</td>\n      <td>1.6487</td>\n      <td>1.6170</td>\n      <td>1.6448</td>\n      <td>947739.82</td>\n      <td>0.0</td>\n      <td>0.000000</td>\n      <td>0.000000</td>\n      <td>...</td>\n      <td>0.000000</td>\n      <td>947739.82</td>\n      <td>947739.82</td>\n      <td>947739.82</td>\n      <td>1.6448</td>\n      <td>1.6448</td>\n      <td>1.6448</td>\n      <td>14.259454</td>\n      <td>0.004803</td>\n      <td>0.019273</td>\n    </tr>\n    <tr>\n      <th>1</th>\n      <td>2009-01-06</td>\n      <td>600000.SH</td>\n      <td>2.8422</td>\n      <td>2.9810</td>\n      <td>2.8422</td>\n      <td>2.9565</td>\n      <td>958496.00</td>\n      <td>1.0</td>\n      <td>3.098386</td>\n      <td>2.659414</td>\n      <td>...</td>\n      <td>0.003482</td>\n      <td>730819.28</td>\n      <td>730819.28</td>\n      <td>730819.28</td>\n      <td>2.8789</td>\n      <td>2.8789</td>\n      <td>2.8789</td>\n      <td>14.857127</td>\n      <td>0.038661</td>\n      <td>0.046947</td>\n    </tr>\n    <tr>\n      <th>1</th>\n      <td>2009-01-06</td>\n      <td>600009.SH</td>\n      <td>9.5250</td>\n      <td>10.1021</td>\n      <td>9.4999</td>\n      <td>10.0770</td>\n      <td>104182.13</td>\n      <td>1.0</td>\n      <td>10.528073</td>\n      <td>9.132527</td>\n      <td>...</td>\n      <td>0.011070</td>\n      <td>78141.23</td>\n      <td>78141.23</td>\n      <td>78141.23</td>\n      <td>9.8303</td>\n      <td>9.8303</td>\n      <td>9.8303</td>\n      <td>13.864151</td>\n      <td>0.054778</td>\n      <td>0.059760</td>\n    </tr>\n  </tbody>\n</table>\n<p>5 rows × 23 columns</p>\n</div>"
     },
     "metadata": {},
     "execution_count": 12
    }
   ],
   "source": [
    "train_data.head()"
   ]
  },
  {
   "cell_type": "code",
   "execution_count": 13,
   "metadata": {
    "colab": {
     "base_uri": "https://localhost:8080/",
     "height": 309
    },
    "id": "SymPC9A86mNs",
    "outputId": "69a64322-b26a-4ff6-a658-ef7ce208e046"
   },
   "outputs": [
    {
     "output_type": "execute_result",
     "data": {
      "text/plain": [
       "         date        tic     open     high      low    close     volume  day  \\\n",
       "0  2019-01-02  600000.SH   8.9589   9.0049   8.8117   8.9221  237628.22  2.0   \n",
       "0  2019-01-02  600009.SH  49.6941  49.8119  48.8298  49.4780   40051.97  2.0   \n",
       "0  2019-01-02  600016.SH   5.0982   5.1071   5.0002   5.0358  579415.00  2.0   \n",
       "1  2019-01-03  600000.SH   8.9221   9.0325   8.8853   9.0233  186542.62  3.0   \n",
       "1  2019-01-03  600009.SH  49.4780  49.4780  48.3977  48.8102   42482.83  3.0   \n",
       "\n",
       "     boll_ub    boll_lb  ...      macd  volume_20_sma  volume_60_sma  \\\n",
       "0  10.502893   8.657577  ... -0.251945    215239.5065  243030.142333   \n",
       "0  51.140976  48.044854  ...  0.025528     32632.9760   53532.431500   \n",
       "0   5.554261   4.922929  ... -0.108006    632488.8415  653332.693333   \n",
       "1  10.429333   8.614317  ... -0.250136    214160.9910  242279.348333   \n",
       "1  50.875727  48.076363  ... -0.037795     32945.6770   53127.352000   \n",
       "\n",
       "   volume_120_sma  close_20_sma  close_60_sma  close_120_sma  log_volume  \\\n",
       "0   221033.873083      9.580235      9.716063       9.475849   14.566994   \n",
       "0    57995.661333     49.592915     49.906370      53.102410   14.499461   \n",
       "0   609303.477833      5.238595      5.419815       5.361655   14.886347   \n",
       "1   220740.681167      9.521825      9.710852       9.478228   14.336225   \n",
       "1    57999.520167     49.476045     49.838770      53.046981   14.544795   \n",
       "\n",
       "     change  daily_variance  \n",
       "0 -0.004125        0.021654  \n",
       "0 -0.004368        0.019849  \n",
       "0 -0.012391        0.021228  \n",
       "1  0.011215        0.016313  \n",
       "1 -0.013682        0.022133  \n",
       "\n",
       "[5 rows x 23 columns]"
      ],
      "text/html": "<div>\n<style scoped>\n    .dataframe tbody tr th:only-of-type {\n        vertical-align: middle;\n    }\n\n    .dataframe tbody tr th {\n        vertical-align: top;\n    }\n\n    .dataframe thead th {\n        text-align: right;\n    }\n</style>\n<table border=\"1\" class=\"dataframe\">\n  <thead>\n    <tr style=\"text-align: right;\">\n      <th></th>\n      <th>date</th>\n      <th>tic</th>\n      <th>open</th>\n      <th>high</th>\n      <th>low</th>\n      <th>close</th>\n      <th>volume</th>\n      <th>day</th>\n      <th>boll_ub</th>\n      <th>boll_lb</th>\n      <th>...</th>\n      <th>macd</th>\n      <th>volume_20_sma</th>\n      <th>volume_60_sma</th>\n      <th>volume_120_sma</th>\n      <th>close_20_sma</th>\n      <th>close_60_sma</th>\n      <th>close_120_sma</th>\n      <th>log_volume</th>\n      <th>change</th>\n      <th>daily_variance</th>\n    </tr>\n  </thead>\n  <tbody>\n    <tr>\n      <th>0</th>\n      <td>2019-01-02</td>\n      <td>600000.SH</td>\n      <td>8.9589</td>\n      <td>9.0049</td>\n      <td>8.8117</td>\n      <td>8.9221</td>\n      <td>237628.22</td>\n      <td>2.0</td>\n      <td>10.502893</td>\n      <td>8.657577</td>\n      <td>...</td>\n      <td>-0.251945</td>\n      <td>215239.5065</td>\n      <td>243030.142333</td>\n      <td>221033.873083</td>\n      <td>9.580235</td>\n      <td>9.716063</td>\n      <td>9.475849</td>\n      <td>14.566994</td>\n      <td>-0.004125</td>\n      <td>0.021654</td>\n    </tr>\n    <tr>\n      <th>0</th>\n      <td>2019-01-02</td>\n      <td>600009.SH</td>\n      <td>49.6941</td>\n      <td>49.8119</td>\n      <td>48.8298</td>\n      <td>49.4780</td>\n      <td>40051.97</td>\n      <td>2.0</td>\n      <td>51.140976</td>\n      <td>48.044854</td>\n      <td>...</td>\n      <td>0.025528</td>\n      <td>32632.9760</td>\n      <td>53532.431500</td>\n      <td>57995.661333</td>\n      <td>49.592915</td>\n      <td>49.906370</td>\n      <td>53.102410</td>\n      <td>14.499461</td>\n      <td>-0.004368</td>\n      <td>0.019849</td>\n    </tr>\n    <tr>\n      <th>0</th>\n      <td>2019-01-02</td>\n      <td>600016.SH</td>\n      <td>5.0982</td>\n      <td>5.1071</td>\n      <td>5.0002</td>\n      <td>5.0358</td>\n      <td>579415.00</td>\n      <td>2.0</td>\n      <td>5.554261</td>\n      <td>4.922929</td>\n      <td>...</td>\n      <td>-0.108006</td>\n      <td>632488.8415</td>\n      <td>653332.693333</td>\n      <td>609303.477833</td>\n      <td>5.238595</td>\n      <td>5.419815</td>\n      <td>5.361655</td>\n      <td>14.886347</td>\n      <td>-0.012391</td>\n      <td>0.021228</td>\n    </tr>\n    <tr>\n      <th>1</th>\n      <td>2019-01-03</td>\n      <td>600000.SH</td>\n      <td>8.9221</td>\n      <td>9.0325</td>\n      <td>8.8853</td>\n      <td>9.0233</td>\n      <td>186542.62</td>\n      <td>3.0</td>\n      <td>10.429333</td>\n      <td>8.614317</td>\n      <td>...</td>\n      <td>-0.250136</td>\n      <td>214160.9910</td>\n      <td>242279.348333</td>\n      <td>220740.681167</td>\n      <td>9.521825</td>\n      <td>9.710852</td>\n      <td>9.478228</td>\n      <td>14.336225</td>\n      <td>0.011215</td>\n      <td>0.016313</td>\n    </tr>\n    <tr>\n      <th>1</th>\n      <td>2019-01-03</td>\n      <td>600009.SH</td>\n      <td>49.4780</td>\n      <td>49.4780</td>\n      <td>48.3977</td>\n      <td>48.8102</td>\n      <td>42482.83</td>\n      <td>3.0</td>\n      <td>50.875727</td>\n      <td>48.076363</td>\n      <td>...</td>\n      <td>-0.037795</td>\n      <td>32945.6770</td>\n      <td>53127.352000</td>\n      <td>57999.520167</td>\n      <td>49.476045</td>\n      <td>49.838770</td>\n      <td>53.046981</td>\n      <td>14.544795</td>\n      <td>-0.013682</td>\n      <td>0.022133</td>\n    </tr>\n  </tbody>\n</table>\n<p>5 rows × 23 columns</p>\n</div>"
     },
     "metadata": {},
     "execution_count": 13
    }
   ],
   "source": [
    "test_data.head()"
   ]
  },
  {
   "cell_type": "markdown",
   "metadata": {
    "id": "98kYgqGmagbD"
   },
   "source": [
    "## 4、初始化环境"
   ]
  },
  {
   "cell_type": "markdown",
   "metadata": {
    "id": "MDlKRLpaa38j"
   },
   "source": [
    "**state_space 由四部分组成 :** <br>\n",
    "1. 当天的资金量\n",
    "2. 每只股票当天的收盘价\n",
    "3. 每只股票当天的持仓量\n",
    "4. 股票数 * 技术指标数<br>\n",
    "5. 当天成交量\n",
    "\n",
    "**reward 的计算方式：**<br>\n",
    "* reward 交易前的总资产-当天交易后的总资产 = 当天交易的手续费\n",
    "* TODO：待改进\n",
    "\n",
    "**action_space 的空间：**<br>\n",
    "  * actions ∈[-100, 100]\n",
    "  * 正数表示买入，负数表示卖出，0表示不进行买入卖出操作\n",
    "  * 绝对值表示买入卖出的数量"
   ]
  },
  {
   "cell_type": "code",
   "execution_count": 14,
   "metadata": {
    "id": "sCXH6GOcaWtS"
   },
   "outputs": [],
   "source": [
    "# stock_dimension = len(df.tic.unique())\n",
    "# state_space = 1 + 2*stock_dimension + \\\n",
    "#     len(config.TECHNICAL_INDICATORS_LIST)*stock_dimension + stock_dimension\n",
    "# print(\"stock_dimension: {}, state_space: {}\".format(stock_dimension, state_space))"
   ]
  },
  {
   "cell_type": "code",
   "execution_count": 15,
   "metadata": {
    "colab": {
     "base_uri": "https://localhost:8080/"
    },
    "id": "rXLVf1gebTp1",
    "outputId": "297dd934-ec49-4c9a-d5b9-4c369d52e22b"
   },
   "outputs": [
    {
     "output_type": "stream",
     "name": "stdout",
     "text": [
      "caching data\n",
      "data cached!\n",
      "caching data\n",
      "data cached!\n"
     ]
    }
   ],
   "source": [
    "# 初始化环境的参数\n",
    "information_cols = config.TECHNICAL_INDICATORS_LIST + [\"close\", \"day\", \"log_volume\", \"change\", \"daily_variance\"]\n",
    "\n",
    "e_train_gym = StockTradingEnvRetreatpenalty(df = train_data,initial_amount = 1e6,hmax = 5000, \n",
    "                                turbulence_threshold = None, \n",
    "                                currency='￥',\n",
    "                                buy_cost_pct=3e-3,\n",
    "                                sell_cost_pct=3e-3,\n",
    "                                cache_indicator_data=True,\n",
    "                                daily_information_cols = information_cols, \n",
    "                                print_verbosity = 500,\n",
    "                                patient=True,\n",
    "                                random_start = True)\n",
    "\n",
    "e_trade_gym = StockTradingEnvRetreatpenalty(df = test_data,initial_amount = 1e6,hmax = 5000, \n",
    "                                turbulence_threshold = None, \n",
    "                                currency='￥',\n",
    "                                buy_cost_pct=3e-3,\n",
    "                                sell_cost_pct=3e-3,\n",
    "                                cache_indicator_data=True,\n",
    "                                daily_information_cols = information_cols, \n",
    "                                print_verbosity = 500,\n",
    "                                patient=True,\n",
    "                                random_start = False)"
   ]
  },
  {
   "cell_type": "code",
   "execution_count": 16,
   "metadata": {
    "colab": {
     "base_uri": "https://localhost:8080/"
    },
    "id": "KPL6HInvd_yB",
    "outputId": "580ebcb0-836b-4fc3-da1e-b55d467eacb5",
    "tags": []
   },
   "outputs": [
    {
     "output_type": "stream",
     "name": "stdout",
     "text": [
      "EPISODE|STEPSTERMINAL_REASON|CASH           |TOT_ASSETS     |TERMINAL_REWARD_unsc|GAINLOSS_PCT|RETREAT_PROPORTION\n",
      "c:\\Users\\henhaoqi\\Desktop\\graduation_project\\RL_in_Finance\\utils\\env_retreat_penalty.py:259: RuntimeWarning: invalid value encountered in true_divide\n",
      "  actions = actions / self.closings\n",
      "   0| 499update         |￥794,039       |￥973,197       |-51.19914%|-2.68028% |-97.04%   \n",
      "   0| 999update         |￥765,222       |￥1,015,805     |-46.36222%|1.58048%  |-95.89%   \n",
      "   0|1499update         |￥688,889       |￥1,240,265     |-24.72605%|24.02654% |-97.51%   \n",
      "count:  1600\n",
      "reward: -644.6063830852545, done: False\n"
     ]
    }
   ],
   "source": [
    "# 对环境进行测试\n",
    "# %debug\n",
    "observation = e_train_gym.reset() # 初始化环境，observation为环境状态\n",
    "count = 0\n",
    "total_reward = 0\n",
    "for t in range(1600):\n",
    "    action = e_train_gym.action_space.sample() # 随机采样动作\n",
    "    observation, reward, done, info = e_train_gym.step(action) # 与环境交互，获得下一个state的值\n",
    "    total_reward += reward\n",
    "    if done:             \n",
    "        break\n",
    "    count+=1\n",
    "    # time.sleep(0.2)      #每次等待 0.2s\n",
    "print(\"count: \", count)\n",
    "print(\"reward: {}, done: {}\".format(total_reward, done))"
   ]
  },
  {
   "cell_type": "code",
   "execution_count": 18,
   "metadata": {
    "id": "HITGmA4MfxEk"
   },
   "outputs": [
    {
     "name": "stdout",
     "output_type": "stream",
     "text": [
      "using 10 cores\n",
      "   2| 499|update         |￥1,000,000     |￥1,000,000     |0.00000%  |0.00000%  |100.00%      2| 499|update         |￥1,000,000     |￥1,000,000     |0.00000%  |0.00000%  |100.00%   \n",
      "   2| 499|update         |￥1,000,000     |￥1,000,000     |0.00000%  |0.00000%  |100.00%   \n",
      "   2| 499|update         |￥1,000,000     |￥1,000,000     |0.00000%  |0.00000%  |100.00%      2| 499|update         |￥1,000,000     |￥1,000,000     |0.00000%  |0.00000%  |100.00%      2| 499|update         |￥1,000,000     |￥1,000,000     |0.00000%  |0.00000%  |100.00%      2| 499|update         |￥1,000,000     |￥1,000,000     |0.00000%  |0.00000%  |100.00%   \n",
      "   2| 499|update         |￥1,000,000     |￥1,000,000     |0.00000%  |0.00000%  |100.00%   \n",
      "   2| 499|update         |￥1,000,000     |￥1,000,000     |0.00000%  |0.00000%  |100.00%   \n",
      "\n",
      "\n",
      "\n",
      "   2| 499|update         |￥1,000,000     |￥1,000,000     |0.00000%  |0.00000%  |100.00%   \n",
      "\n"
     ]
    }
   ],
   "source": [
    "import multiprocessing\n",
    "\n",
    "n_cores = multiprocessing.cpu_count() - 10\n",
    "n_cores = 24\n",
    "print(\"using {} cores\".format(n_cores))\n",
    "\n",
    "#this is our training env. It allows multiprocessing\n",
    "env_train, _ = e_train_gym.get_multiproc_env(n = n_cores)\n",
    "\n",
    "#this is our observation environment. It allows full diagnostics\n",
    "env_trade, _ = e_trade_gym.get_sb_env()"
   ]
  },
  {
   "cell_type": "markdown",
   "metadata": {
    "id": "CIeiCKBngDVz"
   },
   "source": [
    "## 5、开始训练"
   ]
  },
  {
   "cell_type": "markdown",
   "metadata": {
    "id": "ZdUgJvJ41eBh"
   },
   "source": [
    "所用到的框架：stable_baseline3"
   ]
  },
  {
   "cell_type": "code",
   "execution_count": 20,
   "metadata": {
    "id": "4WYp6VbGmwey"
   },
   "outputs": [],
   "source": [
    "agent = DRL_Agent(env = env_train)"
   ]
  },
  {
   "cell_type": "code",
   "execution_count": 21,
   "metadata": {
    "colab": {
     "base_uri": "https://localhost:8080/"
    },
    "id": "AHqjcamZgBLH",
    "outputId": "3208632d-2c0e-4cd9-d867-3ed62938e35b"
   },
   "outputs": [
    {
     "name": "stdout",
     "output_type": "stream",
     "text": [
      "{'n_steps': 256, 'ent_coef': 0.0, 'learning_rate': 5e-06, 'batch_size': 256, 'gamma': 0.99}\n"
     ]
    },
    {
     "name": "stderr",
     "output_type": "stream",
     "text": [
      "/opt/conda/lib/python3.6/site-packages/torch/cuda/__init__.py:52: UserWarning: CUDA initialization: Found no NVIDIA driver on your system. Please check that you have an NVIDIA GPU and installed a driver from http://www.nvidia.com/Download/index.aspx (Triggered internally at  /opt/conda/conda-bld/pytorch_1607370116979/work/c10/cuda/CUDAFunctions.cpp:100.)\n",
      "  return torch._C._cuda_getDeviceCount() > 0\n"
     ]
    }
   ],
   "source": [
    "# from torch.nn import Softsign, ReLU\n",
    "ppo_params ={'n_steps': 256, \n",
    "             'ent_coef': 0.0, \n",
    "             'learning_rate': 0.000005, \n",
    "             'batch_size': 256, \n",
    "            'gamma': 0.99}\n",
    "\n",
    "policy_kwargs = {\n",
    "#     \"activation_fn\": ReLU,\n",
    "    \"net_arch\": [1024 for _ in range(10)], \n",
    "#     \"squash_output\": True\n",
    "}\n",
    "\n",
    "model = agent.get_model(\"ppo\",  \n",
    "                        model_kwargs = ppo_params, \n",
    "                        policy_kwargs = policy_kwargs, verbose = 0)\n",
    "\n",
    "# model = model.load(\"scaling_reward.model\", env = env_train)"
   ]
  },
  {
   "cell_type": "code",
   "execution_count": null,
   "metadata": {
    "colab": {
     "base_uri": "https://localhost:8080/"
    },
    "id": "Tict0CAZf2vF",
    "outputId": "cd031fe9-3488-47d3-8805-5e5719fc2f73"
   },
   "outputs": [
    {
     "name": "stderr",
     "output_type": "stream",
     "text": [
      "/opt/conda/lib/python3.6/site-packages/stable_baselines3/common/callbacks.py:327: UserWarning: Training and eval env are not of the same type<stable_baselines3.common.vec_env.subproc_vec_env.SubprocVecEnv object at 0x7f091aa59b70> != <stable_baselines3.common.vec_env.dummy_vec_env.DummyVecEnv object at 0x7f08e3a91320>\n",
      "  warnings.warn(\"Training and eval env are not of the same type\" f\"{self.training_env} != {self.eval_env}\")\n",
      "/opt/conda/lib/python3.6/site-packages/stable_baselines3/common/evaluation.py:69: UserWarning: Evaluation environment is not wrapped with a ``Monitor`` wrapper. This may result in reporting modified episode lengths and rewards, if other wrappers happen to modify these. Consider wrapping environment first with ``Monitor`` wrapper.\n",
      "  UserWarning,\n"
     ]
    },
    {
     "name": "stdout",
     "output_type": "stream",
     "text": [
      "EPISODE|STEPS|TERMINAL_REASON|CASH           |TOT_ASSETS     |TERMINAL_REWARD_unsc|GAINLOSS_PCT|CASH_PROPORTION\n"
     ]
    },
    {
     "name": "stderr",
     "output_type": "stream",
     "text": [
      "Exception in thread Thread-4:\n",
      "Traceback (most recent call last):\n",
      "  File \"/opt/conda/lib/python3.6/threading.py\", line 916, in _bootstrap_inner\n",
      "    self.run()\n",
      "  File \"/opt/conda/lib/python3.6/site-packages/tensorboard/summary/writer/event_file_writer.py\", line 238, in run\n",
      "    self._record_writer.write(data)\n",
      "  File \"/opt/conda/lib/python3.6/site-packages/tensorboard/summary/writer/record_writer.py\", line 40, in write\n",
      "    self._writer.write(header + header_crc + data + footer_crc)\n",
      "  File \"/opt/conda/lib/python3.6/site-packages/tensorboard/compat/tensorflow_stub/io/gfile.py\", line 531, in write\n",
      "    self.fs.append(self.filename, file_content, self.binary_mode)\n",
      "  File \"/opt/conda/lib/python3.6/site-packages/tensorboard/compat/tensorflow_stub/io/gfile.py\", line 154, in append\n",
      "    self._write(filename, file_content, \"ab\" if binary_mode else \"a\")\n",
      "  File \"/opt/conda/lib/python3.6/site-packages/tensorboard/compat/tensorflow_stub/io/gfile.py\", line 158, in _write\n",
      "    with io.open(filename, mode, encoding=encoding) as f:\n",
      "FileNotFoundError: [Errno 2] No such file or directory: b'tensorboard_log/ppo/env_cashpenalty_highlr_1/events.out.tfevents.1619422725.55a9db210b06.818.0'\n",
      "\n"
     ]
    }
   ],
   "source": [
    "model.learn(total_timesteps = 30000, \n",
    "            eval_env = env_trade, \n",
    "            eval_freq = 500,\n",
    "            log_interval = 1, \n",
    "            tb_log_name = 'env_cashpenalty_highlr',\n",
    "            n_eval_episodes = 1)   "
   ]
  },
  {
   "cell_type": "code",
   "execution_count": null,
   "metadata": {
    "id": "MbiiiObKGBsV"
   },
   "outputs": [],
   "source": [
    "model.save(\"scaling_reward.model\")"
   ]
  },
  {
   "cell_type": "markdown",
   "metadata": {
    "id": "xJd8ZIEXibtL"
   },
   "source": [
    "## 6、测试"
   ]
  },
  {
   "cell_type": "code",
   "execution_count": null,
   "metadata": {
    "id": "uNlCCDXDibK7"
   },
   "outputs": [],
   "source": [
    "df_account_value, df_actions = DRL_prediction(\n",
    "    model=model, \n",
    "    environment = e_trade_gym)"
   ]
  },
  {
   "cell_type": "code",
   "execution_count": null,
   "metadata": {
    "colab": {
     "base_uri": "https://localhost:8080/"
    },
    "id": "FmjLZCsc1_wi",
    "outputId": "f3dd745a-66fe-478c-9d33-ca72da5c2f61"
   },
   "outputs": [
    {
     "name": "stdout",
     "output_type": "stream",
     "text": [
      "回测的时间窗口：2019-01-01 至 2021-01-01\n"
     ]
    }
   ],
   "source": [
    "print(\"回测的时间窗口：{} 至 {}\".format(config.End_Trade_Date, config.End_Test_Date))"
   ]
  },
  {
   "cell_type": "code",
   "execution_count": null,
   "metadata": {
    "id": "tCc9lr4wi8ag"
   },
   "outputs": [],
   "source": [
    "df_account_value.to_csv(\"df_account_value.csv\", index=False)\n",
    "print(\"查看日账户净值\")\n",
    "print(\"开始: \")\n",
    "print(df_account_value.head())\n",
    "print(\"\")\n",
    "print(\"结束: \")\n",
    "print(df_account_value.tail())"
   ]
  },
  {
   "cell_type": "code",
   "execution_count": null,
   "metadata": {
    "id": "n-m0wzTsi-7U"
   },
   "outputs": [],
   "source": [
    "print(\"查看每日所作的交易\")\n",
    "df_actions.to_csv(\"df_actions.csv\", index=False)\n",
    "df_actions.tail()"
   ]
  },
  {
   "cell_type": "markdown",
   "metadata": {
    "id": "y7nKxnGijDMT"
   },
   "source": [
    "## 7、回测"
   ]
  },
  {
   "cell_type": "code",
   "execution_count": null,
   "metadata": {
    "id": "4AB3Za7ujCyT"
   },
   "outputs": [],
   "source": [
    "print(\"---------------------获取回测结果---------------------\")\n",
    "pref_stats_all = backtest_stats(account_value=df_account_value)\n",
    "\n",
    "# perf_stats_all = pd.DataFrame(perf_stats_all)\n",
    "# now = datetime.datetime.now().strftime('%Y%m%d-%Hh%M')\n",
    "# perf_stats_all.to_csv(\"./\"+config.RESULTS_DIR+\"/perf_stats_all_\"+now+'.csv')"
   ]
  },
  {
   "cell_type": "code",
   "execution_count": null,
   "metadata": {
    "id": "Y8xHNlpxkS3Y"
   },
   "outputs": [],
   "source": [
    "# 获取 baseline 的结果\n",
    "print(\"---------------------获取baseline结果---------------------\")\n",
    "baseline_df = get_baseline(config.SSE_50_INDEX, \n",
    "              start=\"20190101\",\n",
    "              end=\"20210101\")\n",
    "baseline_stats = backtest_stats(baseline_df, value_col_name='close')"
   ]
  },
  {
   "cell_type": "code",
   "execution_count": null,
   "metadata": {
    "id": "3rxEGprCZNlQ"
   },
   "outputs": [],
   "source": [
    "# 删除 df_account_value 中重复的行\n",
    "df_account_value.drop(df_account_value.index[1], inplace=True)"
   ]
  },
  {
   "cell_type": "code",
   "execution_count": null,
   "metadata": {
    "id": "QuZ4lYXPXjmG"
   },
   "outputs": [],
   "source": [
    "baseline_df.head(10)"
   ]
  },
  {
   "cell_type": "code",
   "execution_count": null,
   "metadata": {
    "id": "PZOihmmakVrh"
   },
   "outputs": [],
   "source": [
    "print(\"---------------------Plot---------------------\")\n",
    "print(\"和 {} 指数进行比较\".format(config.SSE_50_INDEX[0]))\n",
    "%matplotlib inline\n",
    "backtest_plot(df_account_value,\n",
    "        baseline_start=\"20190101\",\n",
    "        baseline_end=\"20210101\",\n",
    "        baseline_ticker=config.SSE_50_INDEX,\n",
    "      )"
   ]
  },
  {
   "cell_type": "code",
   "execution_count": null,
   "metadata": {
    "id": "VmTn_np4uf7U"
   },
   "outputs": [],
   "source": []
  }
 ],
 "metadata": {
  "colab": {
   "collapsed_sections": [],
   "name": "RL_in_Finance_Test_Cash_Penalty(Docker).ipynb",
   "provenance": [],
   "toc_visible": true
  },
  "kernelspec": {
   "name": "python376jvsc74a57bd02ef65132be962c0ed6fc06b9503d85c8457d6bb9b861cc7514768ac0f567641f",
   "display_name": "Python 3.7.6 64-bit (conda)"
  },
  "language_info": {
   "codemirror_mode": {
    "name": "ipython",
    "version": 3
   },
   "file_extension": ".py",
   "mimetype": "text/x-python",
   "name": "python",
   "nbconvert_exporter": "python",
   "pygments_lexer": "ipython3",
   "version": "3.7.6"
  }
 },
 "nbformat": 4,
 "nbformat_minor": 4
}