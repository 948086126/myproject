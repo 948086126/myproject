{
  "nbformat": 4,
  "nbformat_minor": 0,
  "metadata": {
    "colab": {
      "name": "RL_in_Finance_Test_Cash_Penalty(Docker).ipynb",
      "provenance": [],
      "collapsed_sections": [],
      "toc_visible": true
    },
    "kernelspec": {
      "display_name": "Python 3",
      "name": "python3"
    },
    "language_info": {
      "name": "python"
    }
  },
  "cells": [
    {
      "cell_type": "markdown",
      "metadata": {
        "id": "SV3q7SkbYyPH"
      },
      "source": [
        "# RL in Finance(Test Cash Penalty) \n",
        "[![Open In Colab](https://colab.research.google.com/assets/colab-badge.svg)](https://colab.research.google.com/github/sunnyswag/RL_in_Finance/blob/main/RL_in_Finance_Test_cash_penalty.ipynb)"
      ]
    },
    {
      "cell_type": "markdown",
      "metadata": {
        "id": "W67Itu99Vu2G"
      },
      "source": [
        "## 1、拉取 github 仓库，下载并导入相关包\n",
        "&emsp;&emsp;运行流程：python setup.py -> pip install -r requirements.txt"
      ]
    },
    {
      "cell_type": "code",
      "metadata": {
        "colab": {
          "base_uri": "https://localhost:8080/"
        },
        "id": "Xxc9y_D5T2a0",
        "outputId": "81da4e71-6891-41f1-beaf-df508283690d"
      },
      "source": [
        "import pandas as pd\n",
        "import numpy as np\n",
        "import matplotlib\n",
        "import matplotlib.pyplot as plt\n",
        "import datetime\n",
        "import time\n",
        "\n",
        "%matplotlib inline\n",
        "from utils import config\n",
        "from utils.pull_data import Pull_data\n",
        "from utils.preprocessors import FeatureEngineer, split_data\n",
        "from utils.env_cash_penalty import StockTradingEnvCashpenalty\n",
        "from utils.models import DRL_Agent\n",
        "from utils.backtest import backtest_stats, backtest_plot, get_baseline\n",
        "import itertools\n",
        "import sys\n",
        "sys.path.append(\"../RL_in_Finance\")"
      ],
      "execution_count": 2,
      "outputs": [
        {
          "output_type": "stream",
          "text": [
            "/usr/local/lib/python3.7/dist-packages/pyfolio/pos.py:27: UserWarning: Module \"zipline.assets\" not found; multipliers will not be applied to position notionals.\n",
            "  'Module \"zipline.assets\" not found; multipliers will not be applied'\n"
          ],
          "name": "stderr"
        }
      ]
    },
    {
      "cell_type": "markdown",
      "metadata": {
        "id": "jHv-tOOOWFG3"
      },
      "source": [
        "## 2、下载数据"
      ]
    },
    {
      "cell_type": "markdown",
      "metadata": {
        "id": "btxVNBzYvV21"
      },
      "source": [
        "数据来源：Tushare API<br>\n",
        "当前用到的数据：SSE_50 和 CSI_300<br>\n",
        "数据量的大小：shape[2892 * n, 8]"
      ]
    },
    {
      "cell_type": "code",
      "metadata": {
        "colab": {
          "base_uri": "https://localhost:8080/"
        },
        "id": "QnxCFcpvXdaI",
        "outputId": "65776e4a-c855-4ce0-ad07-0e7ebf3e6631"
      },
      "source": [
        "stock_list = config.SSE_50\n",
        "df = Pull_data(stock_list, save_data=False).pull_data()"
      ],
      "execution_count": 3,
      "outputs": [
        {
          "output_type": "stream",
          "text": [
            "--- 开始下载 ----\n",
            "下载进度 : 20.0%\n",
            "下载进度 : 40.0%\n",
            "下载进度 : 60.0%\n",
            "下载进度 : 80.0%\n",
            "下载进度 : 100.0%\n",
            "--- 下载完成 ----\n",
            "DataFrame 的大小:  (114845, 8)\n"
          ],
          "name": "stdout"
        }
      ]
    },
    {
      "cell_type": "code",
      "metadata": {
        "colab": {
          "base_uri": "https://localhost:8080/",
          "height": 202
        },
        "id": "UqmzIFv9Xjq_",
        "outputId": "522b3fbf-47f3-42c6-ae05-07dacb300263"
      },
      "source": [
        "df.sort_values(['date', 'tic'], ignore_index=True).head()"
      ],
      "execution_count": 4,
      "outputs": [
        {
          "output_type": "execute_result",
          "data": {
            "text/html": [
              "<div>\n",
              "<style scoped>\n",
              "    .dataframe tbody tr th:only-of-type {\n",
              "        vertical-align: middle;\n",
              "    }\n",
              "\n",
              "    .dataframe tbody tr th {\n",
              "        vertical-align: top;\n",
              "    }\n",
              "\n",
              "    .dataframe thead th {\n",
              "        text-align: right;\n",
              "    }\n",
              "</style>\n",
              "<table border=\"1\" class=\"dataframe\">\n",
              "  <thead>\n",
              "    <tr style=\"text-align: right;\">\n",
              "      <th></th>\n",
              "      <th>date</th>\n",
              "      <th>tic</th>\n",
              "      <th>open</th>\n",
              "      <th>high</th>\n",
              "      <th>low</th>\n",
              "      <th>close</th>\n",
              "      <th>volume</th>\n",
              "      <th>day</th>\n",
              "    </tr>\n",
              "  </thead>\n",
              "  <tbody>\n",
              "    <tr>\n",
              "      <th>0</th>\n",
              "      <td>2009-01-05</td>\n",
              "      <td>600000.SH</td>\n",
              "      <td>2.7584</td>\n",
              "      <td>2.8115</td>\n",
              "      <td>2.7258</td>\n",
              "      <td>2.8013</td>\n",
              "      <td>503142.56</td>\n",
              "      <td>0</td>\n",
              "    </tr>\n",
              "    <tr>\n",
              "      <th>1</th>\n",
              "      <td>2009-01-05</td>\n",
              "      <td>600009.SH</td>\n",
              "      <td>9.4665</td>\n",
              "      <td>9.6505</td>\n",
              "      <td>9.4414</td>\n",
              "      <td>9.5836</td>\n",
              "      <td>52100.33</td>\n",
              "      <td>0</td>\n",
              "    </tr>\n",
              "    <tr>\n",
              "      <th>2</th>\n",
              "      <td>2009-01-05</td>\n",
              "      <td>600016.SH</td>\n",
              "      <td>1.6369</td>\n",
              "      <td>1.6487</td>\n",
              "      <td>1.6170</td>\n",
              "      <td>1.6448</td>\n",
              "      <td>947739.82</td>\n",
              "      <td>0</td>\n",
              "    </tr>\n",
              "    <tr>\n",
              "      <th>3</th>\n",
              "      <td>2009-01-05</td>\n",
              "      <td>600028.SH</td>\n",
              "      <td>3.1966</td>\n",
              "      <td>3.2461</td>\n",
              "      <td>3.1786</td>\n",
              "      <td>3.2371</td>\n",
              "      <td>361085.66</td>\n",
              "      <td>0</td>\n",
              "    </tr>\n",
              "    <tr>\n",
              "      <th>4</th>\n",
              "      <td>2009-01-05</td>\n",
              "      <td>600030.SH</td>\n",
              "      <td>9.2667</td>\n",
              "      <td>9.5705</td>\n",
              "      <td>9.1654</td>\n",
              "      <td>9.5502</td>\n",
              "      <td>818978.41</td>\n",
              "      <td>0</td>\n",
              "    </tr>\n",
              "  </tbody>\n",
              "</table>\n",
              "</div>"
            ],
            "text/plain": [
              "         date        tic    open    high     low   close     volume  day\n",
              "0  2009-01-05  600000.SH  2.7584  2.8115  2.7258  2.8013  503142.56    0\n",
              "1  2009-01-05  600009.SH  9.4665  9.6505  9.4414  9.5836   52100.33    0\n",
              "2  2009-01-05  600016.SH  1.6369  1.6487  1.6170  1.6448  947739.82    0\n",
              "3  2009-01-05  600028.SH  3.1966  3.2461  3.1786  3.2371  361085.66    0\n",
              "4  2009-01-05  600030.SH  9.2667  9.5705  9.1654  9.5502  818978.41    0"
            ]
          },
          "metadata": {
            "tags": []
          },
          "execution_count": 4
        }
      ]
    },
    {
      "cell_type": "code",
      "metadata": {
        "colab": {
          "base_uri": "https://localhost:8080/"
        },
        "id": "nmVukaFnWgAe",
        "outputId": "2d612f84-65dc-4a81-8e4b-f3b3be49854f"
      },
      "source": [
        "print(\"数据下载的时间区间为：{} 至 {}\".format(config.Start_Date, config.End_Date))"
      ],
      "execution_count": 5,
      "outputs": [
        {
          "output_type": "stream",
          "text": [
            "数据下载的时间区间为：20090101 至 20210101\n"
          ],
          "name": "stdout"
        }
      ]
    },
    {
      "cell_type": "code",
      "metadata": {
        "colab": {
          "base_uri": "https://localhost:8080/"
        },
        "id": "bBIe5VuwXLY_",
        "outputId": "4bb36f27-aa42-42aa-8283-4253f1c7ee05"
      },
      "source": [
        "print(\"下载的股票列表为: \")\n",
        "print(stock_list)"
      ],
      "execution_count": 6,
      "outputs": [
        {
          "output_type": "stream",
          "text": [
            "下载的股票列表为: \n",
            "['600000.SH', '600009.SH', '600016.SH', '600028.SH', '600030.SH', '600031.SH', '600036.SH', '600048.SH', '600050.SH', '600104.SH', '600196.SH', '600276.SH', '600309.SH', '600519.SH', '600547.SH', '600570.SH', '600585.SH', '600588.SH', '600690.SH', '600703.SH', '600745.SH', '600837.SH', '600887.SH', '600918.SH', '601012.SH', '601066.SH', '601088.SH', '601138.SH', '601166.SH', '601186.SH', '601211.SH', '601236.SH', '601288.SH', '601318.SH', '601319.SH', '601336.SH', '601398.SH', '601601.SH', '601628.SH', '601668.SH', '601688.SH', '601816.SH', '601818.SH', '601857.SH', '601888.SH', '603160.SH', '603259.SH', '603288.SH', '603501.SH', '603986.SH']\n"
          ],
          "name": "stdout"
        }
      ]
    },
    {
      "cell_type": "markdown",
      "metadata": {
        "id": "6EI_Q4pOW_FG"
      },
      "source": [
        "## 3、数据预处理"
      ]
    },
    {
      "cell_type": "code",
      "metadata": {
        "colab": {
          "base_uri": "https://localhost:8080/"
        },
        "id": "9VY5MQ_kUVpz",
        "outputId": "a7547759-d109-4bd2-9192-843c80b4e640"
      },
      "source": [
        "processed_df = FeatureEngineer(use_technical_indicator=True).preprocess_data(df)\n",
        "processed['log_volume'] = np.log(processed.volume*processed.close)\n",
        "processed['change'] = (processed.close-processed.open)/processed.close\n",
        "processed['daily_variance'] = (processed.high-processed.low)/processed.close"
      ],
      "execution_count": 7,
      "outputs": [
        {
          "output_type": "stream",
          "text": [
            "成功添加技术指标\n",
            "对当前时间段未上市的公司的所有行置零\n"
          ],
          "name": "stdout"
        }
      ]
    },
    {
      "cell_type": "code",
      "metadata": {
        "colab": {
          "base_uri": "https://localhost:8080/"
        },
        "id": "Cm_Z8uytXIVv",
        "outputId": "36db3532-36d4-4ce0-fc65-88da050f73da"
      },
      "source": [
        "print(\"技术指标列表: \")\n",
        "print(config.TECHNICAL_INDICATORS_LIST)\n",
        "print(\"技术指标数: {}个\".format(len(config.TECHNICAL_INDICATORS_LIST)))"
      ],
      "execution_count": 9,
      "outputs": [
        {
          "output_type": "stream",
          "text": [
            "技术指标列表: \n",
            "['boll_ub', 'boll_lb', 'rsi_30', 'cci_30', 'dx_30', 'macd', 'volume_20_sma', 'volume_60_sma', 'volume_120_sma', 'close_20_sma', 'close_60_sma', 'close_120_sma']\n",
            "技术指标数: 12个\n"
          ],
          "name": "stdout"
        }
      ]
    },
    {
      "cell_type": "code",
      "metadata": {
        "colab": {
          "base_uri": "https://localhost:8080/",
          "height": 309
        },
        "id": "e4wNTZBWYyZK",
        "outputId": "adb8de06-8330-42be-b367-33d1fb2eeee5"
      },
      "source": [
        "processed_df.head()"
      ],
      "execution_count": 8,
      "outputs": [
        {
          "output_type": "execute_result",
          "data": {
            "text/html": [
              "<div>\n",
              "<style scoped>\n",
              "    .dataframe tbody tr th:only-of-type {\n",
              "        vertical-align: middle;\n",
              "    }\n",
              "\n",
              "    .dataframe tbody tr th {\n",
              "        vertical-align: top;\n",
              "    }\n",
              "\n",
              "    .dataframe thead th {\n",
              "        text-align: right;\n",
              "    }\n",
              "</style>\n",
              "<table border=\"1\" class=\"dataframe\">\n",
              "  <thead>\n",
              "    <tr style=\"text-align: right;\">\n",
              "      <th></th>\n",
              "      <th>date</th>\n",
              "      <th>tic</th>\n",
              "      <th>open</th>\n",
              "      <th>high</th>\n",
              "      <th>low</th>\n",
              "      <th>close</th>\n",
              "      <th>volume</th>\n",
              "      <th>day</th>\n",
              "      <th>boll_ub</th>\n",
              "      <th>boll_lb</th>\n",
              "      <th>rsi_30</th>\n",
              "      <th>cci_30</th>\n",
              "      <th>dx_30</th>\n",
              "      <th>macd</th>\n",
              "      <th>volume_20_sma</th>\n",
              "      <th>volume_60_sma</th>\n",
              "      <th>volume_120_sma</th>\n",
              "      <th>close_20_sma</th>\n",
              "      <th>close_60_sma</th>\n",
              "      <th>close_120_sma</th>\n",
              "    </tr>\n",
              "  </thead>\n",
              "  <tbody>\n",
              "    <tr>\n",
              "      <th>0</th>\n",
              "      <td>2009-01-05</td>\n",
              "      <td>600000.SH</td>\n",
              "      <td>2.7584</td>\n",
              "      <td>2.8115</td>\n",
              "      <td>2.7258</td>\n",
              "      <td>2.8013</td>\n",
              "      <td>503142.56</td>\n",
              "      <td>0.0</td>\n",
              "      <td>0.0</td>\n",
              "      <td>0.0</td>\n",
              "      <td>0.0</td>\n",
              "      <td>0.0</td>\n",
              "      <td>0.0</td>\n",
              "      <td>0.0</td>\n",
              "      <td>503142.56</td>\n",
              "      <td>503142.56</td>\n",
              "      <td>503142.56</td>\n",
              "      <td>2.8013</td>\n",
              "      <td>2.8013</td>\n",
              "      <td>2.8013</td>\n",
              "    </tr>\n",
              "    <tr>\n",
              "      <th>1</th>\n",
              "      <td>2009-01-05</td>\n",
              "      <td>600009.SH</td>\n",
              "      <td>9.4665</td>\n",
              "      <td>9.6505</td>\n",
              "      <td>9.4414</td>\n",
              "      <td>9.5836</td>\n",
              "      <td>52100.33</td>\n",
              "      <td>0.0</td>\n",
              "      <td>0.0</td>\n",
              "      <td>0.0</td>\n",
              "      <td>0.0</td>\n",
              "      <td>0.0</td>\n",
              "      <td>0.0</td>\n",
              "      <td>0.0</td>\n",
              "      <td>52100.33</td>\n",
              "      <td>52100.33</td>\n",
              "      <td>52100.33</td>\n",
              "      <td>9.5836</td>\n",
              "      <td>9.5836</td>\n",
              "      <td>9.5836</td>\n",
              "    </tr>\n",
              "    <tr>\n",
              "      <th>2</th>\n",
              "      <td>2009-01-05</td>\n",
              "      <td>600016.SH</td>\n",
              "      <td>1.6369</td>\n",
              "      <td>1.6487</td>\n",
              "      <td>1.6170</td>\n",
              "      <td>1.6448</td>\n",
              "      <td>947739.82</td>\n",
              "      <td>0.0</td>\n",
              "      <td>0.0</td>\n",
              "      <td>0.0</td>\n",
              "      <td>0.0</td>\n",
              "      <td>0.0</td>\n",
              "      <td>0.0</td>\n",
              "      <td>0.0</td>\n",
              "      <td>947739.82</td>\n",
              "      <td>947739.82</td>\n",
              "      <td>947739.82</td>\n",
              "      <td>1.6448</td>\n",
              "      <td>1.6448</td>\n",
              "      <td>1.6448</td>\n",
              "    </tr>\n",
              "    <tr>\n",
              "      <th>3</th>\n",
              "      <td>2009-01-05</td>\n",
              "      <td>600028.SH</td>\n",
              "      <td>3.1966</td>\n",
              "      <td>3.2461</td>\n",
              "      <td>3.1786</td>\n",
              "      <td>3.2371</td>\n",
              "      <td>361085.66</td>\n",
              "      <td>0.0</td>\n",
              "      <td>0.0</td>\n",
              "      <td>0.0</td>\n",
              "      <td>0.0</td>\n",
              "      <td>0.0</td>\n",
              "      <td>0.0</td>\n",
              "      <td>0.0</td>\n",
              "      <td>361085.66</td>\n",
              "      <td>361085.66</td>\n",
              "      <td>361085.66</td>\n",
              "      <td>3.2371</td>\n",
              "      <td>3.2371</td>\n",
              "      <td>3.2371</td>\n",
              "    </tr>\n",
              "    <tr>\n",
              "      <th>4</th>\n",
              "      <td>2009-01-05</td>\n",
              "      <td>600030.SH</td>\n",
              "      <td>9.2667</td>\n",
              "      <td>9.5705</td>\n",
              "      <td>9.1654</td>\n",
              "      <td>9.5502</td>\n",
              "      <td>818978.41</td>\n",
              "      <td>0.0</td>\n",
              "      <td>0.0</td>\n",
              "      <td>0.0</td>\n",
              "      <td>0.0</td>\n",
              "      <td>0.0</td>\n",
              "      <td>0.0</td>\n",
              "      <td>0.0</td>\n",
              "      <td>818978.41</td>\n",
              "      <td>818978.41</td>\n",
              "      <td>818978.41</td>\n",
              "      <td>9.5502</td>\n",
              "      <td>9.5502</td>\n",
              "      <td>9.5502</td>\n",
              "    </tr>\n",
              "  </tbody>\n",
              "</table>\n",
              "</div>"
            ],
            "text/plain": [
              "         date        tic    open  ...  close_20_sma  close_60_sma  close_120_sma\n",
              "0  2009-01-05  600000.SH  2.7584  ...        2.8013        2.8013         2.8013\n",
              "1  2009-01-05  600009.SH  9.4665  ...        9.5836        9.5836         9.5836\n",
              "2  2009-01-05  600016.SH  1.6369  ...        1.6448        1.6448         1.6448\n",
              "3  2009-01-05  600028.SH  3.1966  ...        3.2371        3.2371         3.2371\n",
              "4  2009-01-05  600030.SH  9.2667  ...        9.5502        9.5502         9.5502\n",
              "\n",
              "[5 rows x 20 columns]"
            ]
          },
          "metadata": {
            "tags": []
          },
          "execution_count": 8
        }
      ]
    },
    {
      "cell_type": "code",
      "metadata": {
        "id": "uDHoMhRsY-6H"
      },
      "source": [
        "train_data = split_data(processed_df, config.Start_Trade_Date, config.End_Trade_Date)\n",
        "test_data = split_data(processed_df, config.End_Trade_Date, config.End_Test_Date)"
      ],
      "execution_count": 10,
      "outputs": []
    },
    {
      "cell_type": "code",
      "metadata": {
        "colab": {
          "base_uri": "https://localhost:8080/"
        },
        "id": "WoPNyYr4ZxD2",
        "outputId": "1fac98f2-471c-4ceb-8fcd-69a25cdc0e46"
      },
      "source": [
        "print(\"训练数据的范围：{} 至 {}\".format(config.Start_Trade_Date, config.End_Trade_Date))\n",
        "print(\"测试数据的范围：{} 至 {}\".format(config.End_Trade_Date, config.End_Test_Date))\n",
        "print(\"训练数据的长度: {},测试数据的长度:{}\".format(len(train_data), len(test_data)))\n",
        "print(\"训练集数据 : 测试集数据: {} : {}\".format(round(len(train_data)/len(test_data),1), 1))"
      ],
      "execution_count": 11,
      "outputs": [
        {
          "output_type": "stream",
          "text": [
            "训练数据的范围：2009-01-01 至 2019-01-01\n",
            "测试数据的范围：2019-01-01 至 2021-01-01\n",
            "训练数据的长度: 121550,测试数据的长度:24350\n",
            "训练集数据 : 测试集数据: 5.0 : 1\n"
          ],
          "name": "stdout"
        }
      ]
    },
    {
      "cell_type": "code",
      "metadata": {
        "colab": {
          "base_uri": "https://localhost:8080/",
          "height": 309
        },
        "id": "BPny-EJbaS_S",
        "outputId": "eee3a7bd-fb65-4313-b7f4-08c2d01423d8"
      },
      "source": [
        "train_data.head()"
      ],
      "execution_count": 12,
      "outputs": [
        {
          "output_type": "execute_result",
          "data": {
            "text/html": [
              "<div>\n",
              "<style scoped>\n",
              "    .dataframe tbody tr th:only-of-type {\n",
              "        vertical-align: middle;\n",
              "    }\n",
              "\n",
              "    .dataframe tbody tr th {\n",
              "        vertical-align: top;\n",
              "    }\n",
              "\n",
              "    .dataframe thead th {\n",
              "        text-align: right;\n",
              "    }\n",
              "</style>\n",
              "<table border=\"1\" class=\"dataframe\">\n",
              "  <thead>\n",
              "    <tr style=\"text-align: right;\">\n",
              "      <th></th>\n",
              "      <th>date</th>\n",
              "      <th>tic</th>\n",
              "      <th>open</th>\n",
              "      <th>high</th>\n",
              "      <th>low</th>\n",
              "      <th>close</th>\n",
              "      <th>volume</th>\n",
              "      <th>day</th>\n",
              "      <th>boll_ub</th>\n",
              "      <th>boll_lb</th>\n",
              "      <th>rsi_30</th>\n",
              "      <th>cci_30</th>\n",
              "      <th>dx_30</th>\n",
              "      <th>macd</th>\n",
              "      <th>volume_20_sma</th>\n",
              "      <th>volume_60_sma</th>\n",
              "      <th>volume_120_sma</th>\n",
              "      <th>close_20_sma</th>\n",
              "      <th>close_60_sma</th>\n",
              "      <th>close_120_sma</th>\n",
              "    </tr>\n",
              "  </thead>\n",
              "  <tbody>\n",
              "    <tr>\n",
              "      <th>0</th>\n",
              "      <td>2009-01-05</td>\n",
              "      <td>600000.SH</td>\n",
              "      <td>2.7584</td>\n",
              "      <td>2.8115</td>\n",
              "      <td>2.7258</td>\n",
              "      <td>2.8013</td>\n",
              "      <td>503142.56</td>\n",
              "      <td>0.0</td>\n",
              "      <td>0.0</td>\n",
              "      <td>0.0</td>\n",
              "      <td>0.0</td>\n",
              "      <td>0.0</td>\n",
              "      <td>0.0</td>\n",
              "      <td>0.0</td>\n",
              "      <td>503142.56</td>\n",
              "      <td>503142.56</td>\n",
              "      <td>503142.56</td>\n",
              "      <td>2.8013</td>\n",
              "      <td>2.8013</td>\n",
              "      <td>2.8013</td>\n",
              "    </tr>\n",
              "    <tr>\n",
              "      <th>0</th>\n",
              "      <td>2009-01-05</td>\n",
              "      <td>600009.SH</td>\n",
              "      <td>9.4665</td>\n",
              "      <td>9.6505</td>\n",
              "      <td>9.4414</td>\n",
              "      <td>9.5836</td>\n",
              "      <td>52100.33</td>\n",
              "      <td>0.0</td>\n",
              "      <td>0.0</td>\n",
              "      <td>0.0</td>\n",
              "      <td>0.0</td>\n",
              "      <td>0.0</td>\n",
              "      <td>0.0</td>\n",
              "      <td>0.0</td>\n",
              "      <td>52100.33</td>\n",
              "      <td>52100.33</td>\n",
              "      <td>52100.33</td>\n",
              "      <td>9.5836</td>\n",
              "      <td>9.5836</td>\n",
              "      <td>9.5836</td>\n",
              "    </tr>\n",
              "    <tr>\n",
              "      <th>0</th>\n",
              "      <td>2009-01-05</td>\n",
              "      <td>600016.SH</td>\n",
              "      <td>1.6369</td>\n",
              "      <td>1.6487</td>\n",
              "      <td>1.6170</td>\n",
              "      <td>1.6448</td>\n",
              "      <td>947739.82</td>\n",
              "      <td>0.0</td>\n",
              "      <td>0.0</td>\n",
              "      <td>0.0</td>\n",
              "      <td>0.0</td>\n",
              "      <td>0.0</td>\n",
              "      <td>0.0</td>\n",
              "      <td>0.0</td>\n",
              "      <td>947739.82</td>\n",
              "      <td>947739.82</td>\n",
              "      <td>947739.82</td>\n",
              "      <td>1.6448</td>\n",
              "      <td>1.6448</td>\n",
              "      <td>1.6448</td>\n",
              "    </tr>\n",
              "    <tr>\n",
              "      <th>0</th>\n",
              "      <td>2009-01-05</td>\n",
              "      <td>600028.SH</td>\n",
              "      <td>3.1966</td>\n",
              "      <td>3.2461</td>\n",
              "      <td>3.1786</td>\n",
              "      <td>3.2371</td>\n",
              "      <td>361085.66</td>\n",
              "      <td>0.0</td>\n",
              "      <td>0.0</td>\n",
              "      <td>0.0</td>\n",
              "      <td>0.0</td>\n",
              "      <td>0.0</td>\n",
              "      <td>0.0</td>\n",
              "      <td>0.0</td>\n",
              "      <td>361085.66</td>\n",
              "      <td>361085.66</td>\n",
              "      <td>361085.66</td>\n",
              "      <td>3.2371</td>\n",
              "      <td>3.2371</td>\n",
              "      <td>3.2371</td>\n",
              "    </tr>\n",
              "    <tr>\n",
              "      <th>0</th>\n",
              "      <td>2009-01-05</td>\n",
              "      <td>600030.SH</td>\n",
              "      <td>9.2667</td>\n",
              "      <td>9.5705</td>\n",
              "      <td>9.1654</td>\n",
              "      <td>9.5502</td>\n",
              "      <td>818978.41</td>\n",
              "      <td>0.0</td>\n",
              "      <td>0.0</td>\n",
              "      <td>0.0</td>\n",
              "      <td>0.0</td>\n",
              "      <td>0.0</td>\n",
              "      <td>0.0</td>\n",
              "      <td>0.0</td>\n",
              "      <td>818978.41</td>\n",
              "      <td>818978.41</td>\n",
              "      <td>818978.41</td>\n",
              "      <td>9.5502</td>\n",
              "      <td>9.5502</td>\n",
              "      <td>9.5502</td>\n",
              "    </tr>\n",
              "  </tbody>\n",
              "</table>\n",
              "</div>"
            ],
            "text/plain": [
              "         date        tic    open  ...  close_20_sma  close_60_sma  close_120_sma\n",
              "0  2009-01-05  600000.SH  2.7584  ...        2.8013        2.8013         2.8013\n",
              "0  2009-01-05  600009.SH  9.4665  ...        9.5836        9.5836         9.5836\n",
              "0  2009-01-05  600016.SH  1.6369  ...        1.6448        1.6448         1.6448\n",
              "0  2009-01-05  600028.SH  3.1966  ...        3.2371        3.2371         3.2371\n",
              "0  2009-01-05  600030.SH  9.2667  ...        9.5502        9.5502         9.5502\n",
              "\n",
              "[5 rows x 20 columns]"
            ]
          },
          "metadata": {
            "tags": []
          },
          "execution_count": 12
        }
      ]
    },
    {
      "cell_type": "code",
      "metadata": {
        "colab": {
          "base_uri": "https://localhost:8080/",
          "height": 309
        },
        "id": "SymPC9A86mNs",
        "outputId": "69a64322-b26a-4ff6-a658-ef7ce208e046"
      },
      "source": [
        "test_data.head()"
      ],
      "execution_count": 62,
      "outputs": [
        {
          "output_type": "execute_result",
          "data": {
            "text/html": [
              "<div>\n",
              "<style scoped>\n",
              "    .dataframe tbody tr th:only-of-type {\n",
              "        vertical-align: middle;\n",
              "    }\n",
              "\n",
              "    .dataframe tbody tr th {\n",
              "        vertical-align: top;\n",
              "    }\n",
              "\n",
              "    .dataframe thead th {\n",
              "        text-align: right;\n",
              "    }\n",
              "</style>\n",
              "<table border=\"1\" class=\"dataframe\">\n",
              "  <thead>\n",
              "    <tr style=\"text-align: right;\">\n",
              "      <th></th>\n",
              "      <th>date</th>\n",
              "      <th>tic</th>\n",
              "      <th>open</th>\n",
              "      <th>high</th>\n",
              "      <th>low</th>\n",
              "      <th>close</th>\n",
              "      <th>volume</th>\n",
              "      <th>day</th>\n",
              "      <th>boll_ub</th>\n",
              "      <th>boll_lb</th>\n",
              "      <th>rsi_30</th>\n",
              "      <th>cci_30</th>\n",
              "      <th>dx_30</th>\n",
              "      <th>macd</th>\n",
              "      <th>volume_20_sma</th>\n",
              "      <th>volume_60_sma</th>\n",
              "      <th>volume_120_sma</th>\n",
              "      <th>close_20_sma</th>\n",
              "      <th>close_60_sma</th>\n",
              "      <th>close_120_sma</th>\n",
              "    </tr>\n",
              "  </thead>\n",
              "  <tbody>\n",
              "    <tr>\n",
              "      <th>0</th>\n",
              "      <td>2019-01-02</td>\n",
              "      <td>600000.SH</td>\n",
              "      <td>8.9589</td>\n",
              "      <td>9.0049</td>\n",
              "      <td>8.8117</td>\n",
              "      <td>8.9221</td>\n",
              "      <td>237628.22</td>\n",
              "      <td>2.0</td>\n",
              "      <td>10.502893</td>\n",
              "      <td>8.657577</td>\n",
              "      <td>38.678270</td>\n",
              "      <td>-163.240518</td>\n",
              "      <td>47.438770</td>\n",
              "      <td>-0.251945</td>\n",
              "      <td>2.152395e+05</td>\n",
              "      <td>2.430301e+05</td>\n",
              "      <td>2.210339e+05</td>\n",
              "      <td>9.580235</td>\n",
              "      <td>9.716063</td>\n",
              "      <td>9.475849</td>\n",
              "    </tr>\n",
              "    <tr>\n",
              "      <th>0</th>\n",
              "      <td>2019-01-02</td>\n",
              "      <td>600009.SH</td>\n",
              "      <td>49.6941</td>\n",
              "      <td>49.8119</td>\n",
              "      <td>48.8298</td>\n",
              "      <td>49.4780</td>\n",
              "      <td>40051.97</td>\n",
              "      <td>2.0</td>\n",
              "      <td>51.140976</td>\n",
              "      <td>48.044854</td>\n",
              "      <td>48.417073</td>\n",
              "      <td>14.661155</td>\n",
              "      <td>15.197694</td>\n",
              "      <td>0.025528</td>\n",
              "      <td>3.263298e+04</td>\n",
              "      <td>5.353243e+04</td>\n",
              "      <td>5.799566e+04</td>\n",
              "      <td>49.592915</td>\n",
              "      <td>49.906370</td>\n",
              "      <td>53.102410</td>\n",
              "    </tr>\n",
              "    <tr>\n",
              "      <th>0</th>\n",
              "      <td>2019-01-02</td>\n",
              "      <td>600016.SH</td>\n",
              "      <td>5.0982</td>\n",
              "      <td>5.1071</td>\n",
              "      <td>5.0002</td>\n",
              "      <td>5.0358</td>\n",
              "      <td>579415.00</td>\n",
              "      <td>2.0</td>\n",
              "      <td>5.554261</td>\n",
              "      <td>4.922929</td>\n",
              "      <td>37.256908</td>\n",
              "      <td>-123.258937</td>\n",
              "      <td>50.542253</td>\n",
              "      <td>-0.108006</td>\n",
              "      <td>6.324888e+05</td>\n",
              "      <td>6.533327e+05</td>\n",
              "      <td>6.093035e+05</td>\n",
              "      <td>5.238595</td>\n",
              "      <td>5.419815</td>\n",
              "      <td>5.361655</td>\n",
              "    </tr>\n",
              "    <tr>\n",
              "      <th>0</th>\n",
              "      <td>2019-01-02</td>\n",
              "      <td>600028.SH</td>\n",
              "      <td>4.4596</td>\n",
              "      <td>4.4684</td>\n",
              "      <td>4.3372</td>\n",
              "      <td>4.3809</td>\n",
              "      <td>2185583.70</td>\n",
              "      <td>2.0</td>\n",
              "      <td>5.502448</td>\n",
              "      <td>4.478342</td>\n",
              "      <td>31.069417</td>\n",
              "      <td>-283.154628</td>\n",
              "      <td>56.713794</td>\n",
              "      <td>-0.185334</td>\n",
              "      <td>1.141945e+06</td>\n",
              "      <td>1.169240e+06</td>\n",
              "      <td>1.067717e+06</td>\n",
              "      <td>4.990395</td>\n",
              "      <td>5.276185</td>\n",
              "      <td>5.487852</td>\n",
              "    </tr>\n",
              "    <tr>\n",
              "      <th>0</th>\n",
              "      <td>2019-01-02</td>\n",
              "      <td>600030.SH</td>\n",
              "      <td>0.0000</td>\n",
              "      <td>0.0000</td>\n",
              "      <td>0.0000</td>\n",
              "      <td>0.0000</td>\n",
              "      <td>0.00</td>\n",
              "      <td>0.0</td>\n",
              "      <td>0.000000</td>\n",
              "      <td>0.000000</td>\n",
              "      <td>0.000000</td>\n",
              "      <td>0.000000</td>\n",
              "      <td>0.000000</td>\n",
              "      <td>0.000000</td>\n",
              "      <td>0.000000e+00</td>\n",
              "      <td>0.000000e+00</td>\n",
              "      <td>0.000000e+00</td>\n",
              "      <td>0.000000</td>\n",
              "      <td>0.000000</td>\n",
              "      <td>0.000000</td>\n",
              "    </tr>\n",
              "  </tbody>\n",
              "</table>\n",
              "</div>"
            ],
            "text/plain": [
              "         date        tic     open  ...  close_20_sma  close_60_sma  close_120_sma\n",
              "0  2019-01-02  600000.SH   8.9589  ...      9.580235      9.716063       9.475849\n",
              "0  2019-01-02  600009.SH  49.6941  ...     49.592915     49.906370      53.102410\n",
              "0  2019-01-02  600016.SH   5.0982  ...      5.238595      5.419815       5.361655\n",
              "0  2019-01-02  600028.SH   4.4596  ...      4.990395      5.276185       5.487852\n",
              "0  2019-01-02  600030.SH   0.0000  ...      0.000000      0.000000       0.000000\n",
              "\n",
              "[5 rows x 20 columns]"
            ]
          },
          "metadata": {
            "tags": []
          },
          "execution_count": 62
        }
      ]
    },
    {
      "cell_type": "markdown",
      "metadata": {
        "id": "98kYgqGmagbD"
      },
      "source": [
        "## 4、初始化环境"
      ]
    },
    {
      "cell_type": "markdown",
      "metadata": {
        "id": "MDlKRLpaa38j"
      },
      "source": [
        "**state_space 由四部分组成 :** <br>\n",
        "1. 当天的资金量\n",
        "2. 每只股票当天的收盘价\n",
        "3. 每只股票当天的持仓量\n",
        "4. 股票数 * 技术指标数<br>\n",
        "5. 当天成交量\n",
        "\n",
        "**reward 的计算方式：**<br>\n",
        "* reward 交易前的总资产-当天交易后的总资产 = 当天交易的手续费\n",
        "* TODO：待改进\n",
        "\n",
        "**action_space 的空间：**<br>\n",
        "  * actions ∈[-100, 100]\n",
        "  * 正数表示买入，负数表示卖出，0表示不进行买入卖出操作\n",
        "  * 绝对值表示买入卖出的数量"
      ]
    },
    {
      "cell_type": "code",
      "metadata": {
        "id": "sCXH6GOcaWtS"
      },
      "source": [
        "# stock_dimension = len(df.tic.unique())\n",
        "# state_space = 1 + 2*stock_dimension + \\\n",
        "#     len(config.TECHNICAL_INDICATORS_LIST)*stock_dimension + stock_dimension\n",
        "# print(\"stock_dimension: {}, state_space: {}\".format(stock_dimension, state_space))"
      ],
      "execution_count": 13,
      "outputs": []
    },
    {
      "cell_type": "code",
      "metadata": {
        "id": "rXLVf1gebTp1",
        "colab": {
          "base_uri": "https://localhost:8080/"
        },
        "outputId": "297dd934-ec49-4c9a-d5b9-4c369d52e22b"
      },
      "source": [
        "# 初始化环境的参数\n",
        "information_cols = config.TECHNICAL_INDICATORS_LIST + [\"close\", \"day\", \"log_volume\", \"change\", \"daily_variance\"]\n",
        "\n",
        "e_train_gym = StockTradingEnvCashpenalty(df = train_data,initial_amount = 1e6,hmax = 5000, \n",
        "                                turbulence_threshold = None, \n",
        "                                currency='￥',\n",
        "                                buy_cost_pct=3e-3,\n",
        "                                sell_cost_pct=3e-3,\n",
        "                                cash_penalty_proportion=0.2,\n",
        "                                cache_indicator_data=True,\n",
        "                                daily_information_cols = information_cols, \n",
        "                                print_verbosity = 500, \n",
        "                                random_start = True)\n",
        "\n",
        "e_trade_gym = StockTradingEnvCashpenalty(df = test_data,initial_amount = 1e6,hmax = 5000, \n",
        "                                turbulence_threshold = None, \n",
        "                                currency='￥',\n",
        "                                buy_cost_pct=3e-3,\n",
        "                                sell_cost_pct=3e-3,\n",
        "                                cash_penalty_proportion=0.2,\n",
        "                                cache_indicator_data=True,\n",
        "                                daily_information_cols = information_cols, \n",
        "                                print_verbosity = 500, \n",
        "                                random_start = False)"
      ],
      "execution_count": 14,
      "outputs": [
        {
          "output_type": "stream",
          "text": [
            "caching data\n",
            "data cached!\n",
            "caching data\n",
            "data cached!\n"
          ],
          "name": "stdout"
        }
      ]
    },
    {
      "cell_type": "code",
      "metadata": {
        "colab": {
          "base_uri": "https://localhost:8080/"
        },
        "id": "KPL6HInvd_yB",
        "outputId": "580ebcb0-836b-4fc3-da1e-b55d467eacb5"
      },
      "source": [
        "# 对环境进行测试\n",
        "observation = e_train_gym.reset() # 初始化环境，observation为环境状态\n",
        "count = 0\n",
        "total_reward = 0\n",
        "for t in range(100):\n",
        "  action = e_train_gym.action_space.sample() # 随机采样动作\n",
        "  observation, reward, done, info = e_train_gym.step(action) # 与环境交互，获得下一个state的值\n",
        "  total_reward += reward\n",
        "  if done:             \n",
        "      break\n",
        "  count+=1\n",
        "  # time.sleep(0.2)      #每次等待 0.2s\n",
        "print(\"count: \", count)\n",
        "print(\"observation: \", observation)\n",
        "print(\"reward: {}, done: {}\".format(total_reward, done))"
      ],
      "execution_count": 17,
      "outputs": [
        {
          "output_type": "stream",
          "text": [
            "/usr/local/lib/python3.7/dist-packages/utils/env_cash_penalty.py:283: RuntimeWarning: invalid value encountered in true_divide\n",
            "  actions = actions / self.closings\n"
          ],
          "name": "stderr"
        },
        {
          "output_type": "stream",
          "text": [
            "count:  100\n",
            "observation:  [344864.5664951675, 0.0, 6281.39753150845, 10556.465293415804, 1888.9401953432287, 1567.637301907643, 760.3572735227943, 805.5705058366193, 9377.341847955347, 6274.3175369885275, 0.0, 220.9047892153185, 9738.131283325441, 3655.473670104796, 83.52019375596721, 4442.4861327072595, 1056.945647723765, 428.9471746557452, 5173.251316949659, 16819.501408601333, 1530.3608179986254, 1934.159245286381, 1450.7894530873896, 13390.499834641752, 0.0, 0.0, 0.0, 1869.381571270129, 0.0, 550.510030160087, 2269.8940033801987, 0.0, 0.0, 0.0, 406.0010651507694, 0.0, 0.0, 5393.481199359897, 1709.965085840975, 1730.8843584895953, 4109.825031469768, 0.0, 0.0, 0.0, 160.39711010459766, 0.0, 0.0, 0.0, 0.0, 0.0, 0.0, 6.658485392601641, 5.157244607398349, 50.22263948946492, 1.0012549260691863, 2.9671881525031574, -0.1566723092111859, 1198284.0324999995, 910302.8511666663, 816084.441666667, 5.907864999999995, 6.682416666666667, 5.893577500000002, 6.2761, 1.0, 12.528216850025121, 11.239413149974858, 46.87376488617161, -23.534742161705115, 5.599582959863475, -0.2992344422814419, 188942.68399999972, 227809.04300000012, 223054.05841666696, 11.88381499999999, 13.160478333333327, 12.568231666666666, 12.2008, 1.0, 3.012778882721386, 2.438571117278617, 48.1801108491026, -14.513490572256675, 11.644076398890618, -0.08196122136211947, 2194993.9809999997, 2153280.5329999984, 2305580.9341666666, 2.7256750000000016, 3.077385000000001, 2.7732949999999987, 2.8334, 1.0, 6.246111078041586, 4.940978921958409, 50.440460197952135, -37.24940122537409, 5.892694404971565, -0.10547626222214657, 939713.2429999998, 1050023.5358333334, 971101.2035833332, 5.593544999999997, 5.693368333333336, 5.074728333333335, 5.5763, 1.0, 15.292801565039518, 12.661418434960495, 47.255019769761915, -23.60547709827725, 11.172799399025774, -0.5141630629911251, 1324115.3524999986, 1520398.0276666682, 1401431.244249999, 13.977110000000007, 15.972829999999995, 14.576618333333325, 14.538, 1.0, 6.124838708000844, 5.037781291999163, 56.48590973439841, 100.05508734766656, 24.130124103088235, -0.00422859372195461, 71003.04299999999, 101452.24883333335, 122604.03366666668, 5.581310000000004, 5.70474666666667, 5.1247525, 6.0965, 1.0, 10.539455509099628, 8.75600449090037, 49.33337298079559, -0.7850410347142266, 1.3476281511000843, -0.22433205999041483, 1041493.4800000023, 1150344.9206666672, 1305484.1695833334, 9.64773, 10.882516666666673, 9.638014166666668, 10.1292, 1.0, 6.55878864657316, 5.130151353426849, 52.139821534018445, 63.37137203547886, 8.308201799314254, -0.023110966665067068, 298501.9575, 426835.7964999996, 350981.7475000001, 5.844470000000005, 6.470351666666662, 5.751517499999998, 6.2988, 1.0, 6.198681955501186, 5.420268044498808, 50.95880058457571, 24.64954366199442, 2.080128866515834, -0.05238199929516174, 1828436.315499999, 2478474.734166666, 2585383.9873333327, 5.809474999999997, 6.283163333333334, 5.943246666666657, 6.1504, 1.0, 10.188468525124923, 7.079571474875078, 58.88267518566021, 117.82537101100452, 17.370528734668667, 0.33395006562314755, 229051.00050000002, 241872.03883333324, 242925.70491666673, 8.634020000000001, 8.476254999999998, 7.218915, 9.5136, 1.0, 11.311739335976531, 8.752540664023483, 59.20247608775531, 97.5342193081872, 31.170247418447577, 0.37696375656041425, 236694.5649999998, 179988.2098333334, 201040.09291666668, 10.032140000000007, 9.170040000000002, 8.567750833333328, 10.5815, 1.0, 5.165725844342196, 4.248904155657808, 61.13149647270107, 93.03738993556613, 24.646159938400668, 0.17161386264918121, 30289.70899999999, 31321.95716666668, 30107.304999999982, 4.707315000000002, 4.357501666666666, 4.124815, 4.939, 1.0, 8.475657057918877, 6.765942942081109, 53.42699534616677, 27.424095536408167, 17.872234968902546, 0.00626333117399458, 166787.9640000001, 250807.34600000005, 229138.52558333325, 7.620799999999993, 7.99873, 7.969453333333329, 8.3292, 1.0, 106.14623411684813, 91.0796858831519, 58.90126969506532, 87.20363016036002, 28.733646955196985, 1.9913652667789705, 23943.422499999986, 29692.058499999996, 31811.33583333333, 98.61296000000002, 95.37267000000001, 85.05432166666668, 102.8986, 1.0, 16.694357406583393, 10.049772593416582, 57.91607064961008, 107.11250721027427, 26.609331500518696, 0.5753681038518454, 262953.88099999976, 261574.37233333327, 228209.35024999996, 13.372064999999989, 14.207293333333334, 12.369622499999997, 15.5852, 1.0, 5.6866986045103305, 4.329271395489674, 57.40551546175125, 135.98581030728025, 18.57904069935786, 0.09581488417455564, 59164.07450000001, 58769.96833333328, 50741.81066666669, 5.007985000000002, 5.065806666666669, 4.916224166666663, 5.5671, 1.0, 12.383390265745104, 9.877149734254894, 53.41269674995681, 47.974207716750065, 9.744037952805538, 0.10848892692247247, 46141.785000000054, 60255.04133333336, 66876.72799999996, 11.13027, 11.441221666666666, 10.779500833333342, 11.7931, 1.0, 3.590036857647882, 3.1355631423521153, 52.7234402499723, 52.112405191540496, 22.063877149752354, -0.015465187319575247, 62403.140999999945, 89704.46499999994, 77916.02775, 3.3627999999999987, 3.5605100000000016, 3.486824166666666, 3.589, 1.0, 3.3917046851605788, 2.8112253148394224, 59.41441740903145, 170.95299908053508, 28.983044964953553, 0.07759148219612033, 138388.26099999982, 160832.1005000003, 245662.18300000008, 3.1014650000000006, 2.947581666666666, 2.595687499999998, 3.3349, 1.0, 2.54411690516223, 2.0241730948377694, 51.09074032323924, 56.90958830887756, 0.4462560040789005, 0.0034323906006625826, 21071.257499999996, 25161.943666666666, 23268.23991666668, 2.2841449999999996, 2.474395, 2.5075333333333303, 2.4404, 1.0, 8.69301237271343, 7.106717627286571, 48.43136374544377, 1.264821751474267, 2.4506101621522527, -0.22624830099326587, 31998.093000000033, 57530.75183333336, 53961.567333333354, 7.899865, 9.120974999999993, 8.722123333333327, 8.3482, 1.0, 12.656302106595495, 10.585797893404477, 46.07239960517993, -21.22673963174472, 13.922356697032825, -0.46235885021851963, 973811.1394999998, 1365687.8218333332, 1677818.7435833325, 11.621049999999986, 13.676493333333344, 12.71356333333333, 12.14, 1.0, 2.686582273230699, 2.0828577267693023, 63.61367886742753, 157.6110934337289, 42.296977590379534, 0.0951278978353165, 100715.13300000006, 132309.46300000005, 153264.21758333326, 2.3847200000000006, 2.2552016666666668, 2.0934491666666672, 2.6099, 1.0, 0.0, 0.0, 0.0, 0.0, 0.0, 0.0, 0.0, 0.0, 0.0, 0.0, 0.0, 0.0, 0.0, 0.0, 0.0, 0.0, 0.0, 0.0, 0.0, 0.0, 0.0, 0.0, 0.0, 0.0, 0.0, 0.0, 0.0, 0.0, 0.0, 0.0, 0.0, 0.0, 0.0, 0.0, 0.0, 0.0, 0.0, 0.0, 0.0, 0.0, 0.0, 0.0, 20.04060116528503, 15.866418834714972, 53.04978805350494, 27.920354955396515, 2.402977839884095, -0.10088991638519573, 367163.25350000005, 471367.24616666674, 505512.2588333333, 17.95351, 18.948643333333337, 16.437664166666664, 19.1208, 1.0, 0.0, 0.0, 0.0, 0.0, 0.0, 0.0, 0.0, 0.0, 0.0, 0.0, 0.0, 0.0, 0.0, 0.0, 9.30798382713646, 6.85557617286354, 53.35882470271493, 36.50518575978336, 2.8312700646050053, -0.06426948357797713, 334318.01750000025, 280274.0316666664, 299441.8570833334, 8.08178, 8.83979, 7.582141666666672, 8.7409, 1.0, 7.709058426528422, 7.17126157347159, 45.808217945172906, -28.620945502188693, 9.288199460125345, -0.1325540819137121, 583582.2385000004, 837232.3995000006, 796277.1605833333, 7.440160000000006, 8.060490000000001, 7.916775000000003, 7.5487, 1.0, 0.0, 0.0, 0.0, 0.0, 0.0, 0.0, 0.0, 0.0, 0.0, 0.0, 0.0, 0.0, 0.0, 0.0, 0.0, 0.0, 0.0, 0.0, 0.0, 0.0, 0.0, 0.0, 0.0, 0.0, 0.0, 0.0, 0.0, 0.0, 0.0, 0.0, 0.0, 0.0, 0.0, 0.0, 0.0, 0.0, 0.0, 0.0, 0.0, 0.0, 0.0, 0.0, 22.679810608120544, 18.26195939187949, 52.21762469585949, 31.345371116703458, 0.8427252702889566, -0.13934752227334712, 360073.7330000001, 344357.5948333334, 365978.06633333315, 20.470885000000017, 22.23733166666669, 19.51830083333332, 21.7181, 1.0, 0.0, 0.0, 0.0, 0.0, 0.0, 0.0, 0.0, 0.0, 0.0, 0.0, 0.0, 0.0, 0.0, 0.0, 0.0, 0.0, 0.0, 0.0, 0.0, 0.0, 0.0, 0.0, 0.0, 0.0, 0.0, 0.0, 0.0, 0.0, 2.916909368363059, 2.547110631636943, 53.03867902513394, 65.8617249424572, 11.150973615536461, 0.0023722097646716733, 1913883.6195, 2897985.6496666665, 2968781.4749166677, 2.732010000000001, 2.9131066666666707, 2.6526008333333317, 2.8689, 1.0, 18.090243067619966, 14.892946932380026, 49.437961117583065, -5.3058943423519676, 18.81436689334376, -0.35471157600638037, 472813.1384999997, 433277.19383333373, 399455.98933333333, 16.491594999999997, 18.618360000000013, 16.171598333333336, 17.2595, 1.0, 24.897066045545813, 21.42078395445421, 52.13224730247345, 45.49584144423287, 0.3867461791080048, -0.07546316517454699, 332180.7820000003, 332254.03183333355, 355467.96091666643, 23.15892500000001, 24.526104999999994, 22.32908333333332, 24.1991, 1.0, 2.9194623639001813, 2.6504576360998167, 39.575018502590254, -27.867950022519512, 18.12090016117675, -0.0527050648909948, 2777006.278500002, 5242728.583714287, 5242728.583714287, 2.784959999999999, 3.0335942857142855, 3.0335942857142855, 2.8496, 1.0, 0.0, 0.0, 0.0, 0.0, 0.0, 0.0, 0.0, 0.0, 0.0, 0.0, 0.0, 0.0, 0.0, 0.0, 0.0, 0.0, 0.0, 0.0, 0.0, 0.0, 0.0, 0.0, 0.0, 0.0, 0.0, 0.0, 0.0, 0.0, 0.0, 0.0, 0.0, 0.0, 0.0, 0.0, 0.0, 0.0, 0.0, 0.0, 0.0, 0.0, 0.0, 0.0, 10.74581500452514, 9.391974995474849, 48.237639051640215, -22.543176124326653, 8.102708393957816, -0.16381824836479275, 450334.8925000002, 703153.6355, 684440.2809166668, 10.068894999999994, 10.707168333333346, 10.01039833333333, 10.1694, 1.0, 0.0, 0.0, 0.0, 0.0, 0.0, 0.0, 0.0, 0.0, 0.0, 0.0, 0.0, 0.0, 0.0, 0.0, 0.0, 0.0, 0.0, 0.0, 0.0, 0.0, 0.0, 0.0, 0.0, 0.0, 0.0, 0.0, 0.0, 0.0, 0.0, 0.0, 0.0, 0.0, 0.0, 0.0, 0.0, 0.0, 0.0, 0.0, 0.0, 0.0, 0.0, 0.0, 0.0, 0.0, 0.0, 0.0, 0.0, 0.0, 0.0, 0.0, 0.0, 0.0, 0.0, 0.0, 0.0, 0.0, 0.0, 0.0, 0.0, 0.0, 0.0, 0.0, 0.0, 0.0, 0.0, 0.0, 0.0, 0.0, 0.0, 0.0, 0.0, 0.0, 0.0, 0.0, 0.0, 0.0, 0.0, 0.0, 0.0, 0.0, 0.0, 0.0, 0.0, 0.0]\n",
            "reward: 0.07991954832530407, done: False\n"
          ],
          "name": "stdout"
        }
      ]
    },
    {
      "cell_type": "code",
      "metadata": {
        "id": "HITGmA4MfxEk"
      },
      "source": [
        "import multiprocessing\n",
        "\n",
        "n_cores = multiprocessing.cpu_count() - 2\n",
        "print(\"using {} cores\".format(n_cores))\n",
        "\n",
        "#this is our training env. It allows multiprocessing\n",
        "env_train, _ = e_train_gym.get_multiproc_env(n = n_cores)\n",
        "\n",
        "#this is our observation environment. It allows full diagnostics\n",
        "env_trade, _ = e_trade_gym.get_sb_env()"
      ],
      "execution_count": 18,
      "outputs": []
    },
    {
      "cell_type": "markdown",
      "metadata": {
        "id": "CIeiCKBngDVz"
      },
      "source": [
        "## 5、开始训练"
      ]
    },
    {
      "cell_type": "markdown",
      "metadata": {
        "id": "ZdUgJvJ41eBh"
      },
      "source": [
        "所用到的框架：stable_baseline3"
      ]
    },
    {
      "cell_type": "code",
      "metadata": {
        "id": "4WYp6VbGmwey"
      },
      "source": [
        "agent = DRLAgent(env = env_train)"
      ],
      "execution_count": 39,
      "outputs": []
    },
    {
      "cell_type": "code",
      "metadata": {
        "colab": {
          "base_uri": "https://localhost:8080/"
        },
        "id": "AHqjcamZgBLH",
        "outputId": "3208632d-2c0e-4cd9-d867-3ed62938e35b"
      },
      "source": [
        "# from torch.nn import Softsign, ReLU\n",
        "ppo_params ={'n_steps': 256, \n",
        "             'ent_coef': 0.0, \n",
        "             'learning_rate': 0.000005, \n",
        "             'batch_size': 256, \n",
        "            'gamma': 0.99}\n",
        "\n",
        "policy_kwargs = {\n",
        "#     \"activation_fn\": ReLU,\n",
        "    \"net_arch\": [1024 for _ in range(10)], \n",
        "#     \"squash_output\": True\n",
        "}\n",
        "\n",
        "model = agent.get_model(\"ppo\",  \n",
        "                        model_kwargs = ppo_params, \n",
        "                        policy_kwargs = policy_kwargs, verbose = 0)\n",
        "\n",
        "# model = model.load(\"scaling_reward.model\", env = env_train)"
      ],
      "execution_count": 40,
      "outputs": [
        {
          "output_type": "stream",
          "text": [
            "{'n_steps': 256, 'ent_coef': 0.0, 'learning_rate': 5e-06, 'batch_size': 1024, 'gamma': 0.99}\n"
          ],
          "name": "stdout"
        },
        {
          "output_type": "stream",
          "text": [
            "/usr/local/lib/python3.7/dist-packages/stable_baselines3/ppo/ppo.py:132: UserWarning: You have specified a mini-batch size of 1024, but because the `RolloutBuffer` is of size `n_steps * n_envs = 256`, after every 0 untruncated mini-batches, there will be a truncated mini-batch of size 256\n",
            "We recommend using a `batch_size` that is a multiple of `n_steps * n_envs`.\n",
            "Info: (n_steps=256 and n_envs=1)\n",
            "  f\"You have specified a mini-batch size of {batch_size},\"\n"
          ],
          "name": "stderr"
        },
        {
          "output_type": "stream",
          "text": [
            "{'n_steps': 256, 'ent_coef': 0.0, 'learning_rate': 5e-06, 'batch_size': 1024, 'gamma': 0.99}\n"
          ],
          "name": "stdout"
        }
      ]
    },
    {
      "cell_type": "code",
      "metadata": {
        "colab": {
          "base_uri": "https://localhost:8080/"
        },
        "id": "Tict0CAZf2vF",
        "outputId": "cd031fe9-3488-47d3-8805-5e5719fc2f73"
      },
      "source": [
        "model.learn(total_timesteps = 50000, \n",
        "            eval_env = env_trade, \n",
        "            eval_freq = 500,\n",
        "            log_interval = 1, \n",
        "            tb_log_name = 'env_cashpenalty_highlr',\n",
        "            n_eval_episodes = 1)   "
      ],
      "execution_count": null,
      "outputs": [
        {
          "output_type": "stream",
          "text": [
            "/usr/local/lib/python3.7/dist-packages/utils/env_cash_penalty.py:283: RuntimeWarning: invalid value encountered in true_divide\n",
            "  actions = actions / self.closings\n"
          ],
          "name": "stderr"
        },
        {
          "output_type": "stream",
          "text": [
            "   2|  91|CASH SHORTAGE  |￥22,525        |￥983,627       |-0.20942% |-1.63730% |2.29%     \n",
            "   3| 113|CASH SHORTAGE  |￥33,615        |￥1,080,190     |-0.09047% |8.01899%  |3.11%     \n",
            "   4| 125|CASH SHORTAGE  |￥33,116        |￥1,028,931     |-0.11499% |2.89314%  |3.22%     \n",
            "   5| 116|CASH SHORTAGE  |￥28,769        |￥1,011,412     |-0.13974% |1.14117%  |2.84%     \n"
          ],
          "name": "stdout"
        },
        {
          "output_type": "stream",
          "text": [
            "/usr/local/lib/python3.7/dist-packages/stable_baselines3/common/evaluation.py:69: UserWarning: Evaluation environment is not wrapped with a ``Monitor`` wrapper. This may result in reporting modified episode lengths and rewards, if other wrappers happen to modify these. Consider wrapping environment first with ``Monitor`` wrapper.\n",
            "  UserWarning,\n"
          ],
          "name": "stderr"
        },
        {
          "output_type": "stream",
          "text": [
            "EPISODE|STEPS|TERMINAL_REASON|CASH           |TOT_ASSETS     |TERMINAL_REWARD_unsc|GAINLOSS_PCT|CASH_PROPORTION\n",
            "   1| 486|Last Date      |￥497,787       |￥1,209,804     |0.04317%  |20.98041% |41.15%    \n",
            "Eval num_timesteps=500, episode_reward=0.14 +/- 0.00\n",
            "Episode length: 487.00 +/- 0.00\n",
            "New best mean reward!\n",
            "   6|  90|CASH SHORTAGE  |￥31,559        |￥972,221       |-0.21185% |-2.77792% |3.25%     \n",
            "   7| 110|CASH SHORTAGE  |￥646           |￥954,221       |-0.21453% |-4.57795% |0.07%     \n",
            "   8| 174|CASH SHORTAGE  |￥5,766         |￥844,136       |-0.18329% |-15.58642%|0.68%     \n",
            "   9|  84|CASH SHORTAGE  |￥37,070        |￥957,042       |-0.23488% |-4.29580% |3.87%     \n",
            "   3| 486|Last Date      |￥230,505       |￥1,368,097     |0.06687%  |36.80968% |16.85%    \n",
            "Eval num_timesteps=1000, episode_reward=0.22 +/- 0.00\n",
            "Episode length: 487.00 +/- 0.00\n",
            "New best mean reward!\n",
            "  10| 138|CASH SHORTAGE  |￥38,990        |￥1,139,275     |-0.03593% |13.92751% |3.42%     \n",
            "  11|  91|CASH SHORTAGE  |￥30,822        |￥930,420       |-0.24708% |-6.95803% |3.31%     \n",
            "  12| 120|CASH SHORTAGE  |￥14,422        |￥885,067       |-0.23127% |-11.49329%|1.63%     \n",
            "  13| 136|CASH SHORTAGE  |￥27,586        |￥942,167       |-0.16079% |-5.78327% |2.93%     \n",
            "  14|  93|CASH SHORTAGE  |￥16,944        |￥964,276       |-0.22756% |-3.57242% |1.76%     \n",
            "   5| 486|Last Date      |￥65,510        |￥1,376,580     |0.03432%  |37.65799% |4.76%     \n",
            "Eval num_timesteps=1500, episode_reward=0.20 +/- 0.00\n",
            "Episode length: 487.00 +/- 0.00\n",
            "  15| 116|CASH SHORTAGE  |￥19,080        |￥1,083,842     |-0.09814% |8.38416%  |1.76%     \n",
            "  16| 132|CASH SHORTAGE  |￥7,318         |￥892,729       |-0.21098% |-10.72708%|0.82%     \n",
            "  17| 122|CASH SHORTAGE  |￥10,159        |￥1,101,261     |-0.08921% |10.12611% |0.92%     \n",
            "   7| 442|CASH SHORTAGE  |￥592           |￥1,232,614     |-0.00301% |23.26137% |0.05%     \n",
            "Eval num_timesteps=2000, episode_reward=0.15 +/- 0.00\n",
            "Episode length: 443.00 +/- 0.00\n",
            "  18| 143|CASH SHORTAGE  |￥16,275        |￥1,191,423     |-0.02139% |19.14232% |1.37%     \n",
            "  19|  83|CASH SHORTAGE  |￥7,867         |￥933,068       |-0.29600% |-6.69322% |0.84%     \n",
            "  20|  66|CASH SHORTAGE  |￥18,652        |￥1,027,964     |-0.24087% |2.79641%  |1.81%     \n",
            "  21|  76|CASH SHORTAGE  |￥17,200        |￥841,773       |-0.40708% |-15.82266%|2.04%     \n",
            "  22| 101|CASH SHORTAGE  |￥16,579        |￥899,333       |-0.26134% |-10.06672%|1.84%     \n",
            "  23| 111|CASH SHORTAGE  |￥14,969        |￥1,020,944     |-0.15160% |2.09437%  |1.47%     \n",
            "   9| 407|CASH SHORTAGE  |￥1,010         |￥1,343,547     |0.01864%  |34.35467% |0.08%     \n",
            "Eval num_timesteps=2500, episode_reward=0.17 +/- 0.00\n",
            "Episode length: 408.00 +/- 0.00\n",
            "  24|  86|CASH SHORTAGE  |￥4,499         |￥965,101       |-0.25979% |-3.48989% |0.47%     \n",
            "  25|  68|CASH SHORTAGE  |￥41,598        |￥930,534       |-0.31467% |-6.94660% |4.47%     \n",
            "  26| 117|CASH SHORTAGE  |￥15,448        |￥1,011,120     |-0.15013% |1.11203%  |1.53%     \n",
            "  27|  77|CASH SHORTAGE  |￥2,954         |￥986,968       |-0.26944% |-1.30315% |0.30%     \n",
            "  28|  72|CASH SHORTAGE  |￥32,698        |￥983,812       |-0.25035% |-1.61880% |3.32%     \n",
            "  29|  89|CASH SHORTAGE  |￥32,859        |￥897,723       |-0.27973% |-10.22773%|3.66%     \n",
            "  11| 357|CASH SHORTAGE  |￥1,572         |￥1,309,013     |0.01366%  |30.90126% |0.12%     \n",
            "Eval num_timesteps=3000, episode_reward=0.16 +/- 0.00\n",
            "Episode length: 358.00 +/- 0.00\n",
            "  30| 138|CASH SHORTAGE  |￥4,848         |￥1,232,100     |-0.00686% |23.20996% |0.39%     \n",
            "  31|  67|CASH SHORTAGE  |￥23,277        |￥945,041       |-0.32939% |-5.49589% |2.46%     \n",
            "  32| 101|CASH SHORTAGE  |￥42,127        |￥919,496       |-0.22008% |-8.05037% |4.58%     \n",
            "  33|  71|CASH SHORTAGE  |￥1,872         |￥927,761       |-0.36045% |-7.22393% |0.20%     \n",
            "  34|  64|CASH SHORTAGE  |￥35,438        |￥986,153       |-0.27444% |-1.38468% |3.59%     \n",
            "  13| 297|CASH SHORTAGE  |￥1,005         |￥1,080,459     |-0.04533% |8.04590%  |0.09%     \n",
            "Eval num_timesteps=3500, episode_reward=0.11 +/- 0.00\n",
            "Episode length: 298.00 +/- 0.00\n",
            "  35|  88|CASH SHORTAGE  |￥503           |￥946,961       |-0.27492% |-5.30386% |0.05%     \n",
            "  36|  78|CASH SHORTAGE  |￥17,237        |￥985,485       |-0.24920% |-1.45152% |1.75%     \n",
            "  37|  89|CASH SHORTAGE  |￥29,109        |￥897,637       |-0.28402% |-10.23634%|3.24%     \n",
            "  38|  57|CASH SHORTAGE  |￥21,709        |￥992,167       |-0.32378% |-0.78326% |2.19%     \n",
            "  39|  80|CASH SHORTAGE  |￥14,532        |￥911,973       |-0.31986% |-8.80265% |1.59%     \n",
            "  40|  68|CASH SHORTAGE  |￥13,750        |￥925,725       |-0.36128% |-7.42746% |1.49%     \n",
            "  15| 235|CASH SHORTAGE  |￥2,859         |￥1,232,111     |-0.00487% |23.21110% |0.23%     \n",
            "Eval num_timesteps=4000, episode_reward=0.10 +/- 0.00\n",
            "Episode length: 236.00 +/- 0.00\n",
            "  41| 143|CASH SHORTAGE  |￥5,183         |￥1,173,995     |-0.03890% |17.39955% |0.44%     \n",
            "  42| 183|CASH SHORTAGE  |￥7,409         |￥1,209,991     |-0.01344% |20.99911% |0.61%     \n",
            "  43| 111|CASH SHORTAGE  |￥9,495         |￥1,072,777     |-0.11917% |7.27768%  |0.89%     \n",
            "  44|  73|CASH SHORTAGE  |￥5,565         |￥941,471       |-0.33049% |-5.85289% |0.59%     \n",
            "  45|  52|CASH SHORTAGE  |￥17,997        |￥1,011,694     |-0.33201% |1.16943%  |1.78%     \n",
            "  46|  52|CASH SHORTAGE  |￥10,355        |￥945,737       |-0.44818% |-5.42634% |1.09%     \n",
            "  17| 210|CASH SHORTAGE  |￥1,921         |￥1,211,220     |-0.01386% |21.12200% |0.16%     \n",
            "Eval num_timesteps=4500, episode_reward=0.10 +/- 0.00\n",
            "Episode length: 211.00 +/- 0.00\n",
            "  47| 124|CASH SHORTAGE  |￥22,528        |￥933,557       |-0.18599% |-6.64429% |2.41%     \n",
            "  48|  89|CASH SHORTAGE  |￥4,328         |￥860,034       |-0.34567% |-13.99663%|0.50%     \n",
            "  49|  57|CASH SHORTAGE  |￥35,417        |￥1,025,928     |-0.25235% |2.59281%  |3.45%     \n",
            "  50|  70|CASH SHORTAGE  |￥16,515        |￥1,008,277     |-0.25266% |0.82769%  |1.64%     \n",
            "  51|  54|CASH SHORTAGE  |￥47,678        |￥969,476       |-0.32730% |-3.05243% |4.92%     \n",
            "  52|  90|CASH SHORTAGE  |￥17,266        |￥931,923       |-0.26355% |-6.80769% |1.85%     \n",
            "  19| 183|CASH SHORTAGE  |￥2,716         |￥1,169,671     |-0.03363% |16.96706% |0.23%     \n",
            "Eval num_timesteps=5000, episode_reward=0.08 +/- 0.00\n",
            "Episode length: 184.00 +/- 0.00\n",
            "  53|  80|CASH SHORTAGE  |￥11,649        |￥919,016       |-0.31642% |-8.09837% |1.27%     \n"
          ],
          "name": "stdout"
        },
        {
          "output_type": "execute_result",
          "data": {
            "text/plain": [
              "<stable_baselines3.ppo.ppo.PPO at 0x7f94ee1a0410>"
            ]
          },
          "metadata": {
            "tags": []
          },
          "execution_count": 19
        }
      ]
    },
    {
      "cell_type": "code",
      "metadata": {
        "id": "MbiiiObKGBsV"
      },
      "source": [
        "model.save(\"scaling_reward.model\")"
      ],
      "execution_count": null,
      "outputs": []
    },
    {
      "cell_type": "markdown",
      "metadata": {
        "id": "xJd8ZIEXibtL"
      },
      "source": [
        "## 6、测试"
      ]
    },
    {
      "cell_type": "code",
      "metadata": {
        "id": "uNlCCDXDibK7"
      },
      "source": [
        "df_account_value, df_actions = DRL_prediction(\n",
        "    model=model, \n",
        "    environment = e_trade_gym)"
      ],
      "execution_count": null,
      "outputs": []
    },
    {
      "cell_type": "code",
      "metadata": {
        "colab": {
          "base_uri": "https://localhost:8080/"
        },
        "id": "FmjLZCsc1_wi",
        "outputId": "f3dd745a-66fe-478c-9d33-ca72da5c2f61"
      },
      "source": [
        "print(\"回测的时间窗口：{} 至 {}\".format(config.End_Trade_Date, config.End_Test_Date))"
      ],
      "execution_count": null,
      "outputs": [
        {
          "output_type": "stream",
          "text": [
            "回测的时间窗口：2019-01-01 至 2021-01-01\n"
          ],
          "name": "stdout"
        }
      ]
    },
    {
      "cell_type": "code",
      "metadata": {
        "id": "tCc9lr4wi8ag"
      },
      "source": [
        "df_account_value.to_csv(\"df_account_value.csv\", index=False)\n",
        "print(\"查看日账户净值\")\n",
        "print(\"开始: \")\n",
        "print(df_account_value.head())\n",
        "print(\"\")\n",
        "print(\"结束: \")\n",
        "print(df_account_value.tail())"
      ],
      "execution_count": null,
      "outputs": []
    },
    {
      "cell_type": "code",
      "metadata": {
        "id": "n-m0wzTsi-7U"
      },
      "source": [
        "print(\"查看每日所作的交易\")\n",
        "df_actions.to_csv(\"df_actions.csv\", index=False)\n",
        "df_actions.tail()"
      ],
      "execution_count": null,
      "outputs": []
    },
    {
      "cell_type": "markdown",
      "metadata": {
        "id": "y7nKxnGijDMT"
      },
      "source": [
        "## 7、回测"
      ]
    },
    {
      "cell_type": "code",
      "metadata": {
        "id": "4AB3Za7ujCyT"
      },
      "source": [
        "print(\"---------------------获取回测结果---------------------\")\n",
        "pref_stats_all = backtest_stats(account_value=df_account_value)\n",
        "\n",
        "# perf_stats_all = pd.DataFrame(perf_stats_all)\n",
        "# now = datetime.datetime.now().strftime('%Y%m%d-%Hh%M')\n",
        "# perf_stats_all.to_csv(\"./\"+config.RESULTS_DIR+\"/perf_stats_all_\"+now+'.csv')"
      ],
      "execution_count": null,
      "outputs": []
    },
    {
      "cell_type": "code",
      "metadata": {
        "id": "Y8xHNlpxkS3Y"
      },
      "source": [
        "# 获取 baseline 的结果\n",
        "print(\"---------------------获取baseline结果---------------------\")\n",
        "baseline_df = get_baseline(config.SSE_50_INDEX, \n",
        "              start=\"20190101\",\n",
        "              end=\"20210101\")\n",
        "baseline_stats = backtest_stats(baseline_df, value_col_name='close')"
      ],
      "execution_count": null,
      "outputs": []
    },
    {
      "cell_type": "code",
      "metadata": {
        "id": "3rxEGprCZNlQ"
      },
      "source": [
        "# 删除 df_account_value 中重复的行\n",
        "df_account_value.drop(df_account_value.index[1], inplace=True)"
      ],
      "execution_count": null,
      "outputs": []
    },
    {
      "cell_type": "code",
      "metadata": {
        "id": "QuZ4lYXPXjmG"
      },
      "source": [
        "baseline_df.head(10)"
      ],
      "execution_count": null,
      "outputs": []
    },
    {
      "cell_type": "code",
      "metadata": {
        "id": "PZOihmmakVrh"
      },
      "source": [
        "print(\"---------------------Plot---------------------\")\n",
        "print(\"和 {} 指数进行比较\".format(config.SSE_50_INDEX[0]))\n",
        "%matplotlib inline\n",
        "backtest_plot(df_account_value,\n",
        "        baseline_start=\"20190101\",\n",
        "        baseline_end=\"20210101\",\n",
        "        baseline_ticker=config.SSE_50_INDEX,\n",
        "      )"
      ],
      "execution_count": null,
      "outputs": []
    },
    {
      "cell_type": "code",
      "metadata": {
        "id": "VmTn_np4uf7U"
      },
      "source": [
        ""
      ],
      "execution_count": null,
      "outputs": []
    }
  ]
}